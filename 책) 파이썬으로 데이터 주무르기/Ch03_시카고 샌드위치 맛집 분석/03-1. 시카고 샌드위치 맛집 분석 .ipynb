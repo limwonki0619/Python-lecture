{
 "cells": [
  {
   "cell_type": "markdown",
   "metadata": {},
   "source": [
    "# **03-1. 시카고 샌드위치 맛집 분석**"
   ]
  },
  {
   "cell_type": "markdown",
   "metadata": {},
   "source": [
    "## **1. 웹 데이터를 가져오는 Beautiful Soup 튜토리얼**\n",
    "\n",
    "- `find` : 이름을 포함하는 하나의 태그(첫번째) 가져오기 \n",
    "- `next_sibling`  : 다음 형제 태그 가져오기 \n",
    "- `previous_sibling` : 이전 형제 태그 가져오기 \n",
    "\n",
    "- `find_all` : 이름을 포함하는 모든 태그 가져오기 \n",
    "- `class_` : class 이름으로 접근 \n",
    "- `id` : id 이름으로 접근 \n",
    "- `get_text()` : 텍스트 가져오기  단, 두 개 이상의 태그에서 모두 추출하지 못함 따라서 for문이 필요함\n",
    "- `link['href]`  : 속성 접근하기 \n",
    "- `link.string` : link 객체에서 텍스를 가져오는 법"
   ]
  },
  {
   "cell_type": "markdown",
   "metadata": {},
   "source": [
    "### **1.1  차근차근 body 태그 찾아가기**"
   ]
  },
  {
   "cell_type": "code",
   "execution_count": 9,
   "metadata": {},
   "outputs": [],
   "source": [
    "from bs4 import BeautifulSoup"
   ]
  },
  {
   "cell_type": "code",
   "execution_count": 10,
   "metadata": {},
   "outputs": [
    {
     "name": "stdout",
     "output_type": "stream",
     "text": [
      "<!DOCTYPE html>\n",
      "<html>\n",
      " <head>\n",
      "  <title>\n",
      "   Very Simple HTML Code by PinkWink\n",
      "  </title>\n",
      " </head>\n",
      " <body>\n",
      "  <div>\n",
      "   <p class=\"inner-text first-item\" id=\"first\">\n",
      "    Happy PinkWink.\n",
      "    <a href=\"http://www.pinkwink.kr\" id=\"pw-link\">\n",
      "     PinkWink\n",
      "    </a>\n",
      "   </p>\n",
      "   <p class=\"inner-text second-item\">\n",
      "    Happy Data Science.\n",
      "    <a href=\"https://www.python.org\" id=\"py-link\">\n",
      "     Python\n",
      "    </a>\n",
      "   </p>\n",
      "  </div>\n",
      "  <p class=\"outer-text first-item\" id=\"second\">\n",
      "   <b>\n",
      "    Data Science is funny.\n",
      "   </b>\n",
      "  </p>\n",
      "  <p class=\"outer-text\">\n",
      "   <b>\n",
      "    All I need is Love.\n",
      "   </b>\n",
      "  </p>\n",
      " </body>\n",
      "</html>\n"
     ]
    }
   ],
   "source": [
    "page = open(\"data/03. test_first.html\", 'r').read()\n",
    "soup = BeautifulSoup(page, 'html.parser')\n",
    "print(soup.prettify())"
   ]
  },
  {
   "cell_type": "code",
   "execution_count": 11,
   "metadata": {},
   "outputs": [
    {
     "data": {
      "text/plain": [
       "['html', '\\n', <html>\n",
       " <head>\n",
       " <title>Very Simple HTML Code by PinkWink</title>\n",
       " </head>\n",
       " <body>\n",
       " <div>\n",
       " <p class=\"inner-text first-item\" id=\"first\">\n",
       "                 Happy PinkWink.\n",
       "                 <a href=\"http://www.pinkwink.kr\" id=\"pw-link\">PinkWink</a>\n",
       " </p>\n",
       " <p class=\"inner-text second-item\">\n",
       "                 Happy Data Science.\n",
       "                 <a href=\"https://www.python.org\" id=\"py-link\">Python</a>\n",
       " </p>\n",
       " </div>\n",
       " <p class=\"outer-text first-item\" id=\"second\">\n",
       " <b>\n",
       "                 Data Science is funny.\n",
       "             </b>\n",
       " </p>\n",
       " <p class=\"outer-text\">\n",
       " <b>\n",
       "                 All I need is Love.\n",
       "             </b>\n",
       " </p>\n",
       " </body>\n",
       " </html>]"
      ]
     },
     "execution_count": 11,
     "metadata": {},
     "output_type": "execute_result"
    }
   ],
   "source": [
    "list(soup.children)"
   ]
  },
  {
   "cell_type": "code",
   "execution_count": 12,
   "metadata": {},
   "outputs": [
    {
     "data": {
      "text/plain": [
       "<html>\n",
       "<head>\n",
       "<title>Very Simple HTML Code by PinkWink</title>\n",
       "</head>\n",
       "<body>\n",
       "<div>\n",
       "<p class=\"inner-text first-item\" id=\"first\">\n",
       "                Happy PinkWink.\n",
       "                <a href=\"http://www.pinkwink.kr\" id=\"pw-link\">PinkWink</a>\n",
       "</p>\n",
       "<p class=\"inner-text second-item\">\n",
       "                Happy Data Science.\n",
       "                <a href=\"https://www.python.org\" id=\"py-link\">Python</a>\n",
       "</p>\n",
       "</div>\n",
       "<p class=\"outer-text first-item\" id=\"second\">\n",
       "<b>\n",
       "                Data Science is funny.\n",
       "            </b>\n",
       "</p>\n",
       "<p class=\"outer-text\">\n",
       "<b>\n",
       "                All I need is Love.\n",
       "            </b>\n",
       "</p>\n",
       "</body>\n",
       "</html>"
      ]
     },
     "execution_count": 12,
     "metadata": {},
     "output_type": "execute_result"
    }
   ],
   "source": [
    "html = list(soup.children)[2]  # html 태그에 들어가기 \n",
    "html"
   ]
  },
  {
   "cell_type": "code",
   "execution_count": 13,
   "metadata": {},
   "outputs": [
    {
     "data": {
      "text/plain": [
       "['\\n', <head>\n",
       " <title>Very Simple HTML Code by PinkWink</title>\n",
       " </head>, '\\n', <body>\n",
       " <div>\n",
       " <p class=\"inner-text first-item\" id=\"first\">\n",
       "                 Happy PinkWink.\n",
       "                 <a href=\"http://www.pinkwink.kr\" id=\"pw-link\">PinkWink</a>\n",
       " </p>\n",
       " <p class=\"inner-text second-item\">\n",
       "                 Happy Data Science.\n",
       "                 <a href=\"https://www.python.org\" id=\"py-link\">Python</a>\n",
       " </p>\n",
       " </div>\n",
       " <p class=\"outer-text first-item\" id=\"second\">\n",
       " <b>\n",
       "                 Data Science is funny.\n",
       "             </b>\n",
       " </p>\n",
       " <p class=\"outer-text\">\n",
       " <b>\n",
       "                 All I need is Love.\n",
       "             </b>\n",
       " </p>\n",
       " </body>, '\\n']"
      ]
     },
     "execution_count": 13,
     "metadata": {},
     "output_type": "execute_result"
    }
   ],
   "source": [
    "list(html.children)"
   ]
  },
  {
   "cell_type": "code",
   "execution_count": 14,
   "metadata": {},
   "outputs": [
    {
     "data": {
      "text/plain": [
       "<body>\n",
       "<div>\n",
       "<p class=\"inner-text first-item\" id=\"first\">\n",
       "                Happy PinkWink.\n",
       "                <a href=\"http://www.pinkwink.kr\" id=\"pw-link\">PinkWink</a>\n",
       "</p>\n",
       "<p class=\"inner-text second-item\">\n",
       "                Happy Data Science.\n",
       "                <a href=\"https://www.python.org\" id=\"py-link\">Python</a>\n",
       "</p>\n",
       "</div>\n",
       "<p class=\"outer-text first-item\" id=\"second\">\n",
       "<b>\n",
       "                Data Science is funny.\n",
       "            </b>\n",
       "</p>\n",
       "<p class=\"outer-text\">\n",
       "<b>\n",
       "                All I need is Love.\n",
       "            </b>\n",
       "</p>\n",
       "</body>"
      ]
     },
     "execution_count": 14,
     "metadata": {},
     "output_type": "execute_result"
    }
   ],
   "source": [
    "# body 태그 내용 들어가기 \n",
    "\n",
    "body = list(html.children)[3]\n",
    "body"
   ]
  },
  {
   "cell_type": "markdown",
   "metadata": {},
   "source": [
    "### **1.2 body 태그 한번에 찾아가기**"
   ]
  },
  {
   "cell_type": "code",
   "execution_count": 15,
   "metadata": {},
   "outputs": [
    {
     "data": {
      "text/plain": [
       "<body>\n",
       "<div>\n",
       "<p class=\"inner-text first-item\" id=\"first\">\n",
       "                Happy PinkWink.\n",
       "                <a href=\"http://www.pinkwink.kr\" id=\"pw-link\">PinkWink</a>\n",
       "</p>\n",
       "<p class=\"inner-text second-item\">\n",
       "                Happy Data Science.\n",
       "                <a href=\"https://www.python.org\" id=\"py-link\">Python</a>\n",
       "</p>\n",
       "</div>\n",
       "<p class=\"outer-text first-item\" id=\"second\">\n",
       "<b>\n",
       "                Data Science is funny.\n",
       "            </b>\n",
       "</p>\n",
       "<p class=\"outer-text\">\n",
       "<b>\n",
       "                All I need is Love.\n",
       "            </b>\n",
       "</p>\n",
       "</body>"
      ]
     },
     "execution_count": 15,
     "metadata": {},
     "output_type": "execute_result"
    }
   ],
   "source": [
    "soup.body "
   ]
  },
  {
   "cell_type": "code",
   "execution_count": 16,
   "metadata": {},
   "outputs": [
    {
     "data": {
      "text/plain": [
       "['\\n', <div>\n",
       " <p class=\"inner-text first-item\" id=\"first\">\n",
       "                 Happy PinkWink.\n",
       "                 <a href=\"http://www.pinkwink.kr\" id=\"pw-link\">PinkWink</a>\n",
       " </p>\n",
       " <p class=\"inner-text second-item\">\n",
       "                 Happy Data Science.\n",
       "                 <a href=\"https://www.python.org\" id=\"py-link\">Python</a>\n",
       " </p>\n",
       " </div>, '\\n', <p class=\"outer-text first-item\" id=\"second\">\n",
       " <b>\n",
       "                 Data Science is funny.\n",
       "             </b>\n",
       " </p>, '\\n', <p class=\"outer-text\">\n",
       " <b>\n",
       "                 All I need is Love.\n",
       "             </b>\n",
       " </p>, '\\n']"
      ]
     },
     "execution_count": 16,
     "metadata": {},
     "output_type": "execute_result"
    }
   ],
   "source": [
    "# body 태그의 자식들 \n",
    "\n",
    "list(body.children)"
   ]
  },
  {
   "cell_type": "markdown",
   "metadata": {},
   "source": [
    "### **1.3 태그 찾아가기**\n",
    "\n",
    "-  find : **태그** 하나만 찾기 (첫 번쨰) // *R에서 rvest 패키지의 heml_node와 유사* \n",
    "- find_all : 해당 **태그** 모두 찾기       // *R에서 rvest 패키지의 heml_nodes와 유사*"
   ]
  },
  {
   "cell_type": "code",
   "execution_count": 17,
   "metadata": {},
   "outputs": [
    {
     "data": {
      "text/plain": [
       "[<p class=\"inner-text first-item\" id=\"first\">\n",
       "                 Happy PinkWink.\n",
       "                 <a href=\"http://www.pinkwink.kr\" id=\"pw-link\">PinkWink</a>\n",
       " </p>, <p class=\"inner-text second-item\">\n",
       "                 Happy Data Science.\n",
       "                 <a href=\"https://www.python.org\" id=\"py-link\">Python</a>\n",
       " </p>, <p class=\"outer-text first-item\" id=\"second\">\n",
       " <b>\n",
       "                 Data Science is funny.\n",
       "             </b>\n",
       " </p>, <p class=\"outer-text\">\n",
       " <b>\n",
       "                 All I need is Love.\n",
       "             </b>\n",
       " </p>]"
      ]
     },
     "execution_count": 17,
     "metadata": {},
     "output_type": "execute_result"
    }
   ],
   "source": [
    "soup.find_all('p')"
   ]
  },
  {
   "cell_type": "markdown",
   "metadata": {},
   "source": [
    "### **1.3.1 class 찾아가기**\n",
    "\n",
    "- **class_**"
   ]
  },
  {
   "cell_type": "code",
   "execution_count": 22,
   "metadata": {},
   "outputs": [
    {
     "data": {
      "text/plain": [
       "[<p class=\"outer-text first-item\" id=\"second\">\n",
       " <b>\n",
       "                 Data Science is funny.\n",
       "             </b>\n",
       " </p>, <p class=\"outer-text\">\n",
       " <b>\n",
       "                 All I need is Love.\n",
       "             </b>\n",
       " </p>]"
      ]
     },
     "execution_count": 22,
     "metadata": {},
     "output_type": "execute_result"
    }
   ],
   "source": [
    "# p 태그의 class 이름이 outer-text인 것을 찾아가기\n",
    "\n",
    "soup.find_all('p', class_ = 'outer-text')"
   ]
  },
  {
   "cell_type": "code",
   "execution_count": 24,
   "metadata": {},
   "outputs": [
    {
     "data": {
      "text/plain": [
       "[<p class=\"outer-text first-item\" id=\"second\">\n",
       " <b>\n",
       "                 Data Science is funny.\n",
       "             </b>\n",
       " </p>, <p class=\"outer-text\">\n",
       " <b>\n",
       "                 All I need is Love.\n",
       "             </b>\n",
       " </p>]"
      ]
     },
     "execution_count": 24,
     "metadata": {},
     "output_type": "execute_result"
    }
   ],
   "source": [
    "# class 이름이 outer-text인 것 찾아가기\n",
    "\n",
    "soup.find_all(class_ = 'outer-text')"
   ]
  },
  {
   "cell_type": "markdown",
   "metadata": {},
   "source": [
    "### **1.3.2 id 찾아가기**\n",
    "\n",
    "- id"
   ]
  },
  {
   "cell_type": "code",
   "execution_count": 26,
   "metadata": {},
   "outputs": [
    {
     "data": {
      "text/plain": [
       "[<p class=\"inner-text first-item\" id=\"first\">\n",
       "                 Happy PinkWink.\n",
       "                 <a href=\"http://www.pinkwink.kr\" id=\"pw-link\">PinkWink</a>\n",
       " </p>]"
      ]
     },
     "execution_count": 26,
     "metadata": {},
     "output_type": "execute_result"
    }
   ],
   "source": [
    "soup.find_all(id='first')  # id가 'first'인 태그 찾기"
   ]
  },
  {
   "cell_type": "markdown",
   "metadata": {},
   "source": [
    "### **1.3.3 다음 태그로 넘어가기**\n",
    "\n",
    "- next_sibling : 다음 형제 태그\n",
    "- previous.sibling : 이전 형제 태그"
   ]
  },
  {
   "cell_type": "code",
   "execution_count": 60,
   "metadata": {},
   "outputs": [
    {
     "data": {
      "text/plain": [
       "[<p class=\"inner-text first-item\" id=\"first\">\n",
       "                 Happy PinkWink.\n",
       "                 <a href=\"http://www.pinkwink.kr\" id=\"pw-link\">PinkWink</a>\n",
       " </p>, <p class=\"inner-text second-item\">\n",
       "                 Happy Data Science.\n",
       "                 <a href=\"https://www.python.org\" id=\"py-link\">Python</a>\n",
       " </p>]"
      ]
     },
     "execution_count": 60,
     "metadata": {},
     "output_type": "execute_result"
    }
   ],
   "source": [
    "soup.find_all(class_ = 'inner-text')"
   ]
  },
  {
   "cell_type": "code",
   "execution_count": 37,
   "metadata": {},
   "outputs": [
    {
     "data": {
      "text/plain": [
       "<p class=\"inner-text second-item\">\n",
       "                Happy Data Science.\n",
       "                <a href=\"https://www.python.org\" id=\"py-link\">Python</a>\n",
       "</p>"
      ]
     },
     "execution_count": 37,
     "metadata": {},
     "output_type": "execute_result"
    }
   ],
   "source": [
    "soup.find(class_ = 'inner-text first-item').next_sibling.next_sibling  # 첫 번째 요소에서 다음다음으로 넘어가 second-item 태그에 접근"
   ]
  },
  {
   "cell_type": "code",
   "execution_count": 57,
   "metadata": {},
   "outputs": [
    {
     "data": {
      "text/plain": [
       "<p class=\"inner-text second-item\">\n",
       "                Happy Data Science.\n",
       "                <a href=\"https://www.python.org\" id=\"py-link\">Python</a>\n",
       "</p>"
      ]
     },
     "execution_count": 57,
     "metadata": {},
     "output_type": "execute_result"
    }
   ],
   "source": [
    "soup.find(class_ = 'inner-text second-item')"
   ]
  },
  {
   "cell_type": "code",
   "execution_count": 42,
   "metadata": {},
   "outputs": [
    {
     "data": {
      "text/plain": [
       "<p class=\"inner-text first-item\" id=\"first\">\n",
       "                Happy PinkWink.\n",
       "                <a href=\"http://www.pinkwink.kr\" id=\"pw-link\">PinkWink</a>\n",
       "</p>"
      ]
     },
     "execution_count": 42,
     "metadata": {},
     "output_type": "execute_result"
    }
   ],
   "source": [
    "# inner-text second-item의 이전 형제 태그 찾기 \n",
    "\n",
    "soup.find(class_ = 'inner-text second-item').previous_sibling.previous_sibling"
   ]
  },
  {
   "cell_type": "markdown",
   "metadata": {},
   "source": [
    "### **1.3.4 text 추출하기**"
   ]
  },
  {
   "cell_type": "code",
   "execution_count": 44,
   "metadata": {},
   "outputs": [
    {
     "name": "stdout",
     "output_type": "stream",
     "text": [
      "\n",
      "                Happy PinkWink.\n",
      "                PinkWink\n",
      "\n",
      "\n",
      "                Happy Data Science.\n",
      "                Python\n",
      "\n",
      "\n",
      "\n",
      "                Data Science is funny.\n",
      "            \n",
      "\n",
      "\n",
      "\n",
      "                All I need is Love.\n",
      "            \n",
      "\n"
     ]
    }
   ],
   "source": [
    "for each_tag in soup.find_all('p'):  # p 태그 전체에서 텍스트 가져오기 \n",
    "    print(each_tag.get_text())"
   ]
  },
  {
   "cell_type": "markdown",
   "metadata": {},
   "source": [
    "### **1.3.5 link 추출하기**"
   ]
  },
  {
   "cell_type": "code",
   "execution_count": 48,
   "metadata": {},
   "outputs": [
    {
     "data": {
      "text/plain": [
       "[<a href=\"http://www.pinkwink.kr\" id=\"pw-link\">PinkWink</a>,\n",
       " <a href=\"https://www.python.org\" id=\"py-link\">Python</a>]"
      ]
     },
     "execution_count": 48,
     "metadata": {},
     "output_type": "execute_result"
    }
   ],
   "source": [
    "links = soup.find_all('a')\n",
    "links"
   ]
  },
  {
   "cell_type": "code",
   "execution_count": 50,
   "metadata": {},
   "outputs": [
    {
     "data": {
      "text/plain": [
       "'http://www.pinkwink.kr'"
      ]
     },
     "execution_count": 50,
     "metadata": {},
     "output_type": "execute_result"
    }
   ],
   "source": [
    "links[0]['href']"
   ]
  },
  {
   "cell_type": "code",
   "execution_count": 51,
   "metadata": {},
   "outputs": [
    {
     "name": "stdout",
     "output_type": "stream",
     "text": [
      "PinkWink -> http://www.pinkwink.kr\n",
      "Python -> https://www.python.org\n"
     ]
    }
   ],
   "source": [
    "for link in links:\n",
    "    href = link['href']\n",
    "    text = link.string  # 객체의 속성을 가져오는 string or bs4의 메서드 link.get_text()\n",
    "    print(text + ' -> ' + href)"
   ]
  },
  {
   "cell_type": "markdown",
   "metadata": {},
   "source": [
    "## **2. 네이버 환율 데이터 직접 가져오기**"
   ]
  },
  {
   "cell_type": "markdown",
   "metadata": {},
   "source": [
    "### **2.1 url로 페이지 읽기**"
   ]
  },
  {
   "cell_type": "code",
   "execution_count": 67,
   "metadata": {},
   "outputs": [],
   "source": [
    "from urllib.request import urlopen\n",
    "\n",
    "url = \"https://finance.naver.com/marketindex/\"\n",
    "page = urlopen(url)\n",
    "soup = BeautifulSoup(page, 'html.parser')"
   ]
  },
  {
   "cell_type": "code",
   "execution_count": 69,
   "metadata": {},
   "outputs": [],
   "source": [
    "# print(soup.prettify())"
   ]
  },
  {
   "cell_type": "code",
   "execution_count": 72,
   "metadata": {},
   "outputs": [
    {
     "data": {
      "text/plain": [
       "[<span class=\"value\">1,218.90</span>,\n",
       " <span class=\"value\">1,151.54</span>,\n",
       " <span class=\"value\">1,370.41</span>,\n",
       " <span class=\"value\">171.01</span>,\n",
       " <span class=\"value\">106.0400</span>,\n",
       " <span class=\"value\">1.1183</span>,\n",
       " <span class=\"value\">1.2140</span>,\n",
       " <span class=\"value\">97.3000</span>,\n",
       " <span class=\"value\">54.69</span>,\n",
       " <span class=\"value\">1493.93</span>,\n",
       " <span class=\"value\">1464.6</span>,\n",
       " <span class=\"value\">57611.48</span>]"
      ]
     },
     "execution_count": 72,
     "metadata": {},
     "output_type": "execute_result"
    }
   ],
   "source": [
    "soup.find_all('span', class_ = 'value')  # span 태그에 있는 value Class "
   ]
  },
  {
   "cell_type": "code",
   "execution_count": 76,
   "metadata": {},
   "outputs": [
    {
     "name": "stdout",
     "output_type": "stream",
     "text": [
      "1,218.90\n",
      "1,151.54\n",
      "1,370.41\n",
      "171.01\n",
      "106.0400\n",
      "1.1183\n",
      "1.2140\n",
      "97.3000\n",
      "54.69\n",
      "1493.93\n",
      "1464.6\n",
      "57611.48\n"
     ]
    }
   ],
   "source": [
    "for exr in soup.find_all('span', class_ = 'value'):\n",
    "    print(exr.string)  # exr.geT_texT()"
   ]
  },
  {
   "cell_type": "markdown",
   "metadata": {},
   "source": [
    "## **3. 실전 : 시카고 샌드위치 맛집 소개 사이트에 접근하기**"
   ]
  },
  {
   "cell_type": "markdown",
   "metadata": {},
   "source": [
    "### **3.1 사이트에서 원하는 데이터 접근하기**"
   ]
  },
  {
   "cell_type": "code",
   "execution_count": 77,
   "metadata": {},
   "outputs": [],
   "source": [
    "from bs4 import BeautifulSoup \n",
    "from urllib.request import urlopen\n",
    "\n",
    "url_base = 'http://www.chicagomag.com'\n",
    "url_sub = '/Chicago-Magazine/November-2012/Best-Sandwiches-Chicago/'\n",
    "url = url_base + url_sub\n",
    "\n",
    "html = urlopen(url)\n",
    "soup = BeautifulSoup(html, 'html.parser')"
   ]
  },
  {
   "cell_type": "code",
   "execution_count": 80,
   "metadata": {},
   "outputs": [],
   "source": [
    "# print(soup.prettify())"
   ]
  },
  {
   "cell_type": "code",
   "execution_count": 87,
   "metadata": {},
   "outputs": [
    {
     "data": {
      "text/plain": [
       "<div class=\"sammy\" style=\"position: relative;\">\n",
       "<div class=\"sammyRank\">1</div>\n",
       "<div class=\"sammyListing\"><a href=\"/Chicago-Magazine/November-2012/Best-Sandwiches-in-Chicago-Old-Oak-Tap-BLT/\"><b>BLT</b><br>\n",
       "Old Oak Tap<br>\n",
       "<em>Read more</em> </br></br></a></div>\n",
       "</div>"
      ]
     },
     "execution_count": 87,
     "metadata": {},
     "output_type": "execute_result"
    }
   ],
   "source": [
    "soup.find_all('div', class_ = 'sammy')[0]"
   ]
  },
  {
   "cell_type": "code",
   "execution_count": 89,
   "metadata": {},
   "outputs": [
    {
     "data": {
      "text/plain": [
       "50"
      ]
     },
     "execution_count": 89,
     "metadata": {},
     "output_type": "execute_result"
    }
   ],
   "source": [
    "len(soup.find_all('div', class_ = 'sammy'))"
   ]
  },
  {
   "cell_type": "markdown",
   "metadata": {},
   "source": [
    "### **3.2 원하는 데이터 추출하고 정리하기**\n",
    "\n",
    "- find_all로 찾은 결과는 `bs4.element.Tag`라는 형태로 나타남.\n",
    "- 이런 형태의 경우 해당 변수에 다시 태그로 찾는 명령(`find` 또는 `find_all`)를 사용할 수 있다.\n",
    "- 즉, 메서드 체이닝이 가능하다. \n",
    "- 단, 각각의 태그에만 가능"
   ]
  },
  {
   "cell_type": "code",
   "execution_count": 90,
   "metadata": {},
   "outputs": [
    {
     "data": {
      "text/plain": [
       "bs4.element.Tag"
      ]
     },
     "execution_count": 90,
     "metadata": {},
     "output_type": "execute_result"
    }
   ],
   "source": [
    "tmp_one = soup.find_all('div', class_ = 'sammy')[0]\n",
    "type(tmp_one)"
   ]
  },
  {
   "cell_type": "code",
   "execution_count": 105,
   "metadata": {},
   "outputs": [
    {
     "data": {
      "text/plain": [
       "<b>BLT</b>"
      ]
     },
     "execution_count": 105,
     "metadata": {},
     "output_type": "execute_result"
    }
   ],
   "source": [
    "tmp_one.find('b')  # 이 경우에도 마찬가지로 태그 각각 하나씩만 접근 가능"
   ]
  },
  {
   "cell_type": "code",
   "execution_count": 106,
   "metadata": {},
   "outputs": [
    {
     "data": {
      "text/plain": [
       "'BLT'"
      ]
     },
     "execution_count": 106,
     "metadata": {},
     "output_type": "execute_result"
    }
   ],
   "source": [
    "tmp_one.find('b').string  # 마찬기지로 get_text() 사용가능 "
   ]
  },
  {
   "cell_type": "code",
   "execution_count": 102,
   "metadata": {},
   "outputs": [
    {
     "data": {
      "text/plain": [
       "<div class=\"sammyRank\">1</div>"
      ]
     },
     "execution_count": 102,
     "metadata": {},
     "output_type": "execute_result"
    }
   ],
   "source": [
    "tmp_one.find(class_ = 'sammyRank')"
   ]
  },
  {
   "cell_type": "code",
   "execution_count": 103,
   "metadata": {},
   "outputs": [
    {
     "data": {
      "text/plain": [
       "'BLT\\r\\nOld Oak Tap\\nRead more '"
      ]
     },
     "execution_count": 103,
     "metadata": {},
     "output_type": "execute_result"
    }
   ],
   "source": [
    "tmp_one.find(class_ = 'sammyListing').get_text()"
   ]
  },
  {
   "cell_type": "code",
   "execution_count": 104,
   "metadata": {},
   "outputs": [
    {
     "data": {
      "text/plain": [
       "'/Chicago-Magazine/November-2012/Best-Sandwiches-in-Chicago-Old-Oak-Tap-BLT/'"
      ]
     },
     "execution_count": 104,
     "metadata": {},
     "output_type": "execute_result"
    }
   ],
   "source": [
    "tmp_one.find('a')['href']"
   ]
  },
  {
   "cell_type": "code",
   "execution_count": 118,
   "metadata": {},
   "outputs": [
    {
     "data": {
      "text/plain": [
       "('BLT', 'Old Oak Tap')"
      ]
     },
     "execution_count": 118,
     "metadata": {},
     "output_type": "execute_result"
    }
   ],
   "source": [
    "import re\n",
    "\n",
    "tmp_string = tmp_one.find(class_ = 'sammyListing').get_text()\n",
    "\n",
    "menu, cafe, _ = re.split(('\\n|\\r\\n'), tmp_string)\n",
    "\n",
    "menu, cafe"
   ]
  },
  {
   "cell_type": "code",
   "execution_count": 164,
   "metadata": {},
   "outputs": [
    {
     "data": {
      "application/vnd.jupyter.widget-view+json": {
       "model_id": "9ffb6362549b404faf9696b460ab4ba4",
       "version_major": 2,
       "version_minor": 0
      },
      "text/plain": [
       "HBox(children=(IntProgress(value=0, max=50), HTML(value='')))"
      ]
     },
     "metadata": {},
     "output_type": "display_data"
    }
   ],
   "source": [
    "from tqdm import tqdm_notebook\n",
    "from urllib.parse import urljoin\n",
    "\n",
    "rank = []\n",
    "main_menu = []\n",
    "cafe_name = []\n",
    "url_add = []\n",
    "\n",
    "list_soup = soup.find_all('div', 'sammy')\n",
    "bar_total = tqdm_notebook(list_soup)\n",
    "\n",
    "for item in bar_total:\n",
    "    rank.append(item.find(class_='sammyRank').get_text())\n",
    "    \n",
    "    tmp_string = item.find(class_='sammyListing').get_text()\n",
    "\n",
    "    main_menu.append(re.split(('\\n|\\r\\n'), tmp_string)[0])\n",
    "    cafe_name.append(re.split(('\\n|\\r\\n'), tmp_string)[1])\n",
    "    \n",
    "    url_add.append(urljoin(url_base, item.find('a')['href']))\n",
    "    \n",
    "    time.sleep(0.05)"
   ]
  },
  {
   "cell_type": "code",
   "execution_count": 165,
   "metadata": {},
   "outputs": [
    {
     "data": {
      "text/html": [
       "<div>\n",
       "<style scoped>\n",
       "    .dataframe tbody tr th:only-of-type {\n",
       "        vertical-align: middle;\n",
       "    }\n",
       "\n",
       "    .dataframe tbody tr th {\n",
       "        vertical-align: top;\n",
       "    }\n",
       "\n",
       "    .dataframe thead th {\n",
       "        text-align: right;\n",
       "    }\n",
       "</style>\n",
       "<table border=\"1\" class=\"dataframe\">\n",
       "  <thead>\n",
       "    <tr style=\"text-align: right;\">\n",
       "      <th></th>\n",
       "      <th>Rank</th>\n",
       "      <th>Cafe</th>\n",
       "      <th>Menu</th>\n",
       "      <th>URL</th>\n",
       "    </tr>\n",
       "  </thead>\n",
       "  <tbody>\n",
       "    <tr>\n",
       "      <th>0</th>\n",
       "      <td>1</td>\n",
       "      <td>Old Oak Tap</td>\n",
       "      <td>BLT</td>\n",
       "      <td>http://www.chicagomag.com/Chicago-Magazine/Nov...</td>\n",
       "    </tr>\n",
       "    <tr>\n",
       "      <th>1</th>\n",
       "      <td>2</td>\n",
       "      <td>Au Cheval</td>\n",
       "      <td>Fried Bologna</td>\n",
       "      <td>http://www.chicagomag.com/Chicago-Magazine/Nov...</td>\n",
       "    </tr>\n",
       "    <tr>\n",
       "      <th>2</th>\n",
       "      <td>3</td>\n",
       "      <td>Xoco</td>\n",
       "      <td>Woodland Mushroom</td>\n",
       "      <td>http://www.chicagomag.com/Chicago-Magazine/Nov...</td>\n",
       "    </tr>\n",
       "    <tr>\n",
       "      <th>3</th>\n",
       "      <td>4</td>\n",
       "      <td>Al’s Deli</td>\n",
       "      <td>Roast Beef</td>\n",
       "      <td>http://www.chicagomag.com/Chicago-Magazine/Nov...</td>\n",
       "    </tr>\n",
       "    <tr>\n",
       "      <th>4</th>\n",
       "      <td>5</td>\n",
       "      <td>Publican Quality Meats</td>\n",
       "      <td>PB&amp;L</td>\n",
       "      <td>http://www.chicagomag.com/Chicago-Magazine/Nov...</td>\n",
       "    </tr>\n",
       "    <tr>\n",
       "      <th>5</th>\n",
       "      <td>6</td>\n",
       "      <td>Hendrickx Belgian Bread Crafter</td>\n",
       "      <td>Belgian Chicken Curry Salad</td>\n",
       "      <td>http://www.chicagomag.com/Chicago-Magazine/Nov...</td>\n",
       "    </tr>\n",
       "    <tr>\n",
       "      <th>6</th>\n",
       "      <td>7</td>\n",
       "      <td>Acadia</td>\n",
       "      <td>Lobster Roll</td>\n",
       "      <td>http://www.chicagomag.com/Chicago-Magazine/Nov...</td>\n",
       "    </tr>\n",
       "    <tr>\n",
       "      <th>7</th>\n",
       "      <td>8</td>\n",
       "      <td>Birchwood Kitchen</td>\n",
       "      <td>Smoked Salmon Salad</td>\n",
       "      <td>http://www.chicagomag.com/Chicago-Magazine/Nov...</td>\n",
       "    </tr>\n",
       "    <tr>\n",
       "      <th>8</th>\n",
       "      <td>9</td>\n",
       "      <td>Cemitas Puebla</td>\n",
       "      <td>Atomica Cemitas</td>\n",
       "      <td>http://www.chicagomag.com/Chicago-Magazine/Nov...</td>\n",
       "    </tr>\n",
       "    <tr>\n",
       "      <th>9</th>\n",
       "      <td>10</td>\n",
       "      <td>Nana</td>\n",
       "      <td>Grilled Laughing Bird Shrimp and Fried Po’ Boy</td>\n",
       "      <td>http://www.chicagomag.com/Chicago-Magazine/Nov...</td>\n",
       "    </tr>\n",
       "    <tr>\n",
       "      <th>10</th>\n",
       "      <td>11</td>\n",
       "      <td>Lula Cafe</td>\n",
       "      <td>Ham and Raclette Panino</td>\n",
       "      <td>http://www.chicagomag.com/Chicago-Magazine/Nov...</td>\n",
       "    </tr>\n",
       "    <tr>\n",
       "      <th>11</th>\n",
       "      <td>12</td>\n",
       "      <td>Ricobene’s</td>\n",
       "      <td>Breaded Steak</td>\n",
       "      <td>http://www.chicagomag.com/Chicago-Magazine/Nov...</td>\n",
       "    </tr>\n",
       "    <tr>\n",
       "      <th>12</th>\n",
       "      <td>13</td>\n",
       "      <td>Frog n Snail</td>\n",
       "      <td>The Hawkeye</td>\n",
       "      <td>http://www.chicagomag.com/Chicago-Magazine/Nov...</td>\n",
       "    </tr>\n",
       "    <tr>\n",
       "      <th>13</th>\n",
       "      <td>14</td>\n",
       "      <td>Crosby’s Kitchen</td>\n",
       "      <td>Chicken Dip</td>\n",
       "      <td>http://www.chicagomag.com/Chicago-Magazine/Nov...</td>\n",
       "    </tr>\n",
       "    <tr>\n",
       "      <th>14</th>\n",
       "      <td>15</td>\n",
       "      <td>Longman &amp; Eagle</td>\n",
       "      <td>Wild Boar Sloppy Joe</td>\n",
       "      <td>http://www.chicagomag.com/Chicago-Magazine/Nov...</td>\n",
       "    </tr>\n",
       "    <tr>\n",
       "      <th>15</th>\n",
       "      <td>16</td>\n",
       "      <td>Bari</td>\n",
       "      <td>Meatball Sub</td>\n",
       "      <td>http://www.chicagomag.com/Chicago-Magazine/Nov...</td>\n",
       "    </tr>\n",
       "    <tr>\n",
       "      <th>16</th>\n",
       "      <td>17</td>\n",
       "      <td>Manny’s</td>\n",
       "      <td>Corned Beef</td>\n",
       "      <td>http://www.chicagomag.com/Chicago-Magazine/Nov...</td>\n",
       "    </tr>\n",
       "    <tr>\n",
       "      <th>17</th>\n",
       "      <td>18</td>\n",
       "      <td>Eggy’s</td>\n",
       "      <td>Turkey Club</td>\n",
       "      <td>http://www.chicagomag.com/Chicago-Magazine/Nov...</td>\n",
       "    </tr>\n",
       "    <tr>\n",
       "      <th>18</th>\n",
       "      <td>19</td>\n",
       "      <td>Old Jerusalem</td>\n",
       "      <td>Falafel</td>\n",
       "      <td>http://www.chicagomag.com/Chicago-Magazine/Nov...</td>\n",
       "    </tr>\n",
       "    <tr>\n",
       "      <th>19</th>\n",
       "      <td>20</td>\n",
       "      <td>Mindy’s HotChocolate</td>\n",
       "      <td>Crab Cake</td>\n",
       "      <td>http://www.chicagomag.com/Chicago-Magazine/Nov...</td>\n",
       "    </tr>\n",
       "    <tr>\n",
       "      <th>20</th>\n",
       "      <td>21</td>\n",
       "      <td>Olga’s Delicatessen</td>\n",
       "      <td>Chicken Schnitzel</td>\n",
       "      <td>http://www.chicagomag.com/Chicago-Magazine/Nov...</td>\n",
       "    </tr>\n",
       "    <tr>\n",
       "      <th>21</th>\n",
       "      <td>22</td>\n",
       "      <td>Dawali Mediterranean Kitchen</td>\n",
       "      <td>Shawarma</td>\n",
       "      <td>http://www.chicagomag.com/Chicago-Magazine/Nov...</td>\n",
       "    </tr>\n",
       "    <tr>\n",
       "      <th>22</th>\n",
       "      <td>23</td>\n",
       "      <td>Big Jones</td>\n",
       "      <td>Toasted Pimiento Cheese</td>\n",
       "      <td>http://www.chicagomag.com/Chicago-Magazine/Nov...</td>\n",
       "    </tr>\n",
       "    <tr>\n",
       "      <th>23</th>\n",
       "      <td>24</td>\n",
       "      <td>La Pane</td>\n",
       "      <td>Vegetarian Panino</td>\n",
       "      <td>http://www.chicagomag.com/Chicago-Magazine/Nov...</td>\n",
       "    </tr>\n",
       "    <tr>\n",
       "      <th>24</th>\n",
       "      <td>25</td>\n",
       "      <td>Pastoral</td>\n",
       "      <td>Cali Chèvre</td>\n",
       "      <td>http://www.chicagomag.com/Chicago-Magazine/Nov...</td>\n",
       "    </tr>\n",
       "    <tr>\n",
       "      <th>25</th>\n",
       "      <td>26</td>\n",
       "      <td>Max’s Deli</td>\n",
       "      <td>Pastrami</td>\n",
       "      <td>http://www.chicagomag.com/Chicago-Magazine/Nov...</td>\n",
       "    </tr>\n",
       "    <tr>\n",
       "      <th>26</th>\n",
       "      <td>27</td>\n",
       "      <td>Lucky’s Sandwich Co.</td>\n",
       "      <td>The Fredo</td>\n",
       "      <td>http://www.chicagomag.com/Chicago-Magazine/Nov...</td>\n",
       "    </tr>\n",
       "    <tr>\n",
       "      <th>27</th>\n",
       "      <td>28</td>\n",
       "      <td>City Provisions</td>\n",
       "      <td>Smoked Ham</td>\n",
       "      <td>http://www.chicagomag.com/Chicago-Magazine/Nov...</td>\n",
       "    </tr>\n",
       "    <tr>\n",
       "      <th>28</th>\n",
       "      <td>29</td>\n",
       "      <td>Papa’s Cache Sabroso</td>\n",
       "      <td>Jibarito</td>\n",
       "      <td>http://www.chicagomag.com/Chicago-Magazine/Nov...</td>\n",
       "    </tr>\n",
       "    <tr>\n",
       "      <th>29</th>\n",
       "      <td>30</td>\n",
       "      <td>Bavette’s Bar &amp; Boeuf</td>\n",
       "      <td>Shaved Prime Rib</td>\n",
       "      <td>http://www.chicagomag.com/Chicago-Magazine/Nov...</td>\n",
       "    </tr>\n",
       "    <tr>\n",
       "      <th>30</th>\n",
       "      <td>31</td>\n",
       "      <td>Hannah’s Bretzel</td>\n",
       "      <td>Serrano Ham and Manchego Cheese</td>\n",
       "      <td>http://www.chicagomag.com/Chicago-Magazine/Nov...</td>\n",
       "    </tr>\n",
       "    <tr>\n",
       "      <th>31</th>\n",
       "      <td>32</td>\n",
       "      <td>La Fournette</td>\n",
       "      <td>Tuna Salad</td>\n",
       "      <td>http://www.chicagomag.com/Chicago-Magazine/Nov...</td>\n",
       "    </tr>\n",
       "    <tr>\n",
       "      <th>32</th>\n",
       "      <td>33</td>\n",
       "      <td>Paramount Room</td>\n",
       "      <td>Paramount Reuben</td>\n",
       "      <td>http://www.chicagomag.com/Chicago-Magazine/Nov...</td>\n",
       "    </tr>\n",
       "    <tr>\n",
       "      <th>33</th>\n",
       "      <td>34</td>\n",
       "      <td>Melt Sandwich Shoppe</td>\n",
       "      <td>The Istanbul</td>\n",
       "      <td>http://www.chicagomag.com/Chicago-Magazine/Nov...</td>\n",
       "    </tr>\n",
       "    <tr>\n",
       "      <th>34</th>\n",
       "      <td>35</td>\n",
       "      <td>Floriole Cafe &amp; Bakery</td>\n",
       "      <td>B.A.D.</td>\n",
       "      <td>http://www.chicagomag.com/Chicago-Magazine/Nov...</td>\n",
       "    </tr>\n",
       "    <tr>\n",
       "      <th>35</th>\n",
       "      <td>36</td>\n",
       "      <td>First Slice Pie Café</td>\n",
       "      <td>Duck Confit and Mozzarella</td>\n",
       "      <td>http://www.chicagomag.com/Chicago-Magazine/Nov...</td>\n",
       "    </tr>\n",
       "    <tr>\n",
       "      <th>36</th>\n",
       "      <td>37</td>\n",
       "      <td>Troquet</td>\n",
       "      <td>Croque Monsieur</td>\n",
       "      <td>http://www.chicagomag.com/Chicago-Magazine/Nov...</td>\n",
       "    </tr>\n",
       "    <tr>\n",
       "      <th>37</th>\n",
       "      <td>38</td>\n",
       "      <td>Grahamwich</td>\n",
       "      <td>Green Garbanzo</td>\n",
       "      <td>http://www.chicagomag.com/Chicago-Magazine/Nov...</td>\n",
       "    </tr>\n",
       "    <tr>\n",
       "      <th>38</th>\n",
       "      <td>39</td>\n",
       "      <td>Saigon Sisters</td>\n",
       "      <td>The Hen House</td>\n",
       "      <td>http://www.chicagomag.com/Chicago-Magazine/Nov...</td>\n",
       "    </tr>\n",
       "    <tr>\n",
       "      <th>39</th>\n",
       "      <td>40</td>\n",
       "      <td>Rosalia’s Deli</td>\n",
       "      <td>Tuscan Chicken</td>\n",
       "      <td>http://www.chicagomag.com/Chicago-Magazine/Nov...</td>\n",
       "    </tr>\n",
       "    <tr>\n",
       "      <th>40</th>\n",
       "      <td>41</td>\n",
       "      <td>Z&amp;H MarketCafe</td>\n",
       "      <td>The Marty</td>\n",
       "      <td>http://www.chicagomag.com/Chicago-Magazine/Nov...</td>\n",
       "    </tr>\n",
       "    <tr>\n",
       "      <th>41</th>\n",
       "      <td>42</td>\n",
       "      <td>Market House on the Square</td>\n",
       "      <td>Whitefish</td>\n",
       "      <td>http://www.chicagomag.com/Chicago-Magazine/Nov...</td>\n",
       "    </tr>\n",
       "    <tr>\n",
       "      <th>42</th>\n",
       "      <td>43</td>\n",
       "      <td>Elaine’s Coffee Call</td>\n",
       "      <td>Oat Bread, Pecan Butter, and Fruit Jam</td>\n",
       "      <td>http://www.chicagomag.com/Chicago-Magazine/Nov...</td>\n",
       "    </tr>\n",
       "    <tr>\n",
       "      <th>43</th>\n",
       "      <td>44</td>\n",
       "      <td>Marion Street Cheese Market</td>\n",
       "      <td>Cauliflower Melt</td>\n",
       "      <td>http://www.chicagomag.com/Chicago-Magazine/Nov...</td>\n",
       "    </tr>\n",
       "    <tr>\n",
       "      <th>44</th>\n",
       "      <td>45</td>\n",
       "      <td>Cafecito</td>\n",
       "      <td>Cubana</td>\n",
       "      <td>http://www.chicagomag.com/Chicago-Magazine/Nov...</td>\n",
       "    </tr>\n",
       "    <tr>\n",
       "      <th>45</th>\n",
       "      <td>46</td>\n",
       "      <td>Chickpea</td>\n",
       "      <td>Kufta</td>\n",
       "      <td>http://www.chicagomag.com/Chicago-Magazine/Nov...</td>\n",
       "    </tr>\n",
       "    <tr>\n",
       "      <th>46</th>\n",
       "      <td>47</td>\n",
       "      <td>The Goddess and Grocer</td>\n",
       "      <td>Debbie’s Egg Salad</td>\n",
       "      <td>http://www.chicagomag.com/Chicago-Magazine/Nov...</td>\n",
       "    </tr>\n",
       "    <tr>\n",
       "      <th>47</th>\n",
       "      <td>48</td>\n",
       "      <td>Zenwich</td>\n",
       "      <td>Beef Curry</td>\n",
       "      <td>http://www.chicagomag.com/Chicago-Magazine/Nov...</td>\n",
       "    </tr>\n",
       "    <tr>\n",
       "      <th>48</th>\n",
       "      <td>49</td>\n",
       "      <td>Toni Patisserie</td>\n",
       "      <td>Le Végétarien</td>\n",
       "      <td>http://www.chicagomag.com/Chicago-Magazine/Nov...</td>\n",
       "    </tr>\n",
       "    <tr>\n",
       "      <th>49</th>\n",
       "      <td>50</td>\n",
       "      <td>Phoebe’s Bakery</td>\n",
       "      <td>The Gatsby</td>\n",
       "      <td>http://www.chicagomag.com/Chicago-Magazine/Nov...</td>\n",
       "    </tr>\n",
       "  </tbody>\n",
       "</table>\n",
       "</div>"
      ],
      "text/plain": [
       "   Rank                             Cafe  \\\n",
       "0     1                      Old Oak Tap   \n",
       "1     2                        Au Cheval   \n",
       "2     3                             Xoco   \n",
       "3     4                        Al’s Deli   \n",
       "4     5           Publican Quality Meats   \n",
       "5     6  Hendrickx Belgian Bread Crafter   \n",
       "6     7                           Acadia   \n",
       "7     8                Birchwood Kitchen   \n",
       "8     9                   Cemitas Puebla   \n",
       "9    10                             Nana   \n",
       "10   11                        Lula Cafe   \n",
       "11   12                       Ricobene’s   \n",
       "12   13                     Frog n Snail   \n",
       "13   14                 Crosby’s Kitchen   \n",
       "14   15                  Longman & Eagle   \n",
       "15   16                             Bari   \n",
       "16   17                          Manny’s   \n",
       "17   18                           Eggy’s   \n",
       "18   19                    Old Jerusalem   \n",
       "19   20             Mindy’s HotChocolate   \n",
       "20   21              Olga’s Delicatessen   \n",
       "21   22     Dawali Mediterranean Kitchen   \n",
       "22   23                        Big Jones   \n",
       "23   24                          La Pane   \n",
       "24   25                         Pastoral   \n",
       "25   26                       Max’s Deli   \n",
       "26   27             Lucky’s Sandwich Co.   \n",
       "27   28                  City Provisions   \n",
       "28   29             Papa’s Cache Sabroso   \n",
       "29   30            Bavette’s Bar & Boeuf   \n",
       "30   31                 Hannah’s Bretzel   \n",
       "31   32                     La Fournette   \n",
       "32   33                   Paramount Room   \n",
       "33   34             Melt Sandwich Shoppe   \n",
       "34   35           Floriole Cafe & Bakery   \n",
       "35   36             First Slice Pie Café   \n",
       "36   37                          Troquet   \n",
       "37   38                       Grahamwich   \n",
       "38   39                   Saigon Sisters   \n",
       "39   40                   Rosalia’s Deli   \n",
       "40   41                   Z&H MarketCafe   \n",
       "41   42       Market House on the Square   \n",
       "42   43             Elaine’s Coffee Call   \n",
       "43   44      Marion Street Cheese Market   \n",
       "44   45                         Cafecito   \n",
       "45   46                         Chickpea   \n",
       "46   47           The Goddess and Grocer   \n",
       "47   48                          Zenwich   \n",
       "48   49                  Toni Patisserie   \n",
       "49   50                  Phoebe’s Bakery   \n",
       "\n",
       "                                              Menu  \\\n",
       "0                                              BLT   \n",
       "1                                    Fried Bologna   \n",
       "2                                Woodland Mushroom   \n",
       "3                                       Roast Beef   \n",
       "4                                             PB&L   \n",
       "5                      Belgian Chicken Curry Salad   \n",
       "6                                     Lobster Roll   \n",
       "7                              Smoked Salmon Salad   \n",
       "8                                  Atomica Cemitas   \n",
       "9   Grilled Laughing Bird Shrimp and Fried Po’ Boy   \n",
       "10                         Ham and Raclette Panino   \n",
       "11                                   Breaded Steak   \n",
       "12                                     The Hawkeye   \n",
       "13                                     Chicken Dip   \n",
       "14                            Wild Boar Sloppy Joe   \n",
       "15                                    Meatball Sub   \n",
       "16                                     Corned Beef   \n",
       "17                                     Turkey Club   \n",
       "18                                         Falafel   \n",
       "19                                       Crab Cake   \n",
       "20                               Chicken Schnitzel   \n",
       "21                                        Shawarma   \n",
       "22                         Toasted Pimiento Cheese   \n",
       "23                               Vegetarian Panino   \n",
       "24                                     Cali Chèvre   \n",
       "25                                        Pastrami   \n",
       "26                                       The Fredo   \n",
       "27                                      Smoked Ham   \n",
       "28                                        Jibarito   \n",
       "29                                Shaved Prime Rib   \n",
       "30                 Serrano Ham and Manchego Cheese   \n",
       "31                                      Tuna Salad   \n",
       "32                                Paramount Reuben   \n",
       "33                                    The Istanbul   \n",
       "34                                          B.A.D.   \n",
       "35                      Duck Confit and Mozzarella   \n",
       "36                                 Croque Monsieur   \n",
       "37                                  Green Garbanzo   \n",
       "38                                   The Hen House   \n",
       "39                                  Tuscan Chicken   \n",
       "40                                      The Marty    \n",
       "41                                       Whitefish   \n",
       "42          Oat Bread, Pecan Butter, and Fruit Jam   \n",
       "43                                Cauliflower Melt   \n",
       "44                                          Cubana   \n",
       "45                                           Kufta   \n",
       "46                              Debbie’s Egg Salad   \n",
       "47                                      Beef Curry   \n",
       "48                                   Le Végétarien   \n",
       "49                                      The Gatsby   \n",
       "\n",
       "                                                  URL  \n",
       "0   http://www.chicagomag.com/Chicago-Magazine/Nov...  \n",
       "1   http://www.chicagomag.com/Chicago-Magazine/Nov...  \n",
       "2   http://www.chicagomag.com/Chicago-Magazine/Nov...  \n",
       "3   http://www.chicagomag.com/Chicago-Magazine/Nov...  \n",
       "4   http://www.chicagomag.com/Chicago-Magazine/Nov...  \n",
       "5   http://www.chicagomag.com/Chicago-Magazine/Nov...  \n",
       "6   http://www.chicagomag.com/Chicago-Magazine/Nov...  \n",
       "7   http://www.chicagomag.com/Chicago-Magazine/Nov...  \n",
       "8   http://www.chicagomag.com/Chicago-Magazine/Nov...  \n",
       "9   http://www.chicagomag.com/Chicago-Magazine/Nov...  \n",
       "10  http://www.chicagomag.com/Chicago-Magazine/Nov...  \n",
       "11  http://www.chicagomag.com/Chicago-Magazine/Nov...  \n",
       "12  http://www.chicagomag.com/Chicago-Magazine/Nov...  \n",
       "13  http://www.chicagomag.com/Chicago-Magazine/Nov...  \n",
       "14  http://www.chicagomag.com/Chicago-Magazine/Nov...  \n",
       "15  http://www.chicagomag.com/Chicago-Magazine/Nov...  \n",
       "16  http://www.chicagomag.com/Chicago-Magazine/Nov...  \n",
       "17  http://www.chicagomag.com/Chicago-Magazine/Nov...  \n",
       "18  http://www.chicagomag.com/Chicago-Magazine/Nov...  \n",
       "19  http://www.chicagomag.com/Chicago-Magazine/Nov...  \n",
       "20  http://www.chicagomag.com/Chicago-Magazine/Nov...  \n",
       "21  http://www.chicagomag.com/Chicago-Magazine/Nov...  \n",
       "22  http://www.chicagomag.com/Chicago-Magazine/Nov...  \n",
       "23  http://www.chicagomag.com/Chicago-Magazine/Nov...  \n",
       "24  http://www.chicagomag.com/Chicago-Magazine/Nov...  \n",
       "25  http://www.chicagomag.com/Chicago-Magazine/Nov...  \n",
       "26  http://www.chicagomag.com/Chicago-Magazine/Nov...  \n",
       "27  http://www.chicagomag.com/Chicago-Magazine/Nov...  \n",
       "28  http://www.chicagomag.com/Chicago-Magazine/Nov...  \n",
       "29  http://www.chicagomag.com/Chicago-Magazine/Nov...  \n",
       "30  http://www.chicagomag.com/Chicago-Magazine/Nov...  \n",
       "31  http://www.chicagomag.com/Chicago-Magazine/Nov...  \n",
       "32  http://www.chicagomag.com/Chicago-Magazine/Nov...  \n",
       "33  http://www.chicagomag.com/Chicago-Magazine/Nov...  \n",
       "34  http://www.chicagomag.com/Chicago-Magazine/Nov...  \n",
       "35  http://www.chicagomag.com/Chicago-Magazine/Nov...  \n",
       "36  http://www.chicagomag.com/Chicago-Magazine/Nov...  \n",
       "37  http://www.chicagomag.com/Chicago-Magazine/Nov...  \n",
       "38  http://www.chicagomag.com/Chicago-Magazine/Nov...  \n",
       "39  http://www.chicagomag.com/Chicago-Magazine/Nov...  \n",
       "40  http://www.chicagomag.com/Chicago-Magazine/Nov...  \n",
       "41  http://www.chicagomag.com/Chicago-Magazine/Nov...  \n",
       "42  http://www.chicagomag.com/Chicago-Magazine/Nov...  \n",
       "43  http://www.chicagomag.com/Chicago-Magazine/Nov...  \n",
       "44  http://www.chicagomag.com/Chicago-Magazine/Nov...  \n",
       "45  http://www.chicagomag.com/Chicago-Magazine/Nov...  \n",
       "46  http://www.chicagomag.com/Chicago-Magazine/Nov...  \n",
       "47  http://www.chicagomag.com/Chicago-Magazine/Nov...  \n",
       "48  http://www.chicagomag.com/Chicago-Magazine/Nov...  \n",
       "49  http://www.chicagomag.com/Chicago-Magazine/Nov...  "
      ]
     },
     "execution_count": 165,
     "metadata": {},
     "output_type": "execute_result"
    }
   ],
   "source": [
    "import pandas as pd\n",
    "\n",
    "data = {'Rank' : rank, 'Menu' : main_menu, 'Cafe' : cafe_name, 'URL' : url_add}\n",
    "df = pd.DataFrame(data, columns = ['Rank','Cafe','Menu','URL'])  # 컬럼 순서 변경\n",
    "df"
   ]
  },
  {
   "cell_type": "markdown",
   "metadata": {},
   "source": [
    "### **3.3 심화 : 다수의 웹페이지에 자동으로 접근해서 원하는 정보 가져오기**"
   ]
  },
  {
   "cell_type": "code",
   "execution_count": 166,
   "metadata": {},
   "outputs": [
    {
     "data": {
      "text/plain": [
       "'http://www.chicagomag.com/Chicago-Magazine/November-2012/Best-Sandwiches-in-Chicago-Hendrickx-Belgian-Bread-Crafter-Belgian-Chicken-Curry-Salad/'"
      ]
     },
     "execution_count": 166,
     "metadata": {},
     "output_type": "execute_result"
    }
   ],
   "source": [
    "from bs4 import BeautifulSoup\n",
    "from urllib.request import urlopen\n",
    "import pandas as pd \n",
    "\n",
    "df['URL'][5]"
   ]
  },
  {
   "cell_type": "markdown",
   "metadata": {},
   "source": [
    "#### **3.3.1 하나의 페이지 가져와보기 : 연습**"
   ]
  },
  {
   "cell_type": "code",
   "execution_count": 167,
   "metadata": {},
   "outputs": [],
   "source": [
    "html = urlopen(df['URL'][0])\n",
    "soup_tmp = BeautifulSoup(html, 'html.parser')"
   ]
  },
  {
   "cell_type": "code",
   "execution_count": 168,
   "metadata": {},
   "outputs": [
    {
     "data": {
      "text/plain": [
       "<p class=\"addy\">\n",
       "<em>$10. 2109 W. Chicago Ave., 773-772-0406, <a href=\"http://www.theoldoaktap.com/\">theoldoaktap.com</a></em></p>"
      ]
     },
     "execution_count": 168,
     "metadata": {},
     "output_type": "execute_result"
    }
   ],
   "source": [
    "soup_tmp.find('p', class_ = 'addy')"
   ]
  },
  {
   "cell_type": "code",
   "execution_count": 132,
   "metadata": {},
   "outputs": [
    {
     "data": {
      "text/plain": [
       "'\\n$10. 2109 W. Chicago Ave., 773-772-0406, theoldoaktap.com'"
      ]
     },
     "execution_count": 132,
     "metadata": {},
     "output_type": "execute_result"
    }
   ],
   "source": [
    "price_tmp = soup_tmp.find('p', class_ = 'addy').get_text()\n",
    "price_tmp"
   ]
  },
  {
   "cell_type": "code",
   "execution_count": 134,
   "metadata": {},
   "outputs": [
    {
     "data": {
      "text/plain": [
       "['$10.', '2109', 'W.', 'Chicago', 'Ave.,', '773-772-0406,', 'theoldoaktap.com']"
      ]
     },
     "execution_count": 134,
     "metadata": {},
     "output_type": "execute_result"
    }
   ],
   "source": [
    "price_tmp.split()  # 빈 칸을 기준으로 나누기 "
   ]
  },
  {
   "cell_type": "code",
   "execution_count": 137,
   "metadata": {},
   "outputs": [
    {
     "data": {
      "text/plain": [
       "'$10'"
      ]
     },
     "execution_count": 137,
     "metadata": {},
     "output_type": "execute_result"
    }
   ],
   "source": [
    "price_tmp.split()[0][:-1]  # 가격, '.'은 제거"
   ]
  },
  {
   "cell_type": "code",
   "execution_count": 142,
   "metadata": {},
   "outputs": [
    {
     "data": {
      "text/plain": [
       "'2109 W. Chicago Ave.'"
      ]
     },
     "execution_count": 142,
     "metadata": {},
     "output_type": "execute_result"
    }
   ],
   "source": [
    "' '.join(price_tmp.split()[1:-2])[:-1]  # 1 ~ -1 인덱스를 붙이고, 맨 뒤의 ',' 삭제"
   ]
  },
  {
   "cell_type": "markdown",
   "metadata": {},
   "source": [
    "#### **3.3.2 3페이지만 돌려보기**"
   ]
  },
  {
   "cell_type": "code",
   "execution_count": 169,
   "metadata": {},
   "outputs": [
    {
     "data": {
      "application/vnd.jupyter.widget-view+json": {
       "model_id": "cdf2c03994e24e708cca55cb3995b9e3",
       "version_major": 2,
       "version_minor": 0
      },
      "text/plain": [
       "HBox(children=(IntProgress(value=0, max=3), HTML(value='')))"
      ]
     },
     "metadata": {},
     "output_type": "display_data"
    }
   ],
   "source": [
    "from tqdm import tqdm_notebook\n",
    "\n",
    "price = []\n",
    "address = []\n",
    "\n",
    "for n in tqdm_notebook(df.index[:3]):\n",
    "    html = urlopen(df['URL'][n]) # df[열][행]\n",
    "    soup_tmp = BeautifulSoup(html, 'lxml')\n",
    "    \n",
    "    gettings = soup_tmp.find('p', class_ = 'addy').get_text()\n",
    "    \n",
    "    price.append(gettings.split()[0][:-1])\n",
    "    address.append(' '.join(gettings.split()[1:-2])[:-1])\n",
    "    "
   ]
  },
  {
   "cell_type": "markdown",
   "metadata": {},
   "source": [
    "#### **3.3.3 50개 웹 페이지에 대한 정보 가져오기 (feat 진행 상태바)**"
   ]
  },
  {
   "cell_type": "code",
   "execution_count": 170,
   "metadata": {},
   "outputs": [
    {
     "data": {
      "application/vnd.jupyter.widget-view+json": {
       "model_id": "80add9445c40442e9ce8f48bad32d673",
       "version_major": 2,
       "version_minor": 0
      },
      "text/plain": [
       "HBox(children=(IntProgress(value=0, max=50), HTML(value='')))"
      ]
     },
     "metadata": {},
     "output_type": "display_data"
    }
   ],
   "source": [
    "from tqdm import tqdm_notebook\n",
    "\n",
    "price = []\n",
    "address = []\n",
    "\n",
    "for n in tqdm_notebook(df.index):\n",
    "    html = urlopen(df['URL'][n]) \n",
    "    soup_tmp = BeautifulSoup(html, 'lxml')\n",
    "    \n",
    "    gettings = soup_tmp.find('p', class_ = 'addy').get_text()\n",
    "    \n",
    "    price.append(gettings.split()[0][:-1])  # 가격 정보, '.' 제거\n",
    "    address.append(' '.join(gettings.split()[1:-2])[:-1])  # 주소정보, ',' 제거\n",
    "    "
   ]
  },
  {
   "cell_type": "code",
   "execution_count": 173,
   "metadata": {},
   "outputs": [
    {
     "data": {
      "text/plain": [
       "['$10', '$9', '$9.50', '$9.40', '$10', '$7.25', '$16', '$10', '$9', '$17']"
      ]
     },
     "execution_count": 173,
     "metadata": {},
     "output_type": "execute_result"
    }
   ],
   "source": [
    "price[:10]"
   ]
  },
  {
   "cell_type": "code",
   "execution_count": 174,
   "metadata": {},
   "outputs": [
    {
     "data": {
      "text/html": [
       "<div>\n",
       "<style scoped>\n",
       "    .dataframe tbody tr th:only-of-type {\n",
       "        vertical-align: middle;\n",
       "    }\n",
       "\n",
       "    .dataframe tbody tr th {\n",
       "        vertical-align: top;\n",
       "    }\n",
       "\n",
       "    .dataframe thead th {\n",
       "        text-align: right;\n",
       "    }\n",
       "</style>\n",
       "<table border=\"1\" class=\"dataframe\">\n",
       "  <thead>\n",
       "    <tr style=\"text-align: right;\">\n",
       "      <th></th>\n",
       "      <th>Rank</th>\n",
       "      <th>Cafe</th>\n",
       "      <th>Menu</th>\n",
       "      <th>URL</th>\n",
       "    </tr>\n",
       "  </thead>\n",
       "  <tbody>\n",
       "    <tr>\n",
       "      <th>0</th>\n",
       "      <td>1</td>\n",
       "      <td>Old Oak Tap</td>\n",
       "      <td>BLT</td>\n",
       "      <td>http://www.chicagomag.com/Chicago-Magazine/Nov...</td>\n",
       "    </tr>\n",
       "    <tr>\n",
       "      <th>1</th>\n",
       "      <td>2</td>\n",
       "      <td>Au Cheval</td>\n",
       "      <td>Fried Bologna</td>\n",
       "      <td>http://www.chicagomag.com/Chicago-Magazine/Nov...</td>\n",
       "    </tr>\n",
       "    <tr>\n",
       "      <th>2</th>\n",
       "      <td>3</td>\n",
       "      <td>Xoco</td>\n",
       "      <td>Woodland Mushroom</td>\n",
       "      <td>http://www.chicagomag.com/Chicago-Magazine/Nov...</td>\n",
       "    </tr>\n",
       "    <tr>\n",
       "      <th>3</th>\n",
       "      <td>4</td>\n",
       "      <td>Al’s Deli</td>\n",
       "      <td>Roast Beef</td>\n",
       "      <td>http://www.chicagomag.com/Chicago-Magazine/Nov...</td>\n",
       "    </tr>\n",
       "    <tr>\n",
       "      <th>4</th>\n",
       "      <td>5</td>\n",
       "      <td>Publican Quality Meats</td>\n",
       "      <td>PB&amp;L</td>\n",
       "      <td>http://www.chicagomag.com/Chicago-Magazine/Nov...</td>\n",
       "    </tr>\n",
       "    <tr>\n",
       "      <th>5</th>\n",
       "      <td>6</td>\n",
       "      <td>Hendrickx Belgian Bread Crafter</td>\n",
       "      <td>Belgian Chicken Curry Salad</td>\n",
       "      <td>http://www.chicagomag.com/Chicago-Magazine/Nov...</td>\n",
       "    </tr>\n",
       "    <tr>\n",
       "      <th>6</th>\n",
       "      <td>7</td>\n",
       "      <td>Acadia</td>\n",
       "      <td>Lobster Roll</td>\n",
       "      <td>http://www.chicagomag.com/Chicago-Magazine/Nov...</td>\n",
       "    </tr>\n",
       "    <tr>\n",
       "      <th>7</th>\n",
       "      <td>8</td>\n",
       "      <td>Birchwood Kitchen</td>\n",
       "      <td>Smoked Salmon Salad</td>\n",
       "      <td>http://www.chicagomag.com/Chicago-Magazine/Nov...</td>\n",
       "    </tr>\n",
       "    <tr>\n",
       "      <th>8</th>\n",
       "      <td>9</td>\n",
       "      <td>Cemitas Puebla</td>\n",
       "      <td>Atomica Cemitas</td>\n",
       "      <td>http://www.chicagomag.com/Chicago-Magazine/Nov...</td>\n",
       "    </tr>\n",
       "    <tr>\n",
       "      <th>9</th>\n",
       "      <td>10</td>\n",
       "      <td>Nana</td>\n",
       "      <td>Grilled Laughing Bird Shrimp and Fried Po’ Boy</td>\n",
       "      <td>http://www.chicagomag.com/Chicago-Magazine/Nov...</td>\n",
       "    </tr>\n",
       "  </tbody>\n",
       "</table>\n",
       "</div>"
      ],
      "text/plain": [
       "  Rank                             Cafe  \\\n",
       "0    1                      Old Oak Tap   \n",
       "1    2                        Au Cheval   \n",
       "2    3                             Xoco   \n",
       "3    4                        Al’s Deli   \n",
       "4    5           Publican Quality Meats   \n",
       "5    6  Hendrickx Belgian Bread Crafter   \n",
       "6    7                           Acadia   \n",
       "7    8                Birchwood Kitchen   \n",
       "8    9                   Cemitas Puebla   \n",
       "9   10                             Nana   \n",
       "\n",
       "                                             Menu  \\\n",
       "0                                             BLT   \n",
       "1                                   Fried Bologna   \n",
       "2                               Woodland Mushroom   \n",
       "3                                      Roast Beef   \n",
       "4                                            PB&L   \n",
       "5                     Belgian Chicken Curry Salad   \n",
       "6                                    Lobster Roll   \n",
       "7                             Smoked Salmon Salad   \n",
       "8                                 Atomica Cemitas   \n",
       "9  Grilled Laughing Bird Shrimp and Fried Po’ Boy   \n",
       "\n",
       "                                                 URL  \n",
       "0  http://www.chicagomag.com/Chicago-Magazine/Nov...  \n",
       "1  http://www.chicagomag.com/Chicago-Magazine/Nov...  \n",
       "2  http://www.chicagomag.com/Chicago-Magazine/Nov...  \n",
       "3  http://www.chicagomag.com/Chicago-Magazine/Nov...  \n",
       "4  http://www.chicagomag.com/Chicago-Magazine/Nov...  \n",
       "5  http://www.chicagomag.com/Chicago-Magazine/Nov...  \n",
       "6  http://www.chicagomag.com/Chicago-Magazine/Nov...  \n",
       "7  http://www.chicagomag.com/Chicago-Magazine/Nov...  \n",
       "8  http://www.chicagomag.com/Chicago-Magazine/Nov...  \n",
       "9  http://www.chicagomag.com/Chicago-Magazine/Nov...  "
      ]
     },
     "execution_count": 174,
     "metadata": {},
     "output_type": "execute_result"
    }
   ],
   "source": [
    "df.head(10)"
   ]
  },
  {
   "cell_type": "code",
   "execution_count": 175,
   "metadata": {},
   "outputs": [
    {
     "data": {
      "text/plain": [
       "(50, 50, 50)"
      ]
     },
     "execution_count": 175,
     "metadata": {},
     "output_type": "execute_result"
    }
   ],
   "source": [
    "len(price), len(address), len(df)  # 데이터 확인"
   ]
  },
  {
   "cell_type": "code",
   "execution_count": 176,
   "metadata": {},
   "outputs": [
    {
     "data": {
      "text/html": [
       "<div>\n",
       "<style scoped>\n",
       "    .dataframe tbody tr th:only-of-type {\n",
       "        vertical-align: middle;\n",
       "    }\n",
       "\n",
       "    .dataframe tbody tr th {\n",
       "        vertical-align: top;\n",
       "    }\n",
       "\n",
       "    .dataframe thead th {\n",
       "        text-align: right;\n",
       "    }\n",
       "</style>\n",
       "<table border=\"1\" class=\"dataframe\">\n",
       "  <thead>\n",
       "    <tr style=\"text-align: right;\">\n",
       "      <th></th>\n",
       "      <th>Cafe</th>\n",
       "      <th>Menu</th>\n",
       "      <th>Price</th>\n",
       "      <th>Address</th>\n",
       "    </tr>\n",
       "    <tr>\n",
       "      <th>Rank</th>\n",
       "      <th></th>\n",
       "      <th></th>\n",
       "      <th></th>\n",
       "      <th></th>\n",
       "    </tr>\n",
       "  </thead>\n",
       "  <tbody>\n",
       "    <tr>\n",
       "      <th>1</th>\n",
       "      <td>Old Oak Tap</td>\n",
       "      <td>BLT</td>\n",
       "      <td>$10</td>\n",
       "      <td>2109 W. Chicago Ave.</td>\n",
       "    </tr>\n",
       "    <tr>\n",
       "      <th>2</th>\n",
       "      <td>Au Cheval</td>\n",
       "      <td>Fried Bologna</td>\n",
       "      <td>$9</td>\n",
       "      <td>800 W. Randolph St.</td>\n",
       "    </tr>\n",
       "    <tr>\n",
       "      <th>3</th>\n",
       "      <td>Xoco</td>\n",
       "      <td>Woodland Mushroom</td>\n",
       "      <td>$9.50</td>\n",
       "      <td>445 N. Clark St.</td>\n",
       "    </tr>\n",
       "    <tr>\n",
       "      <th>4</th>\n",
       "      <td>Al’s Deli</td>\n",
       "      <td>Roast Beef</td>\n",
       "      <td>$9.40</td>\n",
       "      <td>914 Noyes St., Evanston</td>\n",
       "    </tr>\n",
       "    <tr>\n",
       "      <th>5</th>\n",
       "      <td>Publican Quality Meats</td>\n",
       "      <td>PB&amp;L</td>\n",
       "      <td>$10</td>\n",
       "      <td>825 W. Fulton Mkt.</td>\n",
       "    </tr>\n",
       "  </tbody>\n",
       "</table>\n",
       "</div>"
      ],
      "text/plain": [
       "                        Cafe               Menu  Price  \\\n",
       "Rank                                                     \n",
       "1                Old Oak Tap                BLT    $10   \n",
       "2                  Au Cheval      Fried Bologna     $9   \n",
       "3                       Xoco  Woodland Mushroom  $9.50   \n",
       "4                  Al’s Deli         Roast Beef  $9.40   \n",
       "5     Publican Quality Meats               PB&L    $10   \n",
       "\n",
       "                      Address  \n",
       "Rank                           \n",
       "1        2109 W. Chicago Ave.  \n",
       "2         800 W. Randolph St.  \n",
       "3            445 N. Clark St.  \n",
       "4     914 Noyes St., Evanston  \n",
       "5          825 W. Fulton Mkt.  "
      ]
     },
     "execution_count": 176,
     "metadata": {},
     "output_type": "execute_result"
    }
   ],
   "source": [
    "# 새로운 열 추가 \n",
    "\n",
    "df['Price'] = price\n",
    "df['Address'] = address\n",
    "\n",
    "# 데이터프레임 열 순서 지정 및 'Rank' 컬럼을 인덱스로 변환 \n",
    "df = df.loc[:, ['Rank', 'Cafe', 'Menu', 'Price', 'Address']]\n",
    "df.set_index('Rank', inplace=True)\n",
    "df.head()"
   ]
  },
  {
   "cell_type": "code",
   "execution_count": 177,
   "metadata": {},
   "outputs": [],
   "source": [
    "df.to_csv('data/03. best_sandwiches_list_chicago2.csv', sep=',', \n",
    "          encoding='UTF-8')"
   ]
  },
  {
   "cell_type": "markdown",
   "metadata": {},
   "source": [
    "## **4. 맛집 위치를 지도에 표기하기 (feat Folium)**"
   ]
  },
  {
   "cell_type": "code",
   "execution_count": 179,
   "metadata": {},
   "outputs": [],
   "source": [
    "import folium\n",
    "import pandas as pd\n",
    "import googlemaps\n",
    "import numpy as np"
   ]
  },
  {
   "cell_type": "code",
   "execution_count": 180,
   "metadata": {},
   "outputs": [
    {
     "data": {
      "text/html": [
       "<div>\n",
       "<style scoped>\n",
       "    .dataframe tbody tr th:only-of-type {\n",
       "        vertical-align: middle;\n",
       "    }\n",
       "\n",
       "    .dataframe tbody tr th {\n",
       "        vertical-align: top;\n",
       "    }\n",
       "\n",
       "    .dataframe thead th {\n",
       "        text-align: right;\n",
       "    }\n",
       "</style>\n",
       "<table border=\"1\" class=\"dataframe\">\n",
       "  <thead>\n",
       "    <tr style=\"text-align: right;\">\n",
       "      <th></th>\n",
       "      <th>Cafe</th>\n",
       "      <th>Menu</th>\n",
       "      <th>Price</th>\n",
       "      <th>Address</th>\n",
       "    </tr>\n",
       "    <tr>\n",
       "      <th>Rank</th>\n",
       "      <th></th>\n",
       "      <th></th>\n",
       "      <th></th>\n",
       "      <th></th>\n",
       "    </tr>\n",
       "  </thead>\n",
       "  <tbody>\n",
       "    <tr>\n",
       "      <th>1</th>\n",
       "      <td>Old Oak Tap</td>\n",
       "      <td>BLT</td>\n",
       "      <td>$10</td>\n",
       "      <td>2109 W. Chicago Ave.</td>\n",
       "    </tr>\n",
       "    <tr>\n",
       "      <th>2</th>\n",
       "      <td>Au Cheval</td>\n",
       "      <td>Fried Bologna</td>\n",
       "      <td>$9</td>\n",
       "      <td>800 W. Randolph St.</td>\n",
       "    </tr>\n",
       "    <tr>\n",
       "      <th>3</th>\n",
       "      <td>Xoco</td>\n",
       "      <td>Woodland Mushroom</td>\n",
       "      <td>$9.50</td>\n",
       "      <td>445 N. Clark St.</td>\n",
       "    </tr>\n",
       "    <tr>\n",
       "      <th>4</th>\n",
       "      <td>Al’s Deli</td>\n",
       "      <td>Roast Beef</td>\n",
       "      <td>$9.40</td>\n",
       "      <td>914 Noyes St., Evanston</td>\n",
       "    </tr>\n",
       "    <tr>\n",
       "      <th>5</th>\n",
       "      <td>Publican Quality Meats</td>\n",
       "      <td>PB&amp;L</td>\n",
       "      <td>$10</td>\n",
       "      <td>825 W. Fulton Mkt.</td>\n",
       "    </tr>\n",
       "  </tbody>\n",
       "</table>\n",
       "</div>"
      ],
      "text/plain": [
       "                        Cafe               Menu  Price  \\\n",
       "Rank                                                     \n",
       "1                Old Oak Tap                BLT    $10   \n",
       "2                  Au Cheval      Fried Bologna     $9   \n",
       "3                       Xoco  Woodland Mushroom  $9.50   \n",
       "4                  Al’s Deli         Roast Beef  $9.40   \n",
       "5     Publican Quality Meats               PB&L    $10   \n",
       "\n",
       "                      Address  \n",
       "Rank                           \n",
       "1        2109 W. Chicago Ave.  \n",
       "2         800 W. Randolph St.  \n",
       "3            445 N. Clark St.  \n",
       "4     914 Noyes St., Evanston  \n",
       "5          825 W. Fulton Mkt.  "
      ]
     },
     "execution_count": 180,
     "metadata": {},
     "output_type": "execute_result"
    }
   ],
   "source": [
    "df = pd.read_csv('data/03. best_sandwiches_list_chicago2.csv', index_col=0)\n",
    "df.head(5)"
   ]
  },
  {
   "cell_type": "code",
   "execution_count": 181,
   "metadata": {},
   "outputs": [],
   "source": [
    "gmaps_key = \"*****\" # 2장에서 획득한 자신의 key를 사용합니다.\n",
    "gmaps = googlemaps.Client(key=gmaps_key)"
   ]
  },
  {
   "cell_type": "code",
   "execution_count": 182,
   "metadata": {},
   "outputs": [
    {
     "data": {
      "application/vnd.jupyter.widget-view+json": {
       "model_id": "43c9e0ffa169430a887c48f94f59069f",
       "version_major": 2,
       "version_minor": 0
      },
      "text/plain": [
       "HBox(children=(IntProgress(value=0, max=50), HTML(value='')))"
      ]
     },
     "metadata": {},
     "output_type": "display_data"
    }
   ],
   "source": [
    "from tqdm import tqdm_notebook\n",
    "\n",
    "lat = []\n",
    "lng = []\n",
    "\n",
    "for n in tqdm_notebook(df.index):\n",
    "    if df['Address'][n] != 'Multiple':  # 주소가 나타나지 않는 지역 제외\n",
    "        target_name = df['Address'][n]+', '+'Chicago'\n",
    "        gmaps_output = gmaps.geocode(target_name)\n",
    "        location_output = gmaps_output[0].get('geometry')\n",
    "        lat.append(location_output['location']['lat'])\n",
    "        lng.append(location_output['location']['lng'])\n",
    "        \n",
    "    else:\n",
    "        lat.append(np.nan)\n",
    "        lng.append(np.nan)"
   ]
  },
  {
   "cell_type": "code",
   "execution_count": 183,
   "metadata": {},
   "outputs": [
    {
     "data": {
      "text/plain": [
       "(50, 50)"
      ]
     },
     "execution_count": 183,
     "metadata": {},
     "output_type": "execute_result"
    }
   ],
   "source": [
    "len(lat), len(lng)"
   ]
  },
  {
   "cell_type": "markdown",
   "metadata": {},
   "source": [
    "- 위ㆍ경도 열 추가 "
   ]
  },
  {
   "cell_type": "code",
   "execution_count": 184,
   "metadata": {},
   "outputs": [
    {
     "data": {
      "text/html": [
       "<div>\n",
       "<style scoped>\n",
       "    .dataframe tbody tr th:only-of-type {\n",
       "        vertical-align: middle;\n",
       "    }\n",
       "\n",
       "    .dataframe tbody tr th {\n",
       "        vertical-align: top;\n",
       "    }\n",
       "\n",
       "    .dataframe thead th {\n",
       "        text-align: right;\n",
       "    }\n",
       "</style>\n",
       "<table border=\"1\" class=\"dataframe\">\n",
       "  <thead>\n",
       "    <tr style=\"text-align: right;\">\n",
       "      <th></th>\n",
       "      <th>Cafe</th>\n",
       "      <th>Menu</th>\n",
       "      <th>Price</th>\n",
       "      <th>Address</th>\n",
       "      <th>lat</th>\n",
       "      <th>lng</th>\n",
       "    </tr>\n",
       "    <tr>\n",
       "      <th>Rank</th>\n",
       "      <th></th>\n",
       "      <th></th>\n",
       "      <th></th>\n",
       "      <th></th>\n",
       "      <th></th>\n",
       "      <th></th>\n",
       "    </tr>\n",
       "  </thead>\n",
       "  <tbody>\n",
       "    <tr>\n",
       "      <th>1</th>\n",
       "      <td>Old Oak Tap</td>\n",
       "      <td>BLT</td>\n",
       "      <td>$10</td>\n",
       "      <td>2109 W. Chicago Ave.</td>\n",
       "      <td>41.895605</td>\n",
       "      <td>-87.679961</td>\n",
       "    </tr>\n",
       "    <tr>\n",
       "      <th>2</th>\n",
       "      <td>Au Cheval</td>\n",
       "      <td>Fried Bologna</td>\n",
       "      <td>$9</td>\n",
       "      <td>800 W. Randolph St.</td>\n",
       "      <td>41.884658</td>\n",
       "      <td>-87.647667</td>\n",
       "    </tr>\n",
       "    <tr>\n",
       "      <th>3</th>\n",
       "      <td>Xoco</td>\n",
       "      <td>Woodland Mushroom</td>\n",
       "      <td>$9.50</td>\n",
       "      <td>445 N. Clark St.</td>\n",
       "      <td>41.890618</td>\n",
       "      <td>-87.630933</td>\n",
       "    </tr>\n",
       "    <tr>\n",
       "      <th>4</th>\n",
       "      <td>Al’s Deli</td>\n",
       "      <td>Roast Beef</td>\n",
       "      <td>$9.40</td>\n",
       "      <td>914 Noyes St., Evanston</td>\n",
       "      <td>42.058322</td>\n",
       "      <td>-87.683748</td>\n",
       "    </tr>\n",
       "    <tr>\n",
       "      <th>5</th>\n",
       "      <td>Publican Quality Meats</td>\n",
       "      <td>PB&amp;L</td>\n",
       "      <td>$10</td>\n",
       "      <td>825 W. Fulton Mkt.</td>\n",
       "      <td>41.886600</td>\n",
       "      <td>-87.648451</td>\n",
       "    </tr>\n",
       "  </tbody>\n",
       "</table>\n",
       "</div>"
      ],
      "text/plain": [
       "                        Cafe               Menu  Price  \\\n",
       "Rank                                                     \n",
       "1                Old Oak Tap                BLT    $10   \n",
       "2                  Au Cheval      Fried Bologna     $9   \n",
       "3                       Xoco  Woodland Mushroom  $9.50   \n",
       "4                  Al’s Deli         Roast Beef  $9.40   \n",
       "5     Publican Quality Meats               PB&L    $10   \n",
       "\n",
       "                      Address        lat        lng  \n",
       "Rank                                                 \n",
       "1        2109 W. Chicago Ave.  41.895605 -87.679961  \n",
       "2         800 W. Randolph St.  41.884658 -87.647667  \n",
       "3            445 N. Clark St.  41.890618 -87.630933  \n",
       "4     914 Noyes St., Evanston  42.058322 -87.683748  \n",
       "5          825 W. Fulton Mkt.  41.886600 -87.648451  "
      ]
     },
     "execution_count": 184,
     "metadata": {},
     "output_type": "execute_result"
    }
   ],
   "source": [
    "df['lat'] = lat\n",
    "df['lng'] = lng\n",
    "df.head()"
   ]
  },
  {
   "cell_type": "markdown",
   "metadata": {},
   "source": [
    "- 지도 중심 출력"
   ]
  },
  {
   "cell_type": "code",
   "execution_count": 188,
   "metadata": {},
   "outputs": [
    {
     "data": {
      "text/html": [
       "<div style=\"width:100%;\"><div style=\"position:relative;width:100%;height:0;padding-bottom:60%;\"><iframe src=\"data:text/html;charset=utf-8;base64,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\" style=\"position:absolute;width:100%;height:100%;left:0;top:0;border:none !important;\" allowfullscreen webkitallowfullscreen mozallowfullscreen></iframe></div></div>"
      ],
      "text/plain": [
       "<folium.folium.Map at 0xa252ac8>"
      ]
     },
     "execution_count": 188,
     "metadata": {},
     "output_type": "execute_result"
    }
   ],
   "source": [
    "m = folium.Map(location=[df['lat'].mean(), df['lng'].mean()], \n",
    "                                      zoom_start=11)\n",
    "folium.Marker([df['lat'].mean(), df['lng'].mean()], \n",
    "                                      popup='center').add_to(m)\n",
    "m"
   ]
  },
  {
   "cell_type": "code",
   "execution_count": 204,
   "metadata": {},
   "outputs": [
    {
     "data": {
      "text/html": [
       "<div style=\"width:100%;\"><div style=\"position:relative;width:100%;height:0;padding-bottom:60%;\"><iframe src=\"data:text/html;charset=utf-8;base64,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\" style=\"position:absolute;width:100%;height:100%;left:0;top:0;border:none !important;\" allowfullscreen webkitallowfullscreen mozallowfullscreen></iframe></div></div>"
      ],
      "text/plain": [
       "<folium.folium.Map at 0xa797128>"
      ]
     },
     "execution_count": 204,
     "metadata": {},
     "output_type": "execute_result"
    }
   ],
   "source": [
    "m = folium.Map(location=[df['lat'].mean(), df['lng'].mean()], \n",
    "                     zoom_start=11)\n",
    "\n",
    "for n in df.index:\n",
    "    if df['Address'][n] != 'Multiple':\n",
    "        folium.CircleMarker([df['lat'][n], df['lng'][n]],\n",
    "                            radius = 2,\n",
    "                            color = 'lightpink', \n",
    "                            fill=True,\n",
    "                            popup=df['Cafe'][n]).add_to(m)  # 카페이름 팝업 추가 \n",
    "        \n",
    "folium.TileLayer('stamentoner').add_to(m)      \n",
    "\n",
    "m"
   ]
  }
 ],
 "metadata": {
  "kernelspec": {
   "display_name": "Python 3",
   "language": "python",
   "name": "python3"
  },
  "language_info": {
   "codemirror_mode": {
    "name": "ipython",
    "version": 3
   },
   "file_extension": ".py",
   "mimetype": "text/x-python",
   "name": "python",
   "nbconvert_exporter": "python",
   "pygments_lexer": "ipython3",
   "version": "3.7.3"
  }
 },
 "nbformat": 4,
 "nbformat_minor": 2
}
