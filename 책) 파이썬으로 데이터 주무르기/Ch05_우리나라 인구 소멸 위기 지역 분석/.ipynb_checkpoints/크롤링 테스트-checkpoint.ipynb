{
 "cells": [
  {
   "cell_type": "markdown",
   "metadata": {},
   "source": [
    "# Selenium tutorial 2\n",
    "\n",
    "- 참고 : https://beomi.github.io/2017/09/28/HowToMakeWebCrawler-Headless-Chrome/"
   ]
  },
  {
   "cell_type": "code",
   "execution_count": 117,
   "metadata": {},
   "outputs": [],
   "source": [
    "from selenium import webdriver\n",
    "import bs4\n",
    "import pandas as pd \n",
    "import time \n",
    "from tqdm import tqdm_notebook\n",
    "import numpy as np\n",
    "\n",
    "def Get_PageNum(keyword, chromedriver_dir, options):\n",
    "    \"\"\"\n",
    "    네이버 지도에서 가져오고자 검색 결과 건수를 가져와 \n",
    "    크롤링 페이지를 반환해주는 함수입니다.\n",
    "    \"\"\"\n",
    "    driver = webdriver.Chrome(chromedriver_dir, options = options)  # (fake user agent)드라이버 실행\n",
    "    driver.get('https://map.naver.com')  # 해당 url 페이지로 이동\n",
    "    \n",
    "    word = driver.find_element_by_id('search-input')  # 검색창 element\n",
    "    word.clear()  # 삭제\n",
    "    word.send_keys(keyword) # 검색할 키워드 \n",
    "    \n",
    "    button = driver.find_element_by_css_selector('#header div.sch fieldset button')  # 검색 버튼 element \n",
    "    button.click()\n",
    "    \n",
    "    num = driver.find_element_by_css_selector('#panel > div.panel_content.nano.has-scrollbar > div.scroll_pane.content > div.panel_content_flexible > div.search_result_top > div.srt > h2 > span')\n",
    "    page = np.ceil((int(num.text[:-1])/10))\n",
    "    \n",
    "    # driver.quit() # 브라우저 종료\n",
    "    \n",
    "    return page \n",
    "\n"
   ]
  },
  {
   "cell_type": "code",
   "execution_count": 132,
   "metadata": {},
   "outputs": [
    {
     "data": {
      "text/plain": [
       "63.0"
      ]
     },
     "execution_count": 132,
     "metadata": {},
     "output_type": "execute_result"
    }
   ],
   "source": [
    "# 페이크 User_agent 사용하기 \n",
    "# https://pymon.tistory.com/11\n",
    "\n",
    "options = webdriver.ChromeOptions()\n",
    "options.add_argument(\"Mozilla/5.0 (Windows NT 6.1) AppleWebKit/537.2 (KHTML, like Gecko) Chrome/22.0.1216.0 Safari/537.2\")\n",
    "\n",
    "# 크롬 드라이버 실행파일 위치\n",
    "chromedriver_dir = r'D:\\limworkspace\\Reference\\Python\\chromedriver_win32\\chromedriver.exe'\n",
    "\n",
    "# 네이버 지도맵 및 커스텀 헤더 지정\n",
    "Get_PageNum('빽다방', chromedriver_dir, options)"
   ]
  },
  {
   "cell_type": "code",
   "execution_count": 207,
   "metadata": {},
   "outputs": [
    {
     "ename": "KeyError",
     "evalue": "'result'",
     "output_type": "error",
     "traceback": [
      "\u001b[1;31m---------------------------------------------------------------------------\u001b[0m",
      "\u001b[1;31mKeyError\u001b[0m                                  Traceback (most recent call last)",
      "\u001b[1;32m<ipython-input-207-370f53297eaa>\u001b[0m in \u001b[0;36m<module>\u001b[1;34m\u001b[0m\n\u001b[0;32m     21\u001b[0m \u001b[1;33m\u001b[0m\u001b[0m\n\u001b[0;32m     22\u001b[0m \u001b[1;33m\u001b[0m\u001b[0m\n\u001b[1;32m---> 23\u001b[1;33m     \u001b[1;32mfor\u001b[0m \u001b[0mk\u001b[0m \u001b[1;32min\u001b[0m \u001b[0mjo\u001b[0m\u001b[1;33m[\u001b[0m\u001b[1;34m'result'\u001b[0m\u001b[1;33m]\u001b[0m\u001b[1;33m[\u001b[0m\u001b[1;34m'site'\u001b[0m\u001b[1;33m]\u001b[0m\u001b[1;33m[\u001b[0m\u001b[1;34m'list'\u001b[0m\u001b[1;33m]\u001b[0m\u001b[1;33m:\u001b[0m\u001b[1;33m\u001b[0m\u001b[1;33m\u001b[0m\u001b[0m\n\u001b[0m\u001b[0;32m     24\u001b[0m         \u001b[0maddress\u001b[0m\u001b[1;33m.\u001b[0m\u001b[0mappend\u001b[0m\u001b[1;33m(\u001b[0m\u001b[0mk\u001b[0m\u001b[1;33m[\u001b[0m\u001b[1;34m'address'\u001b[0m\u001b[1;33m]\u001b[0m\u001b[1;33m)\u001b[0m\u001b[1;33m\u001b[0m\u001b[1;33m\u001b[0m\u001b[0m\n",
      "\u001b[1;31mKeyError\u001b[0m: 'result'"
     ]
    }
   ],
   "source": [
    "import json\n",
    "import pandas as pd\n",
    "from bs4 import BeautifulSoup as bs\n",
    "import numpy as np \n",
    "from pandas.io.json import json_normalize\n",
    "\n",
    "url = []\n",
    "name = []\n",
    "base_url_1 = 'https://map.naver.com/search2/local.nhn?query='\n",
    "query = '빽다방'\n",
    "base_url_2 = '&type=SITE_1&queryRank=1&re=1&siteSort=0&menu=location&searchCoord=126.945975%3B37.5655025&sm=clk&mpx=09410114%3A37.5585674%2C126.9459641%3AZ9%3A0.0531249%2C0.1163489'\n",
    "\n",
    "for page_num in range(1, int(page)+1):\n",
    "    url = base_url_1 + query + '&page=' + str(page_num) + base_url_2\n",
    "    headers = {\n",
    "        \"User-Agent\" : \"Mozilla/5.0 (Windows NT 6.1) AppleWebKit/537.2 (KHTML, like Gecko) Chrome/22.0.1216.0 Safari/537.2\",\n",
    "        \"Referer\" : \"https://map.naver.com\"\n",
    "    } # api 발급이 필요 \n",
    "    res = requests.get(url = url, headers = headers)\n",
    "    jo = \n",
    "    \n",
    "    \n",
    "    for k in jo['result']['site']['list']:\n",
    "        address.append(k['address'])\n"
   ]
  },
  {
   "cell_type": "code",
   "execution_count": null,
   "metadata": {},
   "outputs": [],
   "source": []
  }
 ],
 "metadata": {
  "kernelspec": {
   "display_name": "Python 3",
   "language": "python",
   "name": "python3"
  },
  "language_info": {
   "codemirror_mode": {
    "name": "ipython",
    "version": 3
   },
   "file_extension": ".py",
   "mimetype": "text/x-python",
   "name": "python",
   "nbconvert_exporter": "python",
   "pygments_lexer": "ipython3",
   "version": "3.7.3"
  }
 },
 "nbformat": 4,
 "nbformat_minor": 2
}
