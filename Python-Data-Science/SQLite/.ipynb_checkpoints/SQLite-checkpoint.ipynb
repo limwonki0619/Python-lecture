{
 "cells": [
  {
   "cell_type": "markdown",
   "metadata": {},
   "source": [
    "# SQLite 다루기 \n"
   ]
  },
  {
   "cell_type": "markdown",
   "metadata": {},
   "source": [
    "## **1. 데이터베이스 접속**"
   ]
  },
  {
   "cell_type": "code",
   "execution_count": 57,
   "metadata": {},
   "outputs": [],
   "source": [
    "import sqlite3\n",
    "\n",
    "conn = sqlite3.connect('./test.db') "
   ]
  },
  {
   "cell_type": "code",
   "execution_count": 9,
   "metadata": {},
   "outputs": [],
   "source": [
    "# conn = sqlite3.connect(':memory:')  # 메모리 DB 접속 (일회성)"
   ]
  },
  {
   "cell_type": "markdown",
   "metadata": {},
   "source": [
    "## **2. 테이블 생성 (작업영역 선택)**"
   ]
  },
  {
   "cell_type": "code",
   "execution_count": 68,
   "metadata": {},
   "outputs": [
    {
     "data": {
      "text/plain": [
       "<sqlite3.Cursor at 0x7a351f0>"
      ]
     },
     "execution_count": 68,
     "metadata": {},
     "output_type": "execute_result"
    }
   ],
   "source": [
    "cur = conn.cursor()\n",
    "cur.execute('CREATE TABLE IF NOT EXISTS Eagles \\\n",
    "    (back_no INT NOT NULL, \\\n",
    "     name TEXT, \\\n",
    "     position TEXT, \\\n",
    "     hands TEXT, \\\n",
    "     highschool TEXT, \\\n",
    "     height INT, \\\n",
    "     PRIMARY KEY(back_no));')"
   ]
  },
  {
   "cell_type": "markdown",
   "metadata": {},
   "source": [
    "## **3. 데이터 추가(insert)**\n",
    "\n",
    "- INSERT INTO table_name (fiel1, file2, ...) VALUES (value1, v2, ... );"
   ]
  },
  {
   "cell_type": "code",
   "execution_count": 69,
   "metadata": {},
   "outputs": [],
   "source": [
    "# 데이터 직접 추가 1\n",
    "\n",
    "cur = conn.cursor()\n",
    "cur.execute(\"INSERT INTO Eagles VALUES \\\n",
    "    (1, '하주석', '내야수', '우투좌타', '신일고', 184), \\\n",
    "    (28, '양성우', '외야수', '우투좌타', '충암고', 177);\")\n",
    "\n",
    "conn.commit()\n"
   ]
  },
  {
   "cell_type": "code",
   "execution_count": 72,
   "metadata": {},
   "outputs": [
    {
     "data": {
      "text/plain": [
       "<sqlite3.Cursor at 0x5ecbf10>"
      ]
     },
     "execution_count": 72,
     "metadata": {},
     "output_type": "execute_result"
    }
   ],
   "source": [
    "# 데이터 직접 추가 2\n",
    "\n",
    "cur = conn.cursor()\n",
    "cur.execute(\"INSERT INTO Eagles('back_no', 'name', 'position') \\\n",
    "             VALUES (30, '호잉', '외야수');\")\n",
    "\n",
    "conn.commit()"
   ]
  },
  {
   "cell_type": "markdown",
   "metadata": {},
   "source": [
    "## **4. 테이블 삭제**"
   ]
  },
  {
   "cell_type": "code",
   "execution_count": 73,
   "metadata": {},
   "outputs": [],
   "source": [
    "# cur.execute('DROP TABLE Eagles')  # 테이블을 삭제할 필요가 있을 때 실행 "
   ]
  },
  {
   "cell_type": "markdown",
   "metadata": {},
   "source": [
    "## **5. 파이썬으로 csv 파일을 읽은 후 데이터베이스에 저장**"
   ]
  },
  {
   "cell_type": "markdown",
   "metadata": {},
   "source": [
    "### **5.1 파이썬으로 csv파일 읽기**"
   ]
  },
  {
   "cell_type": "code",
   "execution_count": 76,
   "metadata": {},
   "outputs": [
    {
     "data": {
      "text/html": [
       "<div>\n",
       "<style scoped>\n",
       "    .dataframe tbody tr th:only-of-type {\n",
       "        vertical-align: middle;\n",
       "    }\n",
       "\n",
       "    .dataframe tbody tr th {\n",
       "        vertical-align: top;\n",
       "    }\n",
       "\n",
       "    .dataframe thead th {\n",
       "        text-align: right;\n",
       "    }\n",
       "</style>\n",
       "<table border=\"1\" class=\"dataframe\">\n",
       "  <thead>\n",
       "    <tr style=\"text-align: right;\">\n",
       "      <th></th>\n",
       "      <th>back_no</th>\n",
       "      <th>name</th>\n",
       "      <th>position</th>\n",
       "      <th>hands</th>\n",
       "      <th>highschool</th>\n",
       "      <th>height</th>\n",
       "    </tr>\n",
       "  </thead>\n",
       "  <tbody>\n",
       "    <tr>\n",
       "      <th>0</th>\n",
       "      <td>17</td>\n",
       "      <td>김범수</td>\n",
       "      <td>투수</td>\n",
       "      <td>좌투좌타</td>\n",
       "      <td>천안북일고</td>\n",
       "      <td>181</td>\n",
       "    </tr>\n",
       "    <tr>\n",
       "      <th>1</th>\n",
       "      <td>38</td>\n",
       "      <td>안영명</td>\n",
       "      <td>투수</td>\n",
       "      <td>우투우타</td>\n",
       "      <td>천안북일고</td>\n",
       "      <td>183</td>\n",
       "    </tr>\n",
       "    <tr>\n",
       "      <th>2</th>\n",
       "      <td>36</td>\n",
       "      <td>장민재</td>\n",
       "      <td>투수</td>\n",
       "      <td>우투우타</td>\n",
       "      <td>광주제일고</td>\n",
       "      <td>184</td>\n",
       "    </tr>\n",
       "    <tr>\n",
       "      <th>3</th>\n",
       "      <td>13</td>\n",
       "      <td>최재훈</td>\n",
       "      <td>포수</td>\n",
       "      <td>우투우타</td>\n",
       "      <td>덕수고</td>\n",
       "      <td>178</td>\n",
       "    </tr>\n",
       "    <tr>\n",
       "      <th>4</th>\n",
       "      <td>52</td>\n",
       "      <td>김태균</td>\n",
       "      <td>내야수</td>\n",
       "      <td>우투우타</td>\n",
       "      <td>천안북일고</td>\n",
       "      <td>185</td>\n",
       "    </tr>\n",
       "    <tr>\n",
       "      <th>5</th>\n",
       "      <td>7</td>\n",
       "      <td>송광민</td>\n",
       "      <td>내야수</td>\n",
       "      <td>우투우타</td>\n",
       "      <td>공주고</td>\n",
       "      <td>184</td>\n",
       "    </tr>\n",
       "    <tr>\n",
       "      <th>6</th>\n",
       "      <td>50</td>\n",
       "      <td>이성열</td>\n",
       "      <td>내야수</td>\n",
       "      <td>우투우타</td>\n",
       "      <td>순천효천고</td>\n",
       "      <td>185</td>\n",
       "    </tr>\n",
       "    <tr>\n",
       "      <th>7</th>\n",
       "      <td>43</td>\n",
       "      <td>정은원</td>\n",
       "      <td>내야수</td>\n",
       "      <td>우투좌타</td>\n",
       "      <td>인천고</td>\n",
       "      <td>178</td>\n",
       "    </tr>\n",
       "    <tr>\n",
       "      <th>8</th>\n",
       "      <td>8</td>\n",
       "      <td>정근우</td>\n",
       "      <td>외야수</td>\n",
       "      <td>우투우타</td>\n",
       "      <td>부산고</td>\n",
       "      <td>172</td>\n",
       "    </tr>\n",
       "    <tr>\n",
       "      <th>9</th>\n",
       "      <td>25</td>\n",
       "      <td>최진행</td>\n",
       "      <td>외야수</td>\n",
       "      <td>우투우타</td>\n",
       "      <td>덕수정보고</td>\n",
       "      <td>188</td>\n",
       "    </tr>\n",
       "  </tbody>\n",
       "</table>\n",
       "</div>"
      ],
      "text/plain": [
       "   back_no  name position hands highschool  height\n",
       "0       17   김범수       투수  좌투좌타      천안북일고     181\n",
       "1       38   안영명       투수  우투우타      천안북일고     183\n",
       "2       36   장민재       투수  우투우타      광주제일고     184\n",
       "3       13   최재훈       포수  우투우타        덕수고     178\n",
       "4       52   김태균      내야수  우투우타      천안북일고     185\n",
       "5        7   송광민      내야수  우투우타        공주고     184\n",
       "6       50   이성열      내야수  우투우타      순천효천고     185\n",
       "7       43   정은원      내야수  우투좌타        인천고     178\n",
       "8        8   정근우      외야수  우투우타        부산고     172\n",
       "9       25   최진행      외야수  우투우타      덕수정보고     188"
      ]
     },
     "execution_count": 76,
     "metadata": {},
     "output_type": "execute_result"
    }
   ],
   "source": [
    "import pandas as pd\n",
    "\n",
    "players = pd.read_csv('./players.csv', encoding='EUC-KR')  # 인코딩, 경로 주의 \n",
    "players"
   ]
  },
  {
   "cell_type": "markdown",
   "metadata": {},
   "source": [
    "### **5.3 읽은 csv 파일을 데이터베이스에 추가**"
   ]
  },
  {
   "cell_type": "code",
   "execution_count": 77,
   "metadata": {},
   "outputs": [],
   "source": [
    "cur = conn.cursor()\n",
    "sql = 'INSERT INTO Eagles VALUES (?, ?, ?, ?, ?, ?);'\n",
    "for i in range(10):\n",
    "    cur.execute(sql, (int(players.iloc[i,0]), # 데이터 타입 주의 \n",
    "                      players.iloc[i,1], players.iloc[i,2], \n",
    "                      players.iloc[i,3], players.iloc[i,4], \n",
    "                      int(players.iloc[i,5])))\n",
    "conn.commit() # 변경사항 저장 "
   ]
  },
  {
   "cell_type": "markdown",
   "metadata": {},
   "source": [
    "# 데이터 조작 언어(Data Manipulation Language, DML)"
   ]
  },
  {
   "cell_type": "markdown",
   "metadata": {},
   "source": [
    "## **1. 데이터 조회**"
   ]
  },
  {
   "cell_type": "markdown",
   "metadata": {},
   "source": [
    "### **1.1 순회조회**"
   ]
  },
  {
   "cell_type": "code",
   "execution_count": 22,
   "metadata": {},
   "outputs": [
    {
     "name": "stdout",
     "output_type": "stream",
     "text": [
      "(1, '하주석', '내야수', '우투좌타', '신일고', 184)\n",
      "(28, '양성우', '외야수', '우투좌타', '충암고', 177)\n",
      "(17, '김범수', '투수', '좌투좌타', '천안북일고', 181)\n",
      "(38, '안영명', '투수', '우투우타', '천안북일고', 183)\n",
      "(36, '장민재', '투수', '우투우타', '광주제일고', 184)\n",
      "(13, '최재훈', '포수', '우투우타', '덕수고', 178)\n",
      "(52, '김태균', '내야수', '우투우타', '천안북일고', 185)\n",
      "(7, ' 송광민', '내야수', '우투우타', '공주고', 184)\n",
      "(50, '이성열', '내야수', '우투우타', '순천효천고', 185)\n",
      "(43, '정은원', '내야수', '우투좌타', '인천고', 178)\n",
      "(8, ' 정근우', '외야수', '우투우타', '부산고', 172)\n",
      "(25, '최진행', '외야수', '우투우타', '덕수정보고', 188)\n"
     ]
    }
   ],
   "source": [
    "cur = conn.cursor()\n",
    "cur.execute('SELECT * FROM Eagles')\n",
    "for row in cur:\n",
    "    print(row)"
   ]
  },
  {
   "cell_type": "markdown",
   "metadata": {},
   "source": [
    "### **1.2 단건조회**"
   ]
  },
  {
   "cell_type": "code",
   "execution_count": 23,
   "metadata": {},
   "outputs": [
    {
     "name": "stdout",
     "output_type": "stream",
     "text": [
      "(1, '하주석', '내야수', '우투좌타', '신일고', 184)\n"
     ]
    }
   ],
   "source": [
    "cur=conn.cursor()\n",
    "cur.execute('SELECT * FROM Eagles')\n",
    "row = cur.fetchone()\n",
    "print(row)"
   ]
  },
  {
   "cell_type": "markdown",
   "metadata": {},
   "source": [
    "### **1.3 다건조회**"
   ]
  },
  {
   "cell_type": "code",
   "execution_count": 24,
   "metadata": {},
   "outputs": [
    {
     "name": "stdout",
     "output_type": "stream",
     "text": [
      "(28, '양성우', '외야수', '우투좌타', '충암고', 177)\n",
      "(17, '김범수', '투수', '좌투좌타', '천안북일고', 181)\n"
     ]
    }
   ],
   "source": [
    "rows = cur.fetchmany(2)\n",
    "\n",
    "for row in rows:\n",
    "    print(row)"
   ]
  },
  {
   "cell_type": "markdown",
   "metadata": {},
   "source": [
    "### **1.4 모두조회**"
   ]
  },
  {
   "cell_type": "code",
   "execution_count": 25,
   "metadata": {},
   "outputs": [
    {
     "name": "stdout",
     "output_type": "stream",
     "text": [
      "(38, '안영명', '투수', '우투우타', '천안북일고', 183)\n",
      "(36, '장민재', '투수', '우투우타', '광주제일고', 184)\n",
      "(13, '최재훈', '포수', '우투우타', '덕수고', 178)\n",
      "(52, '김태균', '내야수', '우투우타', '천안북일고', 185)\n",
      "(7, ' 송광민', '내야수', '우투우타', '공주고', 184)\n",
      "(50, '이성열', '내야수', '우투우타', '순천효천고', 185)\n",
      "(43, '정은원', '내야수', '우투좌타', '인천고', 178)\n",
      "(8, ' 정근우', '외야수', '우투우타', '부산고', 172)\n",
      "(25, '최진행', '외야수', '우투우타', '덕수정보고', 188)\n"
     ]
    }
   ],
   "source": [
    "rows = cur.fetchall()\n",
    "for row in rows:\n",
    "    print(row)"
   ]
  },
  {
   "cell_type": "markdown",
   "metadata": {},
   "source": [
    "### **1.5 필요한 열만 조회**"
   ]
  },
  {
   "cell_type": "code",
   "execution_count": 26,
   "metadata": {},
   "outputs": [
    {
     "name": "stdout",
     "output_type": "stream",
     "text": [
      "('최재훈',)\n",
      "('김범수',)\n",
      "('최진행',)\n",
      "('양성우',)\n",
      "('장민재',)\n",
      "('안영명',)\n",
      "('정은원',)\n",
      "('이성열',)\n",
      "('김태균',)\n"
     ]
    }
   ],
   "source": [
    "cur = conn.cursor()\n",
    "cur.execute('SELECT name FROM Eagles WHERE back_no > 10')  # back_no가 10 초과인 야구선수의 이름 조회\n",
    "rows = cur.fetchall()\n",
    "\n",
    "for row in rows:\n",
    "    print(row)"
   ]
  },
  {
   "cell_type": "code",
   "execution_count": 27,
   "metadata": {},
   "outputs": [
    {
     "name": "stdout",
     "output_type": "stream",
     "text": [
      "(1, '하주석', '내야수', '우투좌타', '신일고', 184)\n",
      "(52, '김태균', '내야수', '우투우타', '천안북일고', 185)\n",
      "(7, ' 송광민', '내야수', '우투우타', '공주고', 184)\n",
      "(50, '이성열', '내야수', '우투우타', '순천효천고', 185)\n",
      "(43, '정은원', '내야수', '우투좌타', '인천고', 178)\n"
     ]
    }
   ],
   "source": [
    "cur = conn.cursor()\n",
    "cur.execute(\"SELECT * FROM Eagles WHERE position like '내야수'\")  # 포지션이 내야수인 야구선수 조회 \n",
    "rows = cur.fetchall()\n",
    "\n",
    "for row in rows:\n",
    "    print(row)"
   ]
  },
  {
   "cell_type": "markdown",
   "metadata": {},
   "source": [
    "### **1.6 원하는 순서 및 개수 조회**"
   ]
  },
  {
   "cell_type": "code",
   "execution_count": 30,
   "metadata": {},
   "outputs": [
    {
     "name": "stdout",
     "output_type": "stream",
     "text": [
      "(25, '최진행', '외야수', '우투우타', '덕수정보고', 188)\n",
      "(52, '김태균', '내야수', '우투우타', '천안북일고', 185)\n",
      "(50, '이성열', '내야수', '우투우타', '순천효천고', 185)\n",
      "(1, '하주석', '내야수', '우투좌타', '신일고', 184)\n",
      "(36, '장민재', '투수', '우투우타', '광주제일고', 184)\n",
      "(7, ' 송광민', '내야수', '우투우타', '공주고', 184)\n",
      "(38, '안영명', '투수', '우투우타', '천안북일고', 183)\n",
      "(17, '김범수', '투수', '좌투좌타', '천안북일고', 181)\n",
      "(13, '최재훈', '포수', '우투우타', '덕수고', 178)\n",
      "(43, '정은원', '내야수', '우투좌타', '인천고', 178)\n",
      "(28, '양성우', '외야수', '우투좌타', '충암고', 177)\n",
      "(8, ' 정근우', '외야수', '우투우타', '부산고', 172)\n"
     ]
    }
   ],
   "source": [
    "cur.execute('SELECT * FROM Eagles ORDER BY height DESC')  # 키에 따른 내림차순 정렬 \n",
    "rows = cur.fetchall()\n",
    "\n",
    "for row in rows:\n",
    "    print(row)"
   ]
  },
  {
   "cell_type": "code",
   "execution_count": 32,
   "metadata": {},
   "outputs": [
    {
     "name": "stdout",
     "output_type": "stream",
     "text": [
      "(25, '최진행', '외야수', '우투우타', '덕수정보고', 188)\n",
      "(52, '김태균', '내야수', '우투우타', '천안북일고', 185)\n",
      "(50, '이성열', '내야수', '우투우타', '순천효천고', 185)\n",
      "(1, '하주석', '내야수', '우투좌타', '신일고', 184)\n",
      "(36, '장민재', '투수', '우투우타', '광주제일고', 184)\n"
     ]
    }
   ],
   "source": [
    "cur.execute('SELECT * FROM Eagles ORDER BY height DESC LIMIT 5')  # 키에 따른 내림차순 정렬 top5 \n",
    "rows = cur.fetchall()\n",
    "\n",
    "for row in rows:\n",
    "    print(row)"
   ]
  },
  {
   "cell_type": "markdown",
   "metadata": {},
   "source": [
    "### **1.7 집계 함수**"
   ]
  },
  {
   "cell_type": "code",
   "execution_count": 33,
   "metadata": {},
   "outputs": [
    {
     "name": "stdout",
     "output_type": "stream",
     "text": [
      "[(12,)]\n"
     ]
    }
   ],
   "source": [
    "cur.execute('SELECT count(*) FROM Eagles')\n",
    "count = cur.fetchall()\n",
    "print(count)\n"
   ]
  },
  {
   "cell_type": "code",
   "execution_count": 38,
   "metadata": {},
   "outputs": [
    {
     "name": "stdout",
     "output_type": "stream",
     "text": [
      "('내야수', 5, 183.2)\n",
      "('외야수', 3, 179.0)\n",
      "('투수', 3, 182.66666666666666)\n",
      "('포수', 1, 178.0)\n"
     ]
    }
   ],
   "source": [
    "# 그룹핑, 집계 함수 \n",
    "\n",
    "cur = conn.cursor()\n",
    "cur.execute('SELECT position, count(*), avg(height) FROM Eagles GROUP BY position')  # 포지션별 수, 평균키\n",
    "rows = cur.fetchall()\n",
    "\n",
    "for row in rows:\n",
    "    print(row)"
   ]
  },
  {
   "cell_type": "markdown",
   "metadata": {},
   "source": [
    "### **1.8 Placeholder**"
   ]
  },
  {
   "cell_type": "code",
   "execution_count": 44,
   "metadata": {},
   "outputs": [
    {
     "name": "stdout",
     "output_type": "stream",
     "text": [
      "(50, '이성열', '내야수', '우투우타', '순천효천고', 185)\n"
     ]
    }
   ],
   "source": [
    "cur = conn.cursor()\n",
    "back_no = 50\n",
    "cur.execute('SELECT * FROM Eagles WHERE back_no=?;', (back_no,))\n",
    "player = cur.fetchone() \n",
    "print(player) # 50"
   ]
  },
  {
   "cell_type": "markdown",
   "metadata": {},
   "source": [
    "## **2. 데이터 변경**\n",
    "\n",
    "- UPDATE table SET field1 = value1, ... WHERE 조건;"
   ]
  },
  {
   "cell_type": "code",
   "execution_count": 54,
   "metadata": {},
   "outputs": [],
   "source": [
    "cur = conn.cursor()\n",
    "cur.execute(\"UPDATE Eagles SET hands ='우투좌타', highschool='미국고', \\\n",
    "            height = 190 WHERE back_no = 30;\")\n",
    "conn.commit()"
   ]
  },
  {
   "cell_type": "markdown",
   "metadata": {},
   "source": [
    "## **3. 데이터 삭제**\n",
    "\n",
    "- DELETE FROM table WHERE 조건;"
   ]
  },
  {
   "cell_type": "code",
   "execution_count": 56,
   "metadata": {},
   "outputs": [],
   "source": [
    "cur = conn.cursor()\n",
    "cur.execute(\"DELETE FROM Eagles WHERE back_no = 1;\")\n",
    "conn.commit()"
   ]
  },
  {
   "cell_type": "markdown",
   "metadata": {},
   "source": [
    "## **4. 데이터 병합**"
   ]
  },
  {
   "cell_type": "markdown",
   "metadata": {},
   "source": [
    "### **4.1 병합을 위한 준비**"
   ]
  },
  {
   "cell_type": "code",
   "execution_count": 74,
   "metadata": {},
   "outputs": [
    {
     "data": {
      "text/plain": [
       "<sqlite3.Cursor at 0x5ecbce0>"
      ]
     },
     "execution_count": 74,
     "metadata": {},
     "output_type": "execute_result"
    }
   ],
   "source": [
    "# 테이블 생성 \n",
    "\n",
    "cur = conn.cursor()\n",
    "cur.execute('CREATE TABLE IF NOT EXISTS stats \\\n",
    "    (id INT NOT NULL, \\\n",
    "     player TEXT, \\\n",
    "     average REAL, \\\n",
    "     rbi INT, \\\n",
    "     homerun INT, \\\n",
    "     PRIMARY KEY(id));')"
   ]
  },
  {
   "cell_type": "code",
   "execution_count": 75,
   "metadata": {},
   "outputs": [
    {
     "data": {
      "text/html": [
       "<div>\n",
       "<style scoped>\n",
       "    .dataframe tbody tr th:only-of-type {\n",
       "        vertical-align: middle;\n",
       "    }\n",
       "\n",
       "    .dataframe tbody tr th {\n",
       "        vertical-align: top;\n",
       "    }\n",
       "\n",
       "    .dataframe thead th {\n",
       "        text-align: right;\n",
       "    }\n",
       "</style>\n",
       "<table border=\"1\" class=\"dataframe\">\n",
       "  <thead>\n",
       "    <tr style=\"text-align: right;\">\n",
       "      <th></th>\n",
       "      <th>player</th>\n",
       "      <th>average</th>\n",
       "      <th>rbi</th>\n",
       "      <th>homerun</th>\n",
       "    </tr>\n",
       "  </thead>\n",
       "  <tbody>\n",
       "    <tr>\n",
       "      <th>0</th>\n",
       "      <td>호잉</td>\n",
       "      <td>0.288</td>\n",
       "      <td>58</td>\n",
       "      <td>15</td>\n",
       "    </tr>\n",
       "    <tr>\n",
       "      <th>1</th>\n",
       "      <td>양성우</td>\n",
       "      <td>0.176</td>\n",
       "      <td>6</td>\n",
       "      <td>1</td>\n",
       "    </tr>\n",
       "    <tr>\n",
       "      <th>2</th>\n",
       "      <td>최재훈</td>\n",
       "      <td>0.300</td>\n",
       "      <td>23</td>\n",
       "      <td>2</td>\n",
       "    </tr>\n",
       "    <tr>\n",
       "      <th>3</th>\n",
       "      <td>김태균</td>\n",
       "      <td>0.308</td>\n",
       "      <td>43</td>\n",
       "      <td>5</td>\n",
       "    </tr>\n",
       "    <tr>\n",
       "      <th>4</th>\n",
       "      <td>송광민</td>\n",
       "      <td>0.257</td>\n",
       "      <td>39</td>\n",
       "      <td>6</td>\n",
       "    </tr>\n",
       "    <tr>\n",
       "      <th>5</th>\n",
       "      <td>이성열</td>\n",
       "      <td>0.255</td>\n",
       "      <td>62</td>\n",
       "      <td>18</td>\n",
       "    </tr>\n",
       "    <tr>\n",
       "      <th>6</th>\n",
       "      <td>정은원</td>\n",
       "      <td>0.281</td>\n",
       "      <td>47</td>\n",
       "      <td>5</td>\n",
       "    </tr>\n",
       "    <tr>\n",
       "      <th>7</th>\n",
       "      <td>정근우</td>\n",
       "      <td>0.219</td>\n",
       "      <td>10</td>\n",
       "      <td>2</td>\n",
       "    </tr>\n",
       "    <tr>\n",
       "      <th>8</th>\n",
       "      <td>최진행</td>\n",
       "      <td>0.184</td>\n",
       "      <td>14</td>\n",
       "      <td>3</td>\n",
       "    </tr>\n",
       "  </tbody>\n",
       "</table>\n",
       "</div>"
      ],
      "text/plain": [
       "  player  average  rbi  homerun\n",
       "0     호잉    0.288   58       15\n",
       "1    양성우    0.176    6        1\n",
       "2    최재훈    0.300   23        2\n",
       "3    김태균    0.308   43        5\n",
       "4    송광민    0.257   39        6\n",
       "5    이성열    0.255   62       18\n",
       "6    정은원    0.281   47        5\n",
       "7    정근우    0.219   10        2\n",
       "8    최진행    0.184   14        3"
      ]
     },
     "execution_count": 75,
     "metadata": {},
     "output_type": "execute_result"
    }
   ],
   "source": [
    "# csv 파일 읽기\n",
    "\n",
    "stats = pd.read_csv('./stats.csv', encoding='EUC-KR')\n",
    "stats"
   ]
  },
  {
   "cell_type": "code",
   "execution_count": 80,
   "metadata": {},
   "outputs": [],
   "source": [
    "# 데이터베이스에 stats 테이블 추가\n",
    "\n",
    "cur = conn.cursor()\n",
    "sql = 'INSERT INTO stats VALUES (?, ?, ?, ?, ?);'\n",
    "for i in range(9):\n",
    "    cur.execute(sql, (i+1,\n",
    "                      stats.iloc[i,0],\n",
    "                      float(stats.iloc[i,1]),\n",
    "                      int(stats.iloc[i,2]),\n",
    "                      int(stats.iloc[i,3])\n",
    "                     ))\n",
    "conn.commit() # 변경사항 저장 "
   ]
  },
  {
   "cell_type": "code",
   "execution_count": 81,
   "metadata": {},
   "outputs": [
    {
     "name": "stdout",
     "output_type": "stream",
     "text": [
      "(1, '호잉', 0.28800000000000003, 58, 15)\n",
      "(2, '양성우', 0.17600000000000002, 6, 1)\n",
      "(3, '최재훈', 0.3, 23, 2)\n",
      "(4, '김태균', 0.308, 43, 5)\n",
      "(5, '송광민', 0.257, 39, 6)\n",
      "(6, '이성열', 0.255, 62, 18)\n",
      "(7, '정은원', 0.281, 47, 5)\n",
      "(8, '정근우', 0.21899999999999997, 10, 2)\n",
      "(9, '최진행', 0.184, 14, 3)\n"
     ]
    }
   ],
   "source": [
    "# 데이터베이스 stats 테이블 확인 \n",
    "\n",
    "cur = conn.cursor()\n",
    "cur.execute('SELECT * FROM stats')\n",
    "\n",
    "for row in cur:\n",
    "    print(row)"
   ]
  },
  {
   "cell_type": "markdown",
   "metadata": {},
   "source": [
    "### **4.2 테이블 병합 및 데이터프레임으로 만들기**"
   ]
  },
  {
   "cell_type": "markdown",
   "metadata": {},
   "source": [
    "### **4.2.1 데이터베이스에 있는 데이터 확인하기**"
   ]
  },
  {
   "cell_type": "code",
   "execution_count": 93,
   "metadata": {},
   "outputs": [
    {
     "name": "stdout",
     "output_type": "stream",
     "text": [
      "(28, '양성우', '외야수', 0.176, 6, 1)\n",
      "(30, '호잉', '외야수', 0.288, 58, 15)\n",
      "(13, '최재훈', '포수', 0.3, 23, 2)\n",
      "(52, '김태균', '내야수', 0.308, 43, 5)\n",
      "(50, '이성열', '내야수', 0.255, 62, 18)\n",
      "(43, '정은원', '내야수', 0.281, 47, 5)\n",
      "(25, '최진행', '외야수', 0.184, 14, 3)\n"
     ]
    }
   ],
   "source": [
    "# 데이터 병합 후 데이터 확인해보기\n",
    "\n",
    "sql = \"SELECT e.back_no, e.name, e.position, \\\n",
    "        round(s.average, 3), s.rbi, s.homerun \\\n",
    "        FROM Eagles AS e JOIN stats AS s \\\n",
    "        ON e.name like s.player;\"\n",
    "\n",
    "cur = conn.cursor()\n",
    "cur.execute(sql)\n",
    "\n",
    "for row in cur:\n",
    "    print(row)"
   ]
  },
  {
   "cell_type": "markdown",
   "metadata": {},
   "source": [
    "### **4.2.2 데이터베이스에 있는 stats를 데이터프레임으로 만들기**"
   ]
  },
  {
   "cell_type": "code",
   "execution_count": 132,
   "metadata": {},
   "outputs": [
    {
     "data": {
      "text/html": [
       "<div>\n",
       "<style scoped>\n",
       "    .dataframe tbody tr th:only-of-type {\n",
       "        vertical-align: middle;\n",
       "    }\n",
       "\n",
       "    .dataframe tbody tr th {\n",
       "        vertical-align: top;\n",
       "    }\n",
       "\n",
       "    .dataframe thead th {\n",
       "        text-align: right;\n",
       "    }\n",
       "</style>\n",
       "<table border=\"1\" class=\"dataframe\">\n",
       "  <thead>\n",
       "    <tr style=\"text-align: right;\">\n",
       "      <th></th>\n",
       "      <th>등번호</th>\n",
       "      <th>선수명</th>\n",
       "      <th>포지션</th>\n",
       "      <th>타율</th>\n",
       "      <th>타점</th>\n",
       "      <th>홈런</th>\n",
       "    </tr>\n",
       "  </thead>\n",
       "  <tbody>\n",
       "    <tr>\n",
       "      <th>0</th>\n",
       "      <td>28</td>\n",
       "      <td>양성우</td>\n",
       "      <td>외야수</td>\n",
       "      <td>0.176</td>\n",
       "      <td>6</td>\n",
       "      <td>1</td>\n",
       "    </tr>\n",
       "    <tr>\n",
       "      <th>1</th>\n",
       "      <td>30</td>\n",
       "      <td>호잉</td>\n",
       "      <td>외야수</td>\n",
       "      <td>0.288</td>\n",
       "      <td>58</td>\n",
       "      <td>15</td>\n",
       "    </tr>\n",
       "    <tr>\n",
       "      <th>2</th>\n",
       "      <td>13</td>\n",
       "      <td>최재훈</td>\n",
       "      <td>포수</td>\n",
       "      <td>0.300</td>\n",
       "      <td>23</td>\n",
       "      <td>2</td>\n",
       "    </tr>\n",
       "    <tr>\n",
       "      <th>3</th>\n",
       "      <td>52</td>\n",
       "      <td>김태균</td>\n",
       "      <td>내야수</td>\n",
       "      <td>0.308</td>\n",
       "      <td>43</td>\n",
       "      <td>5</td>\n",
       "    </tr>\n",
       "    <tr>\n",
       "      <th>4</th>\n",
       "      <td>50</td>\n",
       "      <td>이성열</td>\n",
       "      <td>내야수</td>\n",
       "      <td>0.255</td>\n",
       "      <td>62</td>\n",
       "      <td>18</td>\n",
       "    </tr>\n",
       "    <tr>\n",
       "      <th>5</th>\n",
       "      <td>43</td>\n",
       "      <td>정은원</td>\n",
       "      <td>내야수</td>\n",
       "      <td>0.281</td>\n",
       "      <td>47</td>\n",
       "      <td>5</td>\n",
       "    </tr>\n",
       "    <tr>\n",
       "      <th>6</th>\n",
       "      <td>25</td>\n",
       "      <td>최진행</td>\n",
       "      <td>외야수</td>\n",
       "      <td>0.184</td>\n",
       "      <td>14</td>\n",
       "      <td>3</td>\n",
       "    </tr>\n",
       "  </tbody>\n",
       "</table>\n",
       "</div>"
      ],
      "text/plain": [
       "   등번호  선수명  포지션     타율  타점  홈런\n",
       "0   28  양성우  외야수  0.176   6   1\n",
       "1   30   호잉  외야수  0.288  58  15\n",
       "2   13  최재훈   포수  0.300  23   2\n",
       "3   52  김태균  내야수  0.308  43   5\n",
       "4   50  이성열  내야수  0.255  62  18\n",
       "5   43  정은원  내야수  0.281  47   5\n",
       "6   25  최진행  외야수  0.184  14   3"
      ]
     },
     "execution_count": 132,
     "metadata": {},
     "output_type": "execute_result"
    }
   ],
   "source": [
    "cur = conn.cursor()\n",
    "cur.execute(sql)\n",
    "\n",
    "rows = cur.fetchall()\n",
    "colName = ['등번호', '선수명', '포지션', '타율', '타점', '홈런']\n",
    "\n",
    "eagles_df = pd.DataFrame(rows, columns = colName)  # 열 이름을 갖는 데이터프레임 생성 \n",
    "eagles_df\n"
   ]
  },
  {
   "cell_type": "markdown",
   "metadata": {},
   "source": [
    "## **종료하기**"
   ]
  },
  {
   "cell_type": "code",
   "execution_count": 136,
   "metadata": {},
   "outputs": [],
   "source": [
    "conn.close()"
   ]
  }
 ],
 "metadata": {
  "kernelspec": {
   "display_name": "Python 3",
   "language": "python",
   "name": "python3"
  },
  "language_info": {
   "codemirror_mode": {
    "name": "ipython",
    "version": 3
   },
   "file_extension": ".py",
   "mimetype": "text/x-python",
   "name": "python",
   "nbconvert_exporter": "python",
   "pygments_lexer": "ipython3",
   "version": "3.7.3"
  }
 },
 "nbformat": 4,
 "nbformat_minor": 2
}
