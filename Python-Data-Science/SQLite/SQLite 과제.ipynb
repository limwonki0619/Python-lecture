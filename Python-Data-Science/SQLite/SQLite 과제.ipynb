{
 "cells": [
  {
   "cell_type": "markdown",
   "metadata": {},
   "source": [
    "# **SQLite 연습문제**"
   ]
  },
  {
   "cell_type": "markdown",
   "metadata": {},
   "source": [
    "## **연습문제 1**\n",
    "\n",
    "투수들의 기록중에서 평균자책점(ERA), 투구인닝(IP), 탈삼진(SO) 기록을 찾아서 Pitcher_stats 란 테이블을 만들고, Eagles 테이블과 Join 하여 백넘버, 선수명, 포지션, 투구인닝, 평균자책점, 탈삼진 필드를 갖는 데이터 프레임을 만들어서 Join 한 결과를 입력하고, 그 결과를 보이시오."
   ]
  },
  {
   "cell_type": "markdown",
   "metadata": {},
   "source": [
    "### **1.1 데이터 베이스 접속**"
   ]
  },
  {
   "cell_type": "code",
   "execution_count": 1,
   "metadata": {},
   "outputs": [],
   "source": [
    "import sqlite3\n",
    "\n",
    "conn = sqlite3.connect('./test.db') "
   ]
  },
  {
   "cell_type": "markdown",
   "metadata": {},
   "source": [
    "### **1.2 DB에 Pitcher_stats 테이블 생성 준비**"
   ]
  },
  {
   "cell_type": "code",
   "execution_count": 2,
   "metadata": {},
   "outputs": [
    {
     "data": {
      "text/plain": [
       "<sqlite3.Cursor at 0x5823a40>"
      ]
     },
     "execution_count": 2,
     "metadata": {},
     "output_type": "execute_result"
    }
   ],
   "source": [
    "cur = conn.cursor()\n",
    "cur.execute('CREATE TABLE IF NOT EXISTS Pitcher_stats \\\n",
    "    (back_no INT NOT NULL, \\\n",
    "     player TEXT, \\\n",
    "     ERA INT, \\\n",
    "     IP REAL, \\\n",
    "     SO INT, \\\n",
    "     PRIMARY KEY(back_no));')"
   ]
  },
  {
   "cell_type": "markdown",
   "metadata": {},
   "source": [
    "### **1.3 pitcher.csv 파일을 pitcher로 저장**"
   ]
  },
  {
   "cell_type": "code",
   "execution_count": 3,
   "metadata": {},
   "outputs": [
    {
     "data": {
      "text/html": [
       "<div>\n",
       "<style scoped>\n",
       "    .dataframe tbody tr th:only-of-type {\n",
       "        vertical-align: middle;\n",
       "    }\n",
       "\n",
       "    .dataframe tbody tr th {\n",
       "        vertical-align: top;\n",
       "    }\n",
       "\n",
       "    .dataframe thead th {\n",
       "        text-align: right;\n",
       "    }\n",
       "</style>\n",
       "<table border=\"1\" class=\"dataframe\">\n",
       "  <thead>\n",
       "    <tr style=\"text-align: right;\">\n",
       "      <th></th>\n",
       "      <th>back_no</th>\n",
       "      <th>player</th>\n",
       "      <th>ERA</th>\n",
       "      <th>IP</th>\n",
       "      <th>SO</th>\n",
       "    </tr>\n",
       "  </thead>\n",
       "  <tbody>\n",
       "    <tr>\n",
       "      <th>0</th>\n",
       "      <td>17</td>\n",
       "      <td>김범수</td>\n",
       "      <td>5.67</td>\n",
       "      <td>81.00</td>\n",
       "      <td>65</td>\n",
       "    </tr>\n",
       "    <tr>\n",
       "      <th>1</th>\n",
       "      <td>38</td>\n",
       "      <td>안영명</td>\n",
       "      <td>3.43</td>\n",
       "      <td>44.67</td>\n",
       "      <td>35</td>\n",
       "    </tr>\n",
       "    <tr>\n",
       "      <th>2</th>\n",
       "      <td>36</td>\n",
       "      <td>장민재</td>\n",
       "      <td>4.81</td>\n",
       "      <td>91.67</td>\n",
       "      <td>84</td>\n",
       "    </tr>\n",
       "  </tbody>\n",
       "</table>\n",
       "</div>"
      ],
      "text/plain": [
       "   back_no player   ERA     IP  SO\n",
       "0       17    김범수  5.67  81.00  65\n",
       "1       38    안영명  3.43  44.67  35\n",
       "2       36    장민재  4.81  91.67  84"
      ]
     },
     "execution_count": 3,
     "metadata": {},
     "output_type": "execute_result"
    }
   ],
   "source": [
    "import pandas as pd\n",
    "\n",
    "pitcher = pd.read_csv('./pitcher.csv', encoding='EUC-KR')\n",
    "pitcher"
   ]
  },
  {
   "cell_type": "markdown",
   "metadata": {},
   "source": [
    "### **1.4 pitcher 데이터프레임에 있는 데이터를 DB의 Pitcher_stats 테이블에 할당**"
   ]
  },
  {
   "cell_type": "code",
   "execution_count": 4,
   "metadata": {},
   "outputs": [],
   "source": [
    "# 앞에서 생성된 Pitcher_stats에 데이터 할당\n",
    "\n",
    "cur = conn.cursor() \n",
    "sql = 'INSERT INTO Pitcher_stats VALUES (?, ?, ?, ?, ?);'\n",
    "\n",
    "for i in range(3):\n",
    "    cur.execute(sql, (int(pitcher.iloc[i, 0]),\n",
    "                      pitcher.iloc[i, 1],\n",
    "                      float(pitcher.iloc[i, 2]),\n",
    "                      float(pitcher.iloc[i, 3]),\n",
    "                      int(pitcher.iloc[i, 4])\n",
    "                      ))\n",
    "conn.commit()"
   ]
  },
  {
   "cell_type": "markdown",
   "metadata": {},
   "source": [
    "### **1.5 SQL문으로 Eagles 테이블과 Pitcher_stats 테이블 Join**"
   ]
  },
  {
   "cell_type": "code",
   "execution_count": 5,
   "metadata": {},
   "outputs": [
    {
     "data": {
      "text/plain": [
       "[(17, '김범수', '투수', 5.67, 81.0, 65),\n",
       " (38, '안영명', '투수', 3.43, 44.67, 35),\n",
       " (36, '장민재', '투수', 4.81, 91.67, 84)]"
      ]
     },
     "execution_count": 5,
     "metadata": {},
     "output_type": "execute_result"
    }
   ],
   "source": [
    "# Eagles와 pitcher 테이블 join\n",
    "\n",
    "join = \"SELECT e.back_no, e.name, e.position, \\\n",
    "        p.ERA, p.IP, p.SO \\\n",
    "        FROM Eagles AS e JOIN Pitcher_stats AS p \\\n",
    "        ON e.name like p.player;\"\n",
    "\n",
    "cur = conn.cursor()\n",
    "cur.execute(join)\n",
    "\n",
    "pitcher_join = cur.fetchall()\n",
    "pitcher_join"
   ]
  },
  {
   "cell_type": "markdown",
   "metadata": {},
   "source": [
    "### **1.6 Join한 결과를 데이터프레임으로 변환**"
   ]
  },
  {
   "cell_type": "code",
   "execution_count": 6,
   "metadata": {},
   "outputs": [
    {
     "data": {
      "text/html": [
       "<div>\n",
       "<style scoped>\n",
       "    .dataframe tbody tr th:only-of-type {\n",
       "        vertical-align: middle;\n",
       "    }\n",
       "\n",
       "    .dataframe tbody tr th {\n",
       "        vertical-align: top;\n",
       "    }\n",
       "\n",
       "    .dataframe thead th {\n",
       "        text-align: right;\n",
       "    }\n",
       "</style>\n",
       "<table border=\"1\" class=\"dataframe\">\n",
       "  <thead>\n",
       "    <tr style=\"text-align: right;\">\n",
       "      <th></th>\n",
       "      <th>등번호</th>\n",
       "      <th>선수명</th>\n",
       "      <th>포지션</th>\n",
       "      <th>방어율</th>\n",
       "      <th>투구이닝</th>\n",
       "      <th>탈삼진</th>\n",
       "    </tr>\n",
       "  </thead>\n",
       "  <tbody>\n",
       "    <tr>\n",
       "      <th>0</th>\n",
       "      <td>17</td>\n",
       "      <td>김범수</td>\n",
       "      <td>투수</td>\n",
       "      <td>5.67</td>\n",
       "      <td>81.00</td>\n",
       "      <td>65</td>\n",
       "    </tr>\n",
       "    <tr>\n",
       "      <th>1</th>\n",
       "      <td>38</td>\n",
       "      <td>안영명</td>\n",
       "      <td>투수</td>\n",
       "      <td>3.43</td>\n",
       "      <td>44.67</td>\n",
       "      <td>35</td>\n",
       "    </tr>\n",
       "    <tr>\n",
       "      <th>2</th>\n",
       "      <td>36</td>\n",
       "      <td>장민재</td>\n",
       "      <td>투수</td>\n",
       "      <td>4.81</td>\n",
       "      <td>91.67</td>\n",
       "      <td>84</td>\n",
       "    </tr>\n",
       "  </tbody>\n",
       "</table>\n",
       "</div>"
      ],
      "text/plain": [
       "   등번호  선수명 포지션   방어율   투구이닝  탈삼진\n",
       "0   17  김범수  투수  5.67  81.00   65\n",
       "1   38  안영명  투수  3.43  44.67   35\n",
       "2   36  장민재  투수  4.81  91.67   84"
      ]
     },
     "execution_count": 6,
     "metadata": {},
     "output_type": "execute_result"
    }
   ],
   "source": [
    "# join한 결과를 데이터프레임으로 변환\n",
    "\n",
    "colName = ['등번호', '선수명', '포지션', '방어율', '투구이닝', '탈삼진']  \n",
    "pitcher_df = pd.DataFrame(pitcher_join, columns = colName)\n",
    "pitcher_df"
   ]
  },
  {
   "cell_type": "code",
   "execution_count": 85,
   "metadata": {},
   "outputs": [],
   "source": [
    "conn.close()"
   ]
  },
  {
   "cell_type": "markdown",
   "metadata": {},
   "source": [
    "## **연습문제 2**\n",
    "\n",
    "다음의 지시대로 DB 테이블을 만들고 이를 조회하는 프로그램을 만드시오.  \n",
    "\n",
    "1. 국내의 대표적인 걸그룹 또는 보이그룹 5개 이상에 대하여 다음과 같은 정보를 갖는 테이블을 만드시오. \n",
    "\n",
    "    - id(Primary Key). group_name, member_num, debut_date, company\n",
    "\n",
    "\n",
    "2. 이들이 불렀던 노래 또는 다른 사람이 불렀던 노래 10곡 이상에 대하여 다음의 정보를 갖는 테이블을 만드시오.\n",
    "\n",
    "    - song_id(Primary_Key), song_name, group_id, am_year, songwriter, intro_lyrics  \n",
    "        \n",
    "\n",
    "3. 위 두 개의 테이블을 Join한 결과를 가지고 다음의 필드를 갖는 데이터프레임을 만드시오.\n",
    "\n",
    "    - group_name, member_num, debut_date, song_name, am_year"
   ]
  },
  {
   "cell_type": "markdown",
   "metadata": {},
   "source": [
    "### **2.1 DB에 Group_1 테이블 및 Group_2 테이블 생성**"
   ]
  },
  {
   "cell_type": "markdown",
   "metadata": {},
   "source": [
    "#### **2.1.1 Group_1 테이블 생성**"
   ]
  },
  {
   "cell_type": "code",
   "execution_count": 1,
   "metadata": {},
   "outputs": [],
   "source": [
    "import sqlite3\n",
    "\n",
    "conn = sqlite3.connect('./test.db') "
   ]
  },
  {
   "cell_type": "code",
   "execution_count": 2,
   "metadata": {},
   "outputs": [
    {
     "data": {
      "text/plain": [
       "<sqlite3.Cursor at 0x60199d0>"
      ]
     },
     "execution_count": 2,
     "metadata": {},
     "output_type": "execute_result"
    }
   ],
   "source": [
    "# groups_1 테이블 생성 준비 \n",
    "\n",
    "cur = conn.cursor()\n",
    "cur.execute('CREATE TABLE IF NOT EXISTS groups_1 \\\n",
    "    (id INT NOT NULL, \\\n",
    "     group_name TEXT, \\\n",
    "     member_num INT, \\\n",
    "     debut_date DATE, \\\n",
    "     company TEXT, \\\n",
    "     PRIMARY KEY(id));')"
   ]
  },
  {
   "cell_type": "code",
   "execution_count": 3,
   "metadata": {},
   "outputs": [
    {
     "data": {
      "text/html": [
       "<div>\n",
       "<style scoped>\n",
       "    .dataframe tbody tr th:only-of-type {\n",
       "        vertical-align: middle;\n",
       "    }\n",
       "\n",
       "    .dataframe tbody tr th {\n",
       "        vertical-align: top;\n",
       "    }\n",
       "\n",
       "    .dataframe thead th {\n",
       "        text-align: right;\n",
       "    }\n",
       "</style>\n",
       "<table border=\"1\" class=\"dataframe\">\n",
       "  <thead>\n",
       "    <tr style=\"text-align: right;\">\n",
       "      <th></th>\n",
       "      <th>id</th>\n",
       "      <th>group_name</th>\n",
       "      <th>member_num</th>\n",
       "      <th>debut_date</th>\n",
       "      <th>company</th>\n",
       "    </tr>\n",
       "  </thead>\n",
       "  <tbody>\n",
       "    <tr>\n",
       "      <th>0</th>\n",
       "      <td>1001</td>\n",
       "      <td>블랙핑크</td>\n",
       "      <td>4</td>\n",
       "      <td>2016-08-08</td>\n",
       "      <td>YG</td>\n",
       "    </tr>\n",
       "    <tr>\n",
       "      <th>1</th>\n",
       "      <td>1002</td>\n",
       "      <td>트와이스</td>\n",
       "      <td>9</td>\n",
       "      <td>2015-10-20</td>\n",
       "      <td>JYP</td>\n",
       "    </tr>\n",
       "    <tr>\n",
       "      <th>2</th>\n",
       "      <td>1003</td>\n",
       "      <td>ITZY</td>\n",
       "      <td>5</td>\n",
       "      <td>2019-02-12</td>\n",
       "      <td>JYP</td>\n",
       "    </tr>\n",
       "    <tr>\n",
       "      <th>3</th>\n",
       "      <td>1004</td>\n",
       "      <td>마마무</td>\n",
       "      <td>4</td>\n",
       "      <td>2014-06-19</td>\n",
       "      <td>RBW</td>\n",
       "    </tr>\n",
       "    <tr>\n",
       "      <th>4</th>\n",
       "      <td>1005</td>\n",
       "      <td>여자친구</td>\n",
       "      <td>6</td>\n",
       "      <td>2015-01-15</td>\n",
       "      <td>쏘스뮤직</td>\n",
       "    </tr>\n",
       "  </tbody>\n",
       "</table>\n",
       "</div>"
      ],
      "text/plain": [
       "     id group_name  member_num  debut_date company\n",
       "0  1001       블랙핑크           4  2016-08-08      YG\n",
       "1  1002       트와이스           9  2015-10-20     JYP\n",
       "2  1003       ITZY           5  2019-02-12     JYP\n",
       "3  1004        마마무           4  2014-06-19     RBW\n",
       "4  1005       여자친구           6  2015-01-15    쏘스뮤직"
      ]
     },
     "execution_count": 3,
     "metadata": {},
     "output_type": "execute_result"
    }
   ],
   "source": [
    "import pandas as pd\n",
    "\n",
    "groups_1 = pd.read_csv('./groups_1.csv', encoding='EUC-KR')\n",
    "groups_1"
   ]
  },
  {
   "cell_type": "code",
   "execution_count": 4,
   "metadata": {},
   "outputs": [],
   "source": [
    "# groups_1 테이블에 데이터 할당 \n",
    "\n",
    "cur = conn.cursor() \n",
    "sql = 'INSERT INTO groups_1 VALUES (?, ?, ?, ?, ?);'\n",
    "\n",
    "for i in range(5):\n",
    "    cur.execute(sql, (int(groups_1.iloc[i, 0]),\n",
    "                      groups_1.iloc[i, 1],\n",
    "                      int(groups_1.iloc[i, 2]),\n",
    "                      groups_1.iloc[i, 3],\n",
    "                      groups_1.iloc[i, 4]\n",
    "                      ))\n",
    "conn.commit()"
   ]
  },
  {
   "cell_type": "markdown",
   "metadata": {},
   "source": [
    "#### **2.1.2 Group_2 테이블 생성**"
   ]
  },
  {
   "cell_type": "code",
   "execution_count": 2,
   "metadata": {},
   "outputs": [
    {
     "data": {
      "text/plain": [
       "<sqlite3.Cursor at 0x58249d0>"
      ]
     },
     "execution_count": 2,
     "metadata": {},
     "output_type": "execute_result"
    }
   ],
   "source": [
    "# groups_2 테이블 생성 준비 \n",
    "\n",
    "cur = conn.cursor()\n",
    "cur.execute('CREATE TABLE IF NOT EXISTS groups_2 \\\n",
    "    (song_id INT NOT NULL, \\\n",
    "     song_name TEXT, \\\n",
    "     group_id TEXT, \\\n",
    "     am_year DATE, \\\n",
    "     songwrite TEXT, \\\n",
    "     intro_lyrics, \\\n",
    "     PRIMARY KEY(song_id));')"
   ]
  },
  {
   "cell_type": "code",
   "execution_count": 3,
   "metadata": {},
   "outputs": [
    {
     "data": {
      "text/html": [
       "<div>\n",
       "<style scoped>\n",
       "    .dataframe tbody tr th:only-of-type {\n",
       "        vertical-align: middle;\n",
       "    }\n",
       "\n",
       "    .dataframe tbody tr th {\n",
       "        vertical-align: top;\n",
       "    }\n",
       "\n",
       "    .dataframe thead th {\n",
       "        text-align: right;\n",
       "    }\n",
       "</style>\n",
       "<table border=\"1\" class=\"dataframe\">\n",
       "  <thead>\n",
       "    <tr style=\"text-align: right;\">\n",
       "      <th></th>\n",
       "      <th>song_id</th>\n",
       "      <th>song_name</th>\n",
       "      <th>group_id</th>\n",
       "      <th>am_date</th>\n",
       "      <th>songwriter</th>\n",
       "      <th>intro_lyrics</th>\n",
       "    </tr>\n",
       "  </thead>\n",
       "  <tbody>\n",
       "    <tr>\n",
       "      <th>0</th>\n",
       "      <td>1001</td>\n",
       "      <td>Kill this love</td>\n",
       "      <td>블랙핑크</td>\n",
       "      <td>2009-04-05</td>\n",
       "      <td>TEDDV</td>\n",
       "      <td>천사 같은 Hi 끝엔 악마 같은 Bye</td>\n",
       "    </tr>\n",
       "    <tr>\n",
       "      <th>1</th>\n",
       "      <td>1003</td>\n",
       "      <td>달라달라</td>\n",
       "      <td>ITZY</td>\n",
       "      <td>2009-02-12</td>\n",
       "      <td>별들의전쟁</td>\n",
       "      <td>DDA-DDA-LA-DDA-LA-DDA-LA</td>\n",
       "    </tr>\n",
       "    <tr>\n",
       "      <th>2</th>\n",
       "      <td>1004</td>\n",
       "      <td>고고베베</td>\n",
       "      <td>마마무</td>\n",
       "      <td>2009-03-14</td>\n",
       "      <td>김건모</td>\n",
       "      <td>일루와 일루와 일루와 일루와</td>\n",
       "    </tr>\n",
       "    <tr>\n",
       "      <th>3</th>\n",
       "      <td>1007</td>\n",
       "      <td>Loca</td>\n",
       "      <td>FAVORITE</td>\n",
       "      <td>2009-01-15</td>\n",
       "      <td>오종훈</td>\n",
       "      <td>힘풀려 널불러 눈풀려 널불러</td>\n",
       "    </tr>\n",
       "    <tr>\n",
       "      <th>4</th>\n",
       "      <td>1009</td>\n",
       "      <td>그 시절 우리가 사랑했던 우리</td>\n",
       "      <td>러블리즈</td>\n",
       "      <td>2009-05-20</td>\n",
       "      <td>스페이스카우보이</td>\n",
       "      <td>아직도 펼쳐보면 웃음이 나와</td>\n",
       "    </tr>\n",
       "  </tbody>\n",
       "</table>\n",
       "</div>"
      ],
      "text/plain": [
       "   song_id         song_name  group_id     am_date songwriter  \\\n",
       "0     1001    Kill this love      블랙핑크  2009-04-05      TEDDV   \n",
       "1     1003              달라달라      ITZY  2009-02-12      별들의전쟁   \n",
       "2     1004              고고베베       마마무  2009-03-14        김건모   \n",
       "3     1007              Loca  FAVORITE  2009-01-15        오종훈   \n",
       "4     1009  그 시절 우리가 사랑했던 우리      러블리즈  2009-05-20   스페이스카우보이   \n",
       "\n",
       "               intro_lyrics  \n",
       "0     천사 같은 Hi 끝엔 악마 같은 Bye  \n",
       "1  DDA-DDA-LA-DDA-LA-DDA-LA  \n",
       "2           일루와 일루와 일루와 일루와  \n",
       "3           힘풀려 널불러 눈풀려 널불러  \n",
       "4           아직도 펼쳐보면 웃음이 나와  "
      ]
     },
     "execution_count": 3,
     "metadata": {},
     "output_type": "execute_result"
    }
   ],
   "source": [
    "import pandas as pd\n",
    "\n",
    "groups_2 = pd.read_csv('./groups_2.csv', encoding='EUC-KR')\n",
    "groups_2"
   ]
  },
  {
   "cell_type": "code",
   "execution_count": 4,
   "metadata": {},
   "outputs": [],
   "source": [
    "# groups_2 테이블에 데이터 할당 \n",
    "\n",
    "cur = conn.cursor() \n",
    "sql = 'INSERT INTO groups_2 VALUES (?, ?, ?, ?, ?, ?);'\n",
    "\n",
    "for i in range(5):\n",
    "    cur.execute(sql, (int(groups_2.iloc[i, 0]),\n",
    "                      groups_2.iloc[i, 1],\n",
    "                      groups_2.iloc[i, 2],\n",
    "                      groups_2.iloc[i, 3],\n",
    "                      groups_2.iloc[i, 4],\n",
    "                      groups_2.iloc[i, 5]\n",
    "                      ))\n",
    "conn.commit()"
   ]
  },
  {
   "cell_type": "markdown",
   "metadata": {},
   "source": [
    "### **2.2 Groups_1 테이블과 Groups_2 테이블 Join**"
   ]
  },
  {
   "cell_type": "code",
   "execution_count": 5,
   "metadata": {},
   "outputs": [
    {
     "data": {
      "text/plain": [
       "[(1001, '블랙핑크', 4, '2016-08-08', 'Kill this love', '2009-04-05'),\n",
       " (1003, 'ITZY', 5, '2019-02-12', '달라달라', '2009-02-12'),\n",
       " (1004, '마마무', 4, '2014-06-19', '고고베베', '2009-03-14')]"
      ]
     },
     "execution_count": 5,
     "metadata": {},
     "output_type": "execute_result"
    }
   ],
   "source": [
    "# groups_1, groups_2 table join\n",
    "# 노래 발표일자 순으로 하려면 ORDER BY two.am_date 를 추가해준다.\n",
    "\n",
    "join = \"SELECT one.id, one.group_name, one.member_num, one.debut_date, \\\n",
    "        two.song_name, two.am_year \\\n",
    "        FROM groups_1 AS one JOIN groups_2 AS two \\\n",
    "        ON one.id like two.song_id;\"\n",
    "\n",
    "cur = conn.cursor()\n",
    "cur.execute(join)\n",
    "\n",
    "groups_join = cur.fetchall()  # 전체 조회\n",
    "groups_join"
   ]
  },
  {
   "cell_type": "markdown",
   "metadata": {},
   "source": [
    "### **2.3 Join한 결과를 데이터프레임으로 변환**"
   ]
  },
  {
   "cell_type": "code",
   "execution_count": 7,
   "metadata": {},
   "outputs": [
    {
     "data": {
      "text/html": [
       "<div>\n",
       "<style scoped>\n",
       "    .dataframe tbody tr th:only-of-type {\n",
       "        vertical-align: middle;\n",
       "    }\n",
       "\n",
       "    .dataframe tbody tr th {\n",
       "        vertical-align: top;\n",
       "    }\n",
       "\n",
       "    .dataframe thead th {\n",
       "        text-align: right;\n",
       "    }\n",
       "</style>\n",
       "<table border=\"1\" class=\"dataframe\">\n",
       "  <thead>\n",
       "    <tr style=\"text-align: right;\">\n",
       "      <th></th>\n",
       "      <th>id</th>\n",
       "      <th>그룹명</th>\n",
       "      <th>멤버수</th>\n",
       "      <th>데뷔일</th>\n",
       "      <th>곡 명</th>\n",
       "      <th>곡 발표일</th>\n",
       "    </tr>\n",
       "  </thead>\n",
       "  <tbody>\n",
       "    <tr>\n",
       "      <th>0</th>\n",
       "      <td>1001</td>\n",
       "      <td>블랙핑크</td>\n",
       "      <td>4</td>\n",
       "      <td>2016-08-08</td>\n",
       "      <td>Kill this love</td>\n",
       "      <td>2009-04-05</td>\n",
       "    </tr>\n",
       "    <tr>\n",
       "      <th>1</th>\n",
       "      <td>1003</td>\n",
       "      <td>ITZY</td>\n",
       "      <td>5</td>\n",
       "      <td>2019-02-12</td>\n",
       "      <td>달라달라</td>\n",
       "      <td>2009-02-12</td>\n",
       "    </tr>\n",
       "    <tr>\n",
       "      <th>2</th>\n",
       "      <td>1004</td>\n",
       "      <td>마마무</td>\n",
       "      <td>4</td>\n",
       "      <td>2014-06-19</td>\n",
       "      <td>고고베베</td>\n",
       "      <td>2009-03-14</td>\n",
       "    </tr>\n",
       "  </tbody>\n",
       "</table>\n",
       "</div>"
      ],
      "text/plain": [
       "     id   그룹명  멤버수         데뷔일             곡 명       곡 발표일\n",
       "0  1001  블랙핑크    4  2016-08-08  Kill this love  2009-04-05\n",
       "1  1003  ITZY    5  2019-02-12            달라달라  2009-02-12\n",
       "2  1004   마마무    4  2014-06-19            고고베베  2009-03-14"
      ]
     },
     "execution_count": 7,
     "metadata": {},
     "output_type": "execute_result"
    }
   ],
   "source": [
    "# join한 결과를 데이터프레임으로 변환\n",
    "\n",
    "colName = ['id', '그룹명', '멤버수', '데뷔일', '곡 명', '곡 발표일']  \n",
    "Groups_df = pd.DataFrame(groups_join, columns = colName)\n",
    "Groups_df"
   ]
  },
  {
   "cell_type": "markdown",
   "metadata": {},
   "source": [
    "## **연습문제 3**\n",
    "\n",
    "사용자의 이름과, 비밀번호를 갖는 Users 테이블이 있다.\n",
    "사용자의 이름과 비밀번호를 올바르게 입력하면 ‘성공’을 출력하고, 잘못 입력하면 ‘실패’를 출력하는 프로그램을 작성하시오."
   ]
  },
  {
   "cell_type": "markdown",
   "metadata": {},
   "source": [
    "### **3.1 DB 테이블 생성 준비**"
   ]
  },
  {
   "cell_type": "code",
   "execution_count": 2,
   "metadata": {},
   "outputs": [
    {
     "data": {
      "text/plain": [
       "<sqlite3.Cursor at 0x5a459d0>"
      ]
     },
     "execution_count": 2,
     "metadata": {},
     "output_type": "execute_result"
    }
   ],
   "source": [
    "cur = conn.cursor()\n",
    "cur.execute('CREATE TABLE IF NOT EXISTS login \\\n",
    "    (id TEXT, \\\n",
    "     password INT NOT NULL, \\\n",
    "     PRIMARY KEY(id));')"
   ]
  },
  {
   "cell_type": "markdown",
   "metadata": {},
   "source": [
    "### **3.2 DB에 할당할 데이터프레임 생성**"
   ]
  },
  {
   "cell_type": "code",
   "execution_count": 3,
   "metadata": {},
   "outputs": [
    {
     "data": {
      "text/html": [
       "<div>\n",
       "<style scoped>\n",
       "    .dataframe tbody tr th:only-of-type {\n",
       "        vertical-align: middle;\n",
       "    }\n",
       "\n",
       "    .dataframe tbody tr th {\n",
       "        vertical-align: top;\n",
       "    }\n",
       "\n",
       "    .dataframe thead th {\n",
       "        text-align: right;\n",
       "    }\n",
       "</style>\n",
       "<table border=\"1\" class=\"dataframe\">\n",
       "  <thead>\n",
       "    <tr style=\"text-align: right;\">\n",
       "      <th></th>\n",
       "      <th>id</th>\n",
       "      <th>password</th>\n",
       "    </tr>\n",
       "  </thead>\n",
       "  <tbody>\n",
       "    <tr>\n",
       "      <th>0</th>\n",
       "      <td>aaa1234</td>\n",
       "      <td>dlwps</td>\n",
       "    </tr>\n",
       "    <tr>\n",
       "      <th>1</th>\n",
       "      <td>abc1549</td>\n",
       "      <td>zjavbxj</td>\n",
       "    </tr>\n",
       "    <tr>\n",
       "      <th>2</th>\n",
       "      <td>soso999</td>\n",
       "      <td>gkrdnjs</td>\n",
       "    </tr>\n",
       "  </tbody>\n",
       "</table>\n",
       "</div>"
      ],
      "text/plain": [
       "        id password\n",
       "0  aaa1234    dlwps\n",
       "1  abc1549  zjavbxj\n",
       "2  soso999  gkrdnjs"
      ]
     },
     "execution_count": 3,
     "metadata": {},
     "output_type": "execute_result"
    }
   ],
   "source": [
    "import pandas as pd\n",
    "\n",
    "data = {\n",
    "    'id' : ['aaa1234', 'abc1549', 'soso999'],\n",
    "    'password' : ['dlwps', 'zjavbxj', 'gkrdnjs']\n",
    "}\n",
    "\n",
    "Login_df = pd.DataFrame(data, columns = data.keys())\n",
    "Login_df"
   ]
  },
  {
   "cell_type": "markdown",
   "metadata": {},
   "source": [
    "### **3.3 DB테이블에 데이터 할당**"
   ]
  },
  {
   "cell_type": "code",
   "execution_count": 4,
   "metadata": {},
   "outputs": [],
   "source": [
    "cur = conn.cursor() \n",
    "sql = 'INSERT INTO login VALUES (?, ?);'\n",
    "\n",
    "for i in range(3):\n",
    "    cur.execute(sql, (Login_df.iloc[i, 0],\n",
    "                      Login_df.iloc[i, 1]\n",
    "                      ))\n",
    "conn.commit()"
   ]
  },
  {
   "cell_type": "markdown",
   "metadata": {},
   "source": [
    "### **3.4 DB테이블을 불러들인 후 데이터프레임 조회**"
   ]
  },
  {
   "cell_type": "code",
   "execution_count": 18,
   "metadata": {},
   "outputs": [
    {
     "data": {
      "text/html": [
       "<div>\n",
       "<style scoped>\n",
       "    .dataframe tbody tr th:only-of-type {\n",
       "        vertical-align: middle;\n",
       "    }\n",
       "\n",
       "    .dataframe tbody tr th {\n",
       "        vertical-align: top;\n",
       "    }\n",
       "\n",
       "    .dataframe thead th {\n",
       "        text-align: right;\n",
       "    }\n",
       "</style>\n",
       "<table border=\"1\" class=\"dataframe\">\n",
       "  <thead>\n",
       "    <tr style=\"text-align: right;\">\n",
       "      <th></th>\n",
       "      <th>id</th>\n",
       "      <th>password</th>\n",
       "    </tr>\n",
       "  </thead>\n",
       "  <tbody>\n",
       "    <tr>\n",
       "      <th>0</th>\n",
       "      <td>aaa1234</td>\n",
       "      <td>dlwps</td>\n",
       "    </tr>\n",
       "    <tr>\n",
       "      <th>1</th>\n",
       "      <td>abc1549</td>\n",
       "      <td>zjavbxj</td>\n",
       "    </tr>\n",
       "    <tr>\n",
       "      <th>2</th>\n",
       "      <td>soso999</td>\n",
       "      <td>gkrdnjs</td>\n",
       "    </tr>\n",
       "  </tbody>\n",
       "</table>\n",
       "</div>"
      ],
      "text/plain": [
       "        id password\n",
       "0  aaa1234    dlwps\n",
       "1  abc1549  zjavbxj\n",
       "2  soso999  gkrdnjs"
      ]
     },
     "execution_count": 18,
     "metadata": {},
     "output_type": "execute_result"
    }
   ],
   "source": [
    "login_df_DB = \"SELECT l.id, l.password FROM login AS l;\"\n",
    "\n",
    "cur = conn.cursor()\n",
    "cur.execute(login_df_DB)\n",
    "\n",
    "login_all = cur.fetchall()  # 전체 조회\n",
    "login_db_system = pd.DataFrame(login_all, columns = ['id', 'password'])\n",
    "login_db_system"
   ]
  },
  {
   "cell_type": "markdown",
   "metadata": {},
   "source": [
    "### **3.5 간단한 로그인 함수 만들기**"
   ]
  },
  {
   "cell_type": "code",
   "execution_count": 73,
   "metadata": {},
   "outputs": [],
   "source": [
    "def login(uid, upw):\n",
    "    is_correct = '로그인에 실패했습니다.'\n",
    "    \n",
    "    for i in range(len(login_db_system)):\n",
    "        if uid == login_db_system.iloc[i, 0]:\n",
    "            if upw == login_db_system.iloc[i, 1]:\n",
    "                is_correct = '로그인에 성공했습니다.'\n",
    "            elif upw != login_db_system.iloc[i, 1]:\n",
    "                is_correct = '비밀번호가 틀렸습니다.'\n",
    "            else:\n",
    "                is_correct = '아이디가 틀렸습니다.'\n",
    "            \n",
    "    return is_correct"
   ]
  },
  {
   "cell_type": "code",
   "execution_count": 77,
   "metadata": {},
   "outputs": [
    {
     "data": {
      "text/plain": [
       "'비밀번호가 틀렸습니다.'"
      ]
     },
     "execution_count": 77,
     "metadata": {},
     "output_type": "execute_result"
    }
   ],
   "source": [
    "login('aaa1234', 'gkrdnjs')"
   ]
  },
  {
   "cell_type": "markdown",
   "metadata": {},
   "source": [
    "## **교수님 모범답안**"
   ]
  },
  {
   "cell_type": "code",
   "execution_count": 8,
   "metadata": {},
   "outputs": [
    {
     "name": "stdout",
     "output_type": "stream",
     "text": [
      "('aaa1234', 'dlwps')\n",
      "('abc1549', 'zjavbxj')\n",
      "('soso999', 'gkrdnjs')\n"
     ]
    }
   ],
   "source": [
    "cur = conn.cursor()\n",
    "cur.execute(\"SELECT * FROM login;\")\n",
    "\n",
    "rows = cur.fetchall()\n",
    "\n",
    "for row in rows:\n",
    "    print(row)"
   ]
  },
  {
   "cell_type": "markdown",
   "metadata": {},
   "source": [
    "### **예외 처리 하기 전**"
   ]
  },
  {
   "cell_type": "code",
   "execution_count": 13,
   "metadata": {},
   "outputs": [],
   "source": [
    "def checkUser(uid, password):\n",
    "    print(uid, password)\n",
    "    conn = sqlite3.connect('./test.db')\n",
    "    cur = conn.cursor()\n",
    "    sql = \"SELECT id, password FROM login WHERE id like ?;\"\n",
    "    cur.execute(sql, (uid,))\n",
    "    dbname, dbpassword = cur.fetchone()\n",
    "    print(dbname, dbpassword)\n",
    "    \n",
    "    conn.close()"
   ]
  },
  {
   "cell_type": "code",
   "execution_count": 14,
   "metadata": {},
   "outputs": [
    {
     "name": "stdout",
     "output_type": "stream",
     "text": [
      "aaa1234 dlwps\n",
      "aaa1234 dlwps\n"
     ]
    }
   ],
   "source": [
    "checkUser('aaa1234', 'dlwps')"
   ]
  },
  {
   "cell_type": "markdown",
   "metadata": {},
   "source": [
    "### **모든 예외를 처리하는 코드**"
   ]
  },
  {
   "cell_type": "code",
   "execution_count": null,
   "metadata": {},
   "outputs": [],
   "source": []
  }
 ],
 "metadata": {
  "kernelspec": {
   "display_name": "Python 3",
   "language": "python",
   "name": "python3"
  },
  "language_info": {
   "codemirror_mode": {
    "name": "ipython",
    "version": 3
   },
   "file_extension": ".py",
   "mimetype": "text/x-python",
   "name": "python",
   "nbconvert_exporter": "python",
   "pygments_lexer": "ipython3",
   "version": "3.7.3"
  }
 },
 "nbformat": 4,
 "nbformat_minor": 2
}
