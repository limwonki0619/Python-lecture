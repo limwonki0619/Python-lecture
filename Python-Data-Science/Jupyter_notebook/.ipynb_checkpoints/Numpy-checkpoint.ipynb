{
 "cells": [
  {
   "cell_type": "markdown",
   "metadata": {},
   "source": [
    "\\\n",
    "## 1. Numpy 란? \n",
    "### 1.1  파이썬 과학 처리 패키지\n",
    "+ Numerical Python\n",
    "+ 파이썬의 고성능 과학 계산용 패키지\n",
    "+ Matrix와 Vector와 같은 Array 연산의 사실상의 표준\n",
    "\n",
    "### 1.2  특징\n",
    "+ 일반 List에 비해 빠르고, 메모리를 효율적으로 사용\n",
    "+ 반복문 없이 데이터 배열에 대한 처리를 지원함\n",
    "+ 선형대수와 관련된 다양한 기능을 제공 \n",
    "+ C, C++등의 언어와 통합 가능"
   ]
  },
  {
   "cell_type": "markdown",
   "metadata": {},
   "source": [
    "## 2. ndarray(Numpy Dimensional Array)"
   ]
  },
  {
   "cell_type": "markdown",
   "metadata": {},
   "source": [
    "### import"
   ]
  },
  {
   "cell_type": "code",
   "execution_count": 1,
   "metadata": {},
   "outputs": [],
   "source": [
    "import numpy as np  # 표준화된 이름"
   ]
  },
  {
   "cell_type": "markdown",
   "metadata": {},
   "source": [
    "### Array 생성"
   ]
  },
  {
   "cell_type": "code",
   "execution_count": 6,
   "metadata": {},
   "outputs": [
    {
     "name": "stdout",
     "output_type": "stream",
     "text": [
      "[1. 4. 5. 8.]\n"
     ]
    }
   ],
   "source": [
    "test_array = np.array([1, 4, 5, 8], float)\n",
    "print(test_array)"
   ]
  },
  {
   "cell_type": "code",
   "execution_count": 10,
   "metadata": {},
   "outputs": [
    {
     "name": "stdout",
     "output_type": "stream",
     "text": [
      "float64\n"
     ]
    }
   ],
   "source": [
    "type(test_array[3])\n",
    "print(test_array.dtype)  # Array 전체의 데이터 타입을 반환함 "
   ]
  },
  {
   "cell_type": "code",
   "execution_count": 9,
   "metadata": {},
   "outputs": [
    {
     "name": "stdout",
     "output_type": "stream",
     "text": [
      "(4,)\n"
     ]
    }
   ],
   "source": [
    "print(test_array.shape)  # Array의 shape(차원 구성)을 반환함"
   ]
  },
  {
   "cell_type": "markdown",
   "metadata": {},
   "source": [
    "+ numpy는 np.array 함수를 활용하여 배열을 생성함 -> ndarray\n",
    "+ numpy는 하나의 데이터 타입만 배열에 넣을 수 있음\n",
    "+ List와 가장 큰 차이점은, 다양한 형태의 데이터 타입을 지원하지 않음. (대신 처리 속도가 빠름)\n",
    "+ C의 array를 사용하여 배열을 생성하기 때문에 속도 측면에서 강점을 보임 (복잡한 계산을 빠르게 처리)"
   ]
  },
  {
   "cell_type": "markdown",
   "metadata": {},
   "source": [
    "## 3. Array shape "
   ]
  },
  {
   "cell_type": "markdown",
   "metadata": {},
   "source": []
  }
 ],
 "metadata": {
  "kernelspec": {
   "display_name": "Python 3",
   "language": "python",
   "name": "python3"
  },
  "language_info": {
   "codemirror_mode": {
    "name": "ipython",
    "version": 3
   },
   "file_extension": ".py",
   "mimetype": "text/x-python",
   "name": "python",
   "nbconvert_exporter": "python",
   "pygments_lexer": "ipython3",
   "version": "3.7.3"
  }
 },
 "nbformat": 4,
 "nbformat_minor": 2
}
