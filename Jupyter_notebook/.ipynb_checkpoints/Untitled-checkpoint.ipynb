{
 "cells": [
  {
   "cell_type": "markdown",
   "metadata": {},
   "source": [
    "# 문제 3\n",
    "+ 두 개의 정수를 입력받아 작은 수에서부터 큰 수까지 홀수의 합을 구해서 출력하는 프로그램을 for문을 사용하여 작성하라.\n",
    "\n"
   ]
  },
  {
   "cell_type": "code",
   "execution_count": 2,
   "metadata": {},
   "outputs": [
    {
     "name": "stdout",
     "output_type": "stream",
     "text": [
      "1 10\n",
      "25\n"
     ]
    }
   ],
   "source": [
    "start, end = map(int, input().split())\n",
    "\n",
    "sum = 0\n",
    "for i in range(start, end+1):\n",
    "    if i % 2 == 1:\n",
    "        sum += i\n",
    "print(sum)"
   ]
  },
  {
   "cell_type": "markdown",
   "metadata": {},
   "source": [
    "# 문제 4\n",
    "+ 연 복리 이자율을 입력받아 원금이 2배가 되는데 최소 몇년이 걸리는지 알아보는 프로그램을 while loop를 사용하여 작성하라.\n",
    "\n",
    "+ 복리를 구하기 위한 기능이 포함되어 있지 않지만 이 계산을 위해 다음 수식을 사용할 수 있습니다.\n",
    "+  PV *(1+R)^N\n",
    "+ 여기서 PV는 현재 값이고, R은 이율이며 N 은 투자 기간의 길이입니다."
   ]
  },
  {
   "cell_type": "code",
   "execution_count": 3,
   "metadata": {},
   "outputs": [
    {
     "name": "stdout",
     "output_type": "stream",
     "text": [
      "연복리이자율 : 15\n",
      "원금 10,000,000을 연 복리 15%로 운용할 경우 원금의 두배가 되기까지 약 5년이 걸린다.\n",
      "4.8\n"
     ]
    }
   ],
   "source": [
    "r = int(input('연복리이자율 : '))\n",
    "n = 0\n",
    "pv = 10000000\n",
    "\n",
    "while True > 0:\n",
    "    n += 1\n",
    "    if  pv * ((1 + r/100) ** n) >= pv * 2:\n",
    "        print('원금 {0:,}을 연 복리 {1}%로 운용할 경우 원금의 두배가 되기까지 약 {2}년이 걸린다.'.format(pv, r, n))\n",
    "        break\n",
    "\n",
    "# 72의 법칙으로 확인\n",
    "print(72 / 15)"
   ]
  },
  {
   "cell_type": "markdown",
   "metadata": {},
   "source": [
    "# 문제 5\n",
    "\n",
    "+  bts 리스트가 주어졌을 때 아래와 같은 답이 나오도록 print문을 작성하시오\n",
    "+ bts = ['RM', '진', '슈가', '제이홉', '지민', '뷔', '정국']"
   ]
  },
  {
   "cell_type": "code",
   "execution_count": 3,
   "metadata": {},
   "outputs": [
    {
     "name": "stdout",
     "output_type": "stream",
     "text": [
      "뷔\n"
     ]
    }
   ],
   "source": [
    "# 5.1 \n",
    "bts = ['RM', '진', '슈가', '제이홉', '지민', '뷔', '정국']\n",
    "\n",
    "print(bts[-2])"
   ]
  },
  {
   "cell_type": "code",
   "execution_count": 4,
   "metadata": {},
   "outputs": [
    {
     "name": "stdout",
     "output_type": "stream",
     "text": [
      "['RM']\n"
     ]
    }
   ],
   "source": [
    "# 5.2 \n",
    "print(bts[:1])"
   ]
  },
  {
   "cell_type": "code",
   "execution_count": 5,
   "metadata": {},
   "outputs": [
    {
     "name": "stdout",
     "output_type": "stream",
     "text": [
      "['뷔', '정국']\n"
     ]
    }
   ],
   "source": [
    "# 5.3\n",
    "print(bts[-2:])"
   ]
  },
  {
   "cell_type": "code",
   "execution_count": 6,
   "metadata": {},
   "outputs": [
    {
     "name": "stdout",
     "output_type": "stream",
     "text": [
      "['슈가', '제이홉', '지민']\n"
     ]
    }
   ],
   "source": [
    "# 5.4 \n",
    "print(bts[2:5])"
   ]
  },
  {
   "cell_type": "code",
   "execution_count": 7,
   "metadata": {},
   "outputs": [
    {
     "name": "stdout",
     "output_type": "stream",
     "text": [
      "['RM', '슈가', '지민', '정국']\n"
     ]
    }
   ],
   "source": [
    "# 5.5 \n",
    "print(bts[::2])"
   ]
  },
  {
   "cell_type": "markdown",
   "metadata": {},
   "source": [
    "# 문제 6\n",
    "+ 다음과 같은 딕셔너리 vegetables가 주어졌을 때 아래 그림과 같이 가격이 높은 것부터 내림차순으로 출력하는 프로그램을 작성하되, 가격은 길이를 7로 만들고 1000단위 ,를 찍은 뒤 우측정렬 하시오."
   ]
  },
  {
   "cell_type": "code",
   "execution_count": 20,
   "metadata": {},
   "outputs": [
    {
     "name": "stdout",
     "output_type": "stream",
     "text": [
      "수박  15,000\n",
      "호박   1,000\n",
      "가지     800\n",
      "오이     600\n",
      "깻잎     500\n"
     ]
    }
   ],
   "source": [
    "import operator\n",
    "\n",
    "vegetables = dict(zip(['가지', '오이' ,'수박', '호박', '깻잎'], [800, 600, 15000, 1000, 500]))\n",
    "sort_veg = sorted(vegetables.items(), key=operator.itemgetter(1), reverse=True)\n",
    "\n",
    "for veg, price in sort_veg:\n",
    "    print(veg, '{0:>7,}'.format(price))"
   ]
  },
  {
   "cell_type": "markdown",
   "metadata": {},
   "source": [
    "# 문제 7 \n",
    "+  앞에서부터 읽을 때나 뒤에서부터 읽을 때나 모양이 같은 수를 대칭수라고 부른다. 두 자리수를 곱해 만들 수 있는 대칭수 중 가장 큰 수는 9009 이다. 세 자리수 x, y(단 x <= y)를 곱해 만들 수 있는 가장 큰 대칭수는 얼마이고 그때 x,y값은 얼마인가?\n"
   ]
  },
  {
   "cell_type": "code",
   "execution_count": 21,
   "metadata": {},
   "outputs": [
    {
     "name": "stdout",
     "output_type": "stream",
     "text": [
      "세 자리 수 Palindrome 중 (x <= y)이 만족하는 가장 큰 수는 : 913 x 993 = 906609\n"
     ]
    }
   ],
   "source": [
    "maxNum = 0\n",
    "for i in range(100, 1000):\n",
    "    for k in range(i, 1000):\n",
    "        value = i * k\n",
    "        if str(value) == str(value)[::-1]:\n",
    "            if i <= k and i*k > maxNum:\n",
    "                maxNum = i*k\n",
    "                maxA = i\n",
    "                maxB = k\n",
    "\n",
    "print('세 자리 수 Palindrome 중 (x <= y)이 만족하는 가장 큰 수는 : {0} x {1} = {2}'.format(maxA, maxB, maxNum))"
   ]
  },
  {
   "cell_type": "markdown",
   "metadata": {},
   "source": [
    "# 문제 8 \n",
    "\n",
    "+   다음의 규칙대로 동작하는 프로그램을 만드시오.\n",
    "        - 타일판은 5 x 5\n",
    "        - 타일 종류는 1 ~ 4의 네가지로 랜덤값으로 정한 후 타일판 출력\n",
    "        - 가로나 세로로 3개 이상 같은 타일이 연속될 경우 타일을 '*'로 바꾸고 타일판 출력"
   ]
  },
  {
   "cell_type": "code",
   "execution_count": 23,
   "metadata": {},
   "outputs": [
    {
     "name": "stdout",
     "output_type": "stream",
     "text": [
      "[[4, 2, 1, 2, 4], [1, 1, 1, 2, 5], [5, 1, 5, 5, 2], [2, 5, 2, 4, 4], [1, 3, 5, 2, 2]]\n"
     ]
    }
   ],
   "source": [
    "import random\n",
    "\n",
    "pan = []\n",
    "for r in range(5):\n",
    "    line = []\n",
    "    for c in range(5):\n",
    "        ranNum = random.randint(1, 5)\n",
    "        line.append(ranNum)\n",
    "    pan.append(line)\n",
    "\n",
    "    # 오답\n",
    "    # for i in range(r-2, r+3):\n",
    "    #     for k in range(c-2, c+3):\n",
    "    #\n",
    "    #         if i < 0 or k < 0 or i >= 5 or k >= 5:\n",
    "    #             continue\n",
    "    #         elif pan[i][k] == pan[r][c]:\n",
    "    #             pan[r][c] == '*'\n",
    "    #         else:\n",
    "    #             continue\n",
    "print(pan)"
   ]
  },
  {
   "cell_type": "markdown",
   "metadata": {},
   "source": [
    "# 문제 9 \n",
    "+ 다음과 같은 리스트 a가 주어졌을 때 a의 각 원소를 제곱한 값을 원소로 갖는 리스트 b를 람다표현식을 사용하여 구하시오."
   ]
  },
  {
   "cell_type": "code",
   "execution_count": 25,
   "metadata": {},
   "outputs": [
    {
     "name": "stdout",
     "output_type": "stream",
     "text": [
      "[1, 9, 25, 49, 81]\n"
     ]
    }
   ],
   "source": [
    "a = list(range(1, 10, 2))\n",
    "\n",
    "b = list(map(lambda x: x**2, a))\n",
    "print(b)"
   ]
  },
  {
   "cell_type": "code",
   "execution_count": null,
   "metadata": {},
   "outputs": [],
   "source": []
  }
 ],
 "metadata": {
  "kernelspec": {
   "display_name": "Python 3",
   "language": "python",
   "name": "python3"
  },
  "language_info": {
   "codemirror_mode": {
    "name": "ipython",
    "version": 3
   },
   "file_extension": ".py",
   "mimetype": "text/x-python",
   "name": "python",
   "nbconvert_exporter": "python",
   "pygments_lexer": "ipython3",
   "version": "3.7.3"
  }
 },
 "nbformat": 4,
 "nbformat_minor": 2
}
