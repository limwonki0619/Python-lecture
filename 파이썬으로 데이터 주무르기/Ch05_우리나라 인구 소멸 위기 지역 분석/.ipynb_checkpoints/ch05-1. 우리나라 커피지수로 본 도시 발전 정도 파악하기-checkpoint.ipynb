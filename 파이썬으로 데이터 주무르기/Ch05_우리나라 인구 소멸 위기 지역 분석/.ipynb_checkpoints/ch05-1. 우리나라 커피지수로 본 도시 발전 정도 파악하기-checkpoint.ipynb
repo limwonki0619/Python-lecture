{
 "cells": [
  {
   "cell_type": "markdown",
   "metadata": {},
   "source": [
    "# **'커피지수'로 본 경제발전정도**\n",
    "\n",
    "- 커피지수 : (스타벅수 개수 + 커피빈 개수 + 이디야 커피 개수) / 빽다방 개수 "
   ]
  },
  {
   "cell_type": "markdown",
   "metadata": {},
   "source": [
    "## **1. 스타벅스 시군구별 매장 수 찾기**"
   ]
  },
  {
   "cell_type": "code",
   "execution_count": 1,
   "metadata": {},
   "outputs": [],
   "source": [
    "import requests\n",
    "import json\n",
    "import pandas as pd\n",
    "from pandas.io.json import json_normalize"
   ]
  },
  {
   "cell_type": "code",
   "execution_count": 36,
   "metadata": {},
   "outputs": [
    {
     "name": "stdout",
     "output_type": "stream",
     "text": [
      "{\"list\":[{\"seq\":0,\"sido_cd\":null,\"sido_nm\":null,\"gugun_cd\":null,\"gugun_nm\":null,\"code_order\":null,\"view_yn\":null,\"store_num\":null,\"sido\":null,\"gugun\":null,\"address\":null,\"new_img_nm\":null,\"p_pro_seq\":0,\"p_view_yn\":null,\"p_sido_cd\":\"\",\"p_gugun_cd\":\"\",\"p_store_nm\":null,\"p_theme_cd\":null,\"p_wireless_yn\":null,\"p_smoking_yn\":null,\"p_book_yn\":null,\"p_music_yn\":null,\"p_terrace_yn\":null,\"p_table_yn\":null,\"p_takeout_yn\":null,\"p_parking_yn\":null,\"p_dollar_assent\":null,\"p_card_recharge\":null,\"p_subway_yn\":null,\"stb_store_file_renew\":null,\"stb_store_theme_renew\":null,\"stb_store_time_renew\":null,\"stb_store_lsm\":null,\"s_code\":\"483\",\"s_name\":\"광복중앙로\",\"tel\":\"051-243-8473\",\"fax\":\"051-243-8474\",\"sido_code\":\"05\",\"sido_name\":\"부산\",\"gugun_code\":\"0510\",\"gugun_name\":\"중구\",\"addr\":\"부산광역시 중구 대청동2가 34-1\",\"park_info\":null,\"new_state\":\"Y\",\"theme_state\":\"T04@T05@T08@T16@T17@T20@T31@P80\",\"new_bool\":0,\"search_text\":\"\",\"ins_lat\":\"\",\"ins_lng\":\"\",\"in_distance\":0,\"out_distance\":\"330.01\",\"all_search_cnt\":-1,\"addr_search_cnt\"\n"
     ]
    }
   ],
   "source": [
    "data = {\n",
    "    'ins_lat':'37.56682', # 지정한 위도와 경도에서 가까운 순으로 나열\n",
    "    'ins_lng':'126.97865',\n",
    "    'p_sido_cd':'', # 01=서울시, 08=경기 ... 16=제주\n",
    "    'p_gugun_cd':'',  # 세부지역 (지정하지 않으면 시/도 전체)\n",
    "    'in_biz_cd':'',\n",
    "    'set_date':'',\n",
    "    'iend':'10000',\n",
    "}\n",
    "    \n",
    "url = 'https://www.istarbucks.co.kr/store/getStore.do'\n",
    "r = requests.post(url, data=data)\n",
    "\n",
    "print(r.text[:1000], sep='\\t') # 수신된 데이터의 앞부분만 확인"
   ]
  },
  {
   "cell_type": "code",
   "execution_count": 23,
   "metadata": {},
   "outputs": [],
   "source": [
    "jo = json.loads(r.text)\n",
    "df = json_normalize(jo, 'list')"
   ]
  },
  {
   "cell_type": "code",
   "execution_count": 24,
   "metadata": {},
   "outputs": [
    {
     "data": {
      "text/plain": [
       "1307"
      ]
     },
     "execution_count": 24,
     "metadata": {},
     "output_type": "execute_result"
    }
   ],
   "source": [
    "len(df)"
   ]
  },
  {
   "cell_type": "code",
   "execution_count": 21,
   "metadata": {},
   "outputs": [
    {
     "data": {
      "text/plain": [
       "Index(['addr', 'addr_search_cnt', 'address', 'all_search_cnt', 'code_order',\n",
       "       'cold_blew', 'defaultimage', 'disp', 'doro_address', 'espresso',\n",
       "       ...\n",
       "       't10', 't12', 't20', 't21', 't22', 'tel', 'theme_state', 'vSal',\n",
       "       'view_yn', 'whcroad_yn'],\n",
       "      dtype='object', length=119)"
      ]
     },
     "execution_count": 21,
     "metadata": {},
     "output_type": "execute_result"
    }
   ],
   "source": [
    "df.columns"
   ]
  },
  {
   "cell_type": "code",
   "execution_count": 26,
   "metadata": {},
   "outputs": [
    {
     "data": {
      "text/plain": [
       "sido_name\n",
       "강원      15\n",
       "강원도      7\n",
       "경기     260\n",
       "경남      48\n",
       "경북      38\n",
       "광주      49\n",
       "대구      63\n",
       "대전      47\n",
       "부산     104\n",
       "서울     496\n",
       "세종       7\n",
       "울산      25\n",
       "인천      48\n",
       "전남      17\n",
       "전북      19\n",
       "제주      17\n",
       "충남      27\n",
       "충북      20\n",
       "Name: s_name, dtype: int64"
      ]
     },
     "execution_count": 26,
     "metadata": {},
     "output_type": "execute_result"
    }
   ],
   "source": [
    "# 주요한 컬럼 몇 가지 선택\n",
    "               \n",
    "df = df[['s_name', 'lat', 'lot', 'sido_name', 'gugun_name', 'doro_address', 'tel']]\n",
    "df.groupby('sido_name').count()['s_name']"
   ]
  },
  {
   "cell_type": "code",
   "execution_count": 27,
   "metadata": {},
   "outputs": [
    {
     "data": {
      "text/plain": [
       "s_name          object\n",
       "lat             object\n",
       "lot             object\n",
       "sido_name       object\n",
       "gugun_name      object\n",
       "doro_address    object\n",
       "tel             object\n",
       "dtype: object"
      ]
     },
     "execution_count": 27,
     "metadata": {},
     "output_type": "execute_result"
    }
   ],
   "source": [
    "df.dtypes"
   ]
  },
  {
   "cell_type": "code",
   "execution_count": 28,
   "metadata": {},
   "outputs": [],
   "source": [
    "df['lat'] = df['lat'].astype(float)\n",
    "df['lot'] = df['lot'].astype(float)"
   ]
  },
  {
   "cell_type": "code",
   "execution_count": 29,
   "metadata": {},
   "outputs": [
    {
     "data": {
      "text/plain": [
       "s_name           object\n",
       "lat             float64\n",
       "lot             float64\n",
       "sido_name        object\n",
       "gugun_name       object\n",
       "doro_address     object\n",
       "tel              object\n",
       "dtype: object"
      ]
     },
     "execution_count": 29,
     "metadata": {},
     "output_type": "execute_result"
    }
   ],
   "source": [
    "df.dtypes"
   ]
  },
  {
   "cell_type": "code",
   "execution_count": null,
   "metadata": {},
   "outputs": [],
   "source": []
  }
 ],
 "metadata": {
  "kernelspec": {
   "display_name": "Python 3",
   "language": "python",
   "name": "python3"
  },
  "language_info": {
   "codemirror_mode": {
    "name": "ipython",
    "version": 3
   },
   "file_extension": ".py",
   "mimetype": "text/x-python",
   "name": "python",
   "nbconvert_exporter": "python",
   "pygments_lexer": "ipython3",
   "version": "3.7.3"
  }
 },
 "nbformat": 4,
 "nbformat_minor": 2
}
