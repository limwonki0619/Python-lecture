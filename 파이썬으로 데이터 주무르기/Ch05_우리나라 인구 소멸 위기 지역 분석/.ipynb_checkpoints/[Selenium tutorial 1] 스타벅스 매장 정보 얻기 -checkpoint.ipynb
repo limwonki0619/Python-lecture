{
 "cells": [
  {
   "cell_type": "markdown",
   "metadata": {},
   "source": [
    "# Selenium을 활용한 스타벅스 매장 위치 정보 얻기"
   ]
  },
  {
   "cell_type": "markdown",
   "metadata": {},
   "source": [
    "## 0. 참고\n",
    "\n",
    "- [문과의 파이썬 - 셀레니움](https://brunch.co.kr/@jk-lab/18)"
   ]
  },
  {
   "cell_type": "markdown",
   "metadata": {},
   "source": [
    "## 1. 셀레니움 설치\n",
    "\n",
    "- 관리자모드 cmd \n",
    "- pip install selenium"
   ]
  },
  {
   "cell_type": "markdown",
   "metadata": {},
   "source": [
    "## 2. 웹 드라이버 설치\n",
    "\n",
    "- https://sites.google.com/a/chromium.org/chromedriver/downloads\n",
    "- OS 및 크롬 버전에 맞는 드라이버 설치\n",
    "- 크롬 버전 확인은 우상단 `'''` → 도움말 → Chrome 정보에 들어가면 버전확인 및 자동으로 최신버전으로 업데이트 해줌. \n",
    "- 드라이버 설치 위치가 중요 → 웹 드라이버 실행 경로"
   ]
  },
  {
   "cell_type": "markdown",
   "metadata": {},
   "source": [
    "## 3. 셀레니움을 통한 브라우저 제어"
   ]
  },
  {
   "cell_type": "code",
   "execution_count": 46,
   "metadata": {},
   "outputs": [],
   "source": [
    "from selenium import webdriver\n",
    "import bs4\n",
    "import pandas as pd \n",
    "\n",
    "chromedriver_dir = r'D:\\limworkspace\\Reference\\Python\\chromedriver_win32\\chromedriver.exe'\n",
    "driver = webdriver.Chrome(chromedriver_dir)  # 드라이버 실행"
   ]
  },
  {
   "cell_type": "code",
   "execution_count": 14,
   "metadata": {},
   "outputs": [],
   "source": [
    "driver.get('https://www.istarbucks.co.kr/store/store_map.do')  # 해당 url 페이지로 이동 "
   ]
  },
  {
   "cell_type": "markdown",
   "metadata": {},
   "source": [
    "## 4. 버튼 찾아 누르기"
   ]
  },
  {
   "cell_type": "code",
   "execution_count": 16,
   "metadata": {},
   "outputs": [],
   "source": [
    "loca = driver.find_element_by_class_name('loca_search')  # '지역 검색'의 element에 해당하는 `loca_search`위치 선택\n",
    "loca.click()  # 클릭 "
   ]
  },
  {
   "cell_type": "code",
   "execution_count": 17,
   "metadata": {},
   "outputs": [],
   "source": [
    "sido = driver.find_element_by_class_name('sido_arae_box')  # element\n",
    "li = sido.find_elements_by_tag_name('li')  # elements : 다수의 element\n",
    "li[0].click() # 첫번째 li : 서울 "
   ]
  },
  {
   "cell_type": "code",
   "execution_count": 19,
   "metadata": {},
   "outputs": [],
   "source": [
    "gugun = driver.find_element_by_class_name('gugun_arae_box')\n",
    "gu_li = gugun.find_element_by_tag_name('li')  # 전체 : 첫번째 li \n",
    "gu_li.click()"
   ]
  },
  {
   "cell_type": "markdown",
   "metadata": {},
   "source": [
    "## 5. 동적으로 변한 브라우저에서 현재 페이지의 소스 정보 가져오기"
   ]
  },
  {
   "cell_type": "code",
   "execution_count": 20,
   "metadata": {},
   "outputs": [],
   "source": [
    "source = driver.page_source  # 현재 조정하고 있는 웹 드라이버에서 현재 Html 코드 정보를 가져옴"
   ]
  },
  {
   "cell_type": "markdown",
   "metadata": {},
   "source": [
    "- html vs lxml 차이는 [여기](https://brownbears.tistory.com/414)를 참고"
   ]
  },
  {
   "cell_type": "code",
   "execution_count": 25,
   "metadata": {},
   "outputs": [],
   "source": [
    "import bs4\n",
    "\n",
    "source = driver.page_source  # 페이지 소스 저장\n",
    "bs = bs4.BeautifulSoup(source, 'lxml')   # beautifulsoup로 페이지 소스 파싱\n",
    "info = bs.find('ul', class_ = 'quickSearchResultBoxSidoGugun')   # 매장 위치 정보가 담겨있는 class 찾기, tag는 ul\n",
    "li_list = info.find_all('li')  # info 하위의 li 태그 전체 정보 가져오기"
   ]
  },
  {
   "cell_type": "code",
   "execution_count": 76,
   "metadata": {},
   "outputs": [
    {
     "data": {
      "text/plain": [
       "[<li class=\"quickResultLstCon\" data-code=\"3762\" data-hlytag=\"null\" data-index=\"0\" data-lat=\"37.501087\" data-long=\"127.043069\" data-name=\"역삼아레나빌딩\" data-storecd=\"1509\" style=\"background:#fff\"> <strong>역삼아레나빌딩  <img alt=\"\" class=\"setStoreFavBtn mCS_img_loaded\" data-my_siren_order_store_yn=\"N\" data-name=\"역삼아레나빌딩\" data-store=\"1509\" data-yn=\"N\" src=\"//image.istarbucks.co.kr/common/img/store/icon_fav_off.png\"/></strong> <p class=\"result_details\">서울특별시 강남구 언주로 425 (역삼동)<br/>02-568-3762</p> <i class=\"pin_general\">리저브 매장 2번</i></li>,\n",
       " <li class=\"quickResultLstCon\" data-code=\"3672\" data-hlytag=\"null\" data-index=\"1\" data-lat=\"37.510178\" data-long=\"127.022223\" data-name=\"논현역사거리\" data-storecd=\"1434\" style=\"background:#fff\"> <strong>논현역사거리  <img alt=\"\" class=\"setStoreFavBtn mCS_img_loaded\" data-my_siren_order_store_yn=\"N\" data-name=\"논현역사거리\" data-store=\"1434\" data-yn=\"N\" src=\"//image.istarbucks.co.kr/common/img/store/icon_fav_off.png\"/></strong> <p class=\"result_details\">서울특별시 강남구 강남대로 538 (논현동)<br/>02-3442-3672</p> <i class=\"pin_general\">리저브 매장 2번</i></li>,\n",
       " <li class=\"quickResultLstCon\" data-code=\"3669\" data-hlytag=\"null\" data-index=\"2\" data-lat=\"37.499517\" data-long=\"127.031495\" data-name=\"국기원사거리\" data-storecd=\"1527\" style=\"background:#fff\"> <strong>국기원사거리  <img alt=\"\" class=\"mCS_img_loaded\" src=\"//image.istarbucks.co.kr/common/img/store/icon_nstore.png\"/><img alt=\"\" class=\"setStoreFavBtn mCS_img_loaded\" data-my_siren_order_store_yn=\"N\" data-name=\"국기원사거리\" data-store=\"1527\" data-yn=\"N\" src=\"//image.istarbucks.co.kr/common/img/store/icon_fav_off.png\"/></strong> <p class=\"result_details\">서울특별시 강남구 테헤란로 125 (역삼동)<br/>02-568-3668</p> <i class=\"pin_general\">리저브 매장 2번</i></li>]"
      ]
     },
     "execution_count": 76,
     "metadata": {},
     "output_type": "execute_result"
    }
   ],
   "source": [
    "li_list[:3]"
   ]
  },
  {
   "cell_type": "code",
   "execution_count": 43,
   "metadata": {},
   "outputs": [],
   "source": [
    "sido = []\n",
    "gugun = []\n",
    "for adrs in li_list:\n",
    "    sido.append(adrs.find('p').text.split()[0])  # 주소를 공백기준으로 나눈 것의 첫번째 요소들 \n",
    "    gugun.append(adrs.find('p').text.split()[1]) # 주소를 공백기준으로 나눈 것의 두번째 요소들"
   ]
  },
  {
   "cell_type": "code",
   "execution_count": 54,
   "metadata": {},
   "outputs": [
    {
     "name": "stdout",
     "output_type": "stream",
     "text": [
      "<class 'pandas.core.frame.DataFrame'>\n",
      "RangeIndex: 497 entries, 0 to 496\n",
      "Data columns (total 3 columns):\n",
      "시도     497 non-null object\n",
      "구군     497 non-null object\n",
      "매장수    497 non-null int64\n",
      "dtypes: int64(1), object(2)\n",
      "memory usage: 11.7+ KB\n"
     ]
    }
   ],
   "source": [
    "starbucks = pd.DataFrame({'시도' : sido, '구군' : gugun, '매장수' : 1})  # 데이터프레임으로 생성 \n",
    "starbucks.info()"
   ]
  },
  {
   "cell_type": "code",
   "execution_count": 60,
   "metadata": {},
   "outputs": [
    {
     "data": {
      "text/plain": [
       "array(['서울특별시', '서울시', '서울'], dtype=object)"
      ]
     },
     "execution_count": 60,
     "metadata": {},
     "output_type": "execute_result"
    }
   ],
   "source": [
    "starbucks['시도'].unique()"
   ]
  },
  {
   "cell_type": "code",
   "execution_count": 63,
   "metadata": {},
   "outputs": [],
   "source": [
    "sido_before = ['서울','서울시']  # 서울, 서울시를\n",
    "sido_after = ['서울특별시', '서울특별시']  # 서울특별시로 변경하기 위한 데이터"
   ]
  },
  {
   "cell_type": "code",
   "execution_count": 64,
   "metadata": {},
   "outputs": [],
   "source": [
    "starbucks['시도'] = starbucks['시도'].replace(sido_before, sido_after)  # 서울특별시로 통일 "
   ]
  },
  {
   "cell_type": "code",
   "execution_count": 72,
   "metadata": {},
   "outputs": [],
   "source": [
    "starbucks = starbucks.pivot_table('매장수', ['시도', '구군'], aggfunc='sum').reset_index()  # pivot_table(value, [index1, index2, ...])"
   ]
  },
  {
   "cell_type": "code",
   "execution_count": 73,
   "metadata": {},
   "outputs": [
    {
     "data": {
      "text/html": [
       "<div>\n",
       "<style scoped>\n",
       "    .dataframe tbody tr th:only-of-type {\n",
       "        vertical-align: middle;\n",
       "    }\n",
       "\n",
       "    .dataframe tbody tr th {\n",
       "        vertical-align: top;\n",
       "    }\n",
       "\n",
       "    .dataframe thead th {\n",
       "        text-align: right;\n",
       "    }\n",
       "</style>\n",
       "<table border=\"1\" class=\"dataframe\">\n",
       "  <thead>\n",
       "    <tr style=\"text-align: right;\">\n",
       "      <th></th>\n",
       "      <th>시도</th>\n",
       "      <th>구군</th>\n",
       "      <th>매장수</th>\n",
       "    </tr>\n",
       "  </thead>\n",
       "  <tbody>\n",
       "    <tr>\n",
       "      <th>0</th>\n",
       "      <td>서울특별시</td>\n",
       "      <td>강남구</td>\n",
       "      <td>76</td>\n",
       "    </tr>\n",
       "    <tr>\n",
       "      <th>1</th>\n",
       "      <td>서울특별시</td>\n",
       "      <td>강동구</td>\n",
       "      <td>13</td>\n",
       "    </tr>\n",
       "    <tr>\n",
       "      <th>2</th>\n",
       "      <td>서울특별시</td>\n",
       "      <td>강북구</td>\n",
       "      <td>5</td>\n",
       "    </tr>\n",
       "    <tr>\n",
       "      <th>3</th>\n",
       "      <td>서울특별시</td>\n",
       "      <td>강서구</td>\n",
       "      <td>14</td>\n",
       "    </tr>\n",
       "    <tr>\n",
       "      <th>4</th>\n",
       "      <td>서울특별시</td>\n",
       "      <td>관악구</td>\n",
       "      <td>10</td>\n",
       "    </tr>\n",
       "    <tr>\n",
       "      <th>5</th>\n",
       "      <td>서울특별시</td>\n",
       "      <td>광진구</td>\n",
       "      <td>14</td>\n",
       "    </tr>\n",
       "    <tr>\n",
       "      <th>6</th>\n",
       "      <td>서울특별시</td>\n",
       "      <td>구로구</td>\n",
       "      <td>10</td>\n",
       "    </tr>\n",
       "    <tr>\n",
       "      <th>7</th>\n",
       "      <td>서울특별시</td>\n",
       "      <td>금천구</td>\n",
       "      <td>10</td>\n",
       "    </tr>\n",
       "    <tr>\n",
       "      <th>8</th>\n",
       "      <td>서울특별시</td>\n",
       "      <td>노원구</td>\n",
       "      <td>12</td>\n",
       "    </tr>\n",
       "    <tr>\n",
       "      <th>9</th>\n",
       "      <td>서울특별시</td>\n",
       "      <td>도봉구</td>\n",
       "      <td>2</td>\n",
       "    </tr>\n",
       "    <tr>\n",
       "      <th>10</th>\n",
       "      <td>서울특별시</td>\n",
       "      <td>동대문구</td>\n",
       "      <td>8</td>\n",
       "    </tr>\n",
       "    <tr>\n",
       "      <th>11</th>\n",
       "      <td>서울특별시</td>\n",
       "      <td>동작구</td>\n",
       "      <td>8</td>\n",
       "    </tr>\n",
       "    <tr>\n",
       "      <th>12</th>\n",
       "      <td>서울특별시</td>\n",
       "      <td>마포구</td>\n",
       "      <td>32</td>\n",
       "    </tr>\n",
       "    <tr>\n",
       "      <th>13</th>\n",
       "      <td>서울특별시</td>\n",
       "      <td>서대문구</td>\n",
       "      <td>21</td>\n",
       "    </tr>\n",
       "    <tr>\n",
       "      <th>14</th>\n",
       "      <td>서울특별시</td>\n",
       "      <td>서초구</td>\n",
       "      <td>45</td>\n",
       "    </tr>\n",
       "    <tr>\n",
       "      <th>15</th>\n",
       "      <td>서울특별시</td>\n",
       "      <td>성동구</td>\n",
       "      <td>9</td>\n",
       "    </tr>\n",
       "    <tr>\n",
       "      <th>16</th>\n",
       "      <td>서울특별시</td>\n",
       "      <td>성북구</td>\n",
       "      <td>11</td>\n",
       "    </tr>\n",
       "    <tr>\n",
       "      <th>17</th>\n",
       "      <td>서울특별시</td>\n",
       "      <td>송파구</td>\n",
       "      <td>29</td>\n",
       "    </tr>\n",
       "    <tr>\n",
       "      <th>18</th>\n",
       "      <td>서울특별시</td>\n",
       "      <td>양천구</td>\n",
       "      <td>14</td>\n",
       "    </tr>\n",
       "    <tr>\n",
       "      <th>19</th>\n",
       "      <td>서울특별시</td>\n",
       "      <td>영등포구</td>\n",
       "      <td>35</td>\n",
       "    </tr>\n",
       "    <tr>\n",
       "      <th>20</th>\n",
       "      <td>서울특별시</td>\n",
       "      <td>용산구</td>\n",
       "      <td>17</td>\n",
       "    </tr>\n",
       "    <tr>\n",
       "      <th>21</th>\n",
       "      <td>서울특별시</td>\n",
       "      <td>은평구</td>\n",
       "      <td>8</td>\n",
       "    </tr>\n",
       "    <tr>\n",
       "      <th>22</th>\n",
       "      <td>서울특별시</td>\n",
       "      <td>종로구</td>\n",
       "      <td>38</td>\n",
       "    </tr>\n",
       "    <tr>\n",
       "      <th>23</th>\n",
       "      <td>서울특별시</td>\n",
       "      <td>중구</td>\n",
       "      <td>50</td>\n",
       "    </tr>\n",
       "    <tr>\n",
       "      <th>24</th>\n",
       "      <td>서울특별시</td>\n",
       "      <td>중랑구</td>\n",
       "      <td>6</td>\n",
       "    </tr>\n",
       "  </tbody>\n",
       "</table>\n",
       "</div>"
      ],
      "text/plain": [
       "       시도    구군  매장수\n",
       "0   서울특별시   강남구   76\n",
       "1   서울특별시   강동구   13\n",
       "2   서울특별시   강북구    5\n",
       "3   서울특별시   강서구   14\n",
       "4   서울특별시   관악구   10\n",
       "5   서울특별시   광진구   14\n",
       "6   서울특별시   구로구   10\n",
       "7   서울특별시   금천구   10\n",
       "8   서울특별시   노원구   12\n",
       "9   서울특별시   도봉구    2\n",
       "10  서울특별시  동대문구    8\n",
       "11  서울특별시   동작구    8\n",
       "12  서울특별시   마포구   32\n",
       "13  서울특별시  서대문구   21\n",
       "14  서울특별시   서초구   45\n",
       "15  서울특별시   성동구    9\n",
       "16  서울특별시   성북구   11\n",
       "17  서울특별시   송파구   29\n",
       "18  서울특별시   양천구   14\n",
       "19  서울특별시  영등포구   35\n",
       "20  서울특별시   용산구   17\n",
       "21  서울특별시   은평구    8\n",
       "22  서울특별시   종로구   38\n",
       "23  서울특별시    중구   50\n",
       "24  서울특별시   중랑구    6"
      ]
     },
     "execution_count": 73,
     "metadata": {},
     "output_type": "execute_result"
    }
   ],
   "source": [
    "starbucks"
   ]
  }
 ],
 "metadata": {
  "kernelspec": {
   "display_name": "Python 3",
   "language": "python",
   "name": "python3"
  },
  "language_info": {
   "codemirror_mode": {
    "name": "ipython",
    "version": 3
   },
   "file_extension": ".py",
   "mimetype": "text/x-python",
   "name": "python",
   "nbconvert_exporter": "python",
   "pygments_lexer": "ipython3",
   "version": "3.7.3"
  }
 },
 "nbformat": 4,
 "nbformat_minor": 2
}
