{
 "cells": [
  {
   "cell_type": "markdown",
   "metadata": {},
   "source": [
    "# **03. 시카고 샌드위치 맛집 분석**"
   ]
  },
  {
   "cell_type": "markdown",
   "metadata": {},
   "source": [
    "## **1. 웹 데이터를 가져오는 Beautiful Soup 튜토리얼**\n",
    "\n",
    "- `find` : 이름을 포함하는 하나의 태그(첫번째) 가져오기 \n",
    "- `next_sibling`  : 다음 형제 태그 가져오기 \n",
    "- `previous_sibling` : 이전 형제 태그 가져오기 \n",
    "\n",
    "- `find_all` : 이름을 포함하는 모든 태그 가져오기 \n",
    "- `class_` : class 이름으로 접근 \n",
    "- `id` : id 이름으로 접근 \n",
    "- `get_text()` : 텍스트 가져오기  단, 두 개 이상의 태그에서 모두 추출하지 못함 따라서 for문이 필요함\n",
    "- `link['href]`  : 속성 접근하기 \n",
    "- `link.string` : link 객체에서 텍스를 가져오는 법"
   ]
  },
  {
   "cell_type": "markdown",
   "metadata": {},
   "source": [
    "### **1.1  차근차근 body 태그 찾아가기**"
   ]
  },
  {
   "cell_type": "code",
   "execution_count": 9,
   "metadata": {},
   "outputs": [],
   "source": [
    "from bs4 import BeautifulSoup"
   ]
  },
  {
   "cell_type": "code",
   "execution_count": 10,
   "metadata": {},
   "outputs": [
    {
     "name": "stdout",
     "output_type": "stream",
     "text": [
      "<!DOCTYPE html>\n",
      "<html>\n",
      " <head>\n",
      "  <title>\n",
      "   Very Simple HTML Code by PinkWink\n",
      "  </title>\n",
      " </head>\n",
      " <body>\n",
      "  <div>\n",
      "   <p class=\"inner-text first-item\" id=\"first\">\n",
      "    Happy PinkWink.\n",
      "    <a href=\"http://www.pinkwink.kr\" id=\"pw-link\">\n",
      "     PinkWink\n",
      "    </a>\n",
      "   </p>\n",
      "   <p class=\"inner-text second-item\">\n",
      "    Happy Data Science.\n",
      "    <a href=\"https://www.python.org\" id=\"py-link\">\n",
      "     Python\n",
      "    </a>\n",
      "   </p>\n",
      "  </div>\n",
      "  <p class=\"outer-text first-item\" id=\"second\">\n",
      "   <b>\n",
      "    Data Science is funny.\n",
      "   </b>\n",
      "  </p>\n",
      "  <p class=\"outer-text\">\n",
      "   <b>\n",
      "    All I need is Love.\n",
      "   </b>\n",
      "  </p>\n",
      " </body>\n",
      "</html>\n"
     ]
    }
   ],
   "source": [
    "page = open(\"data/03. test_first.html\", 'r').read()\n",
    "soup = BeautifulSoup(page, 'html.parser')\n",
    "print(soup.prettify())"
   ]
  },
  {
   "cell_type": "code",
   "execution_count": 11,
   "metadata": {},
   "outputs": [
    {
     "data": {
      "text/plain": [
       "['html', '\\n', <html>\n",
       " <head>\n",
       " <title>Very Simple HTML Code by PinkWink</title>\n",
       " </head>\n",
       " <body>\n",
       " <div>\n",
       " <p class=\"inner-text first-item\" id=\"first\">\n",
       "                 Happy PinkWink.\n",
       "                 <a href=\"http://www.pinkwink.kr\" id=\"pw-link\">PinkWink</a>\n",
       " </p>\n",
       " <p class=\"inner-text second-item\">\n",
       "                 Happy Data Science.\n",
       "                 <a href=\"https://www.python.org\" id=\"py-link\">Python</a>\n",
       " </p>\n",
       " </div>\n",
       " <p class=\"outer-text first-item\" id=\"second\">\n",
       " <b>\n",
       "                 Data Science is funny.\n",
       "             </b>\n",
       " </p>\n",
       " <p class=\"outer-text\">\n",
       " <b>\n",
       "                 All I need is Love.\n",
       "             </b>\n",
       " </p>\n",
       " </body>\n",
       " </html>]"
      ]
     },
     "execution_count": 11,
     "metadata": {},
     "output_type": "execute_result"
    }
   ],
   "source": [
    "list(soup.children)"
   ]
  },
  {
   "cell_type": "code",
   "execution_count": 12,
   "metadata": {},
   "outputs": [
    {
     "data": {
      "text/plain": [
       "<html>\n",
       "<head>\n",
       "<title>Very Simple HTML Code by PinkWink</title>\n",
       "</head>\n",
       "<body>\n",
       "<div>\n",
       "<p class=\"inner-text first-item\" id=\"first\">\n",
       "                Happy PinkWink.\n",
       "                <a href=\"http://www.pinkwink.kr\" id=\"pw-link\">PinkWink</a>\n",
       "</p>\n",
       "<p class=\"inner-text second-item\">\n",
       "                Happy Data Science.\n",
       "                <a href=\"https://www.python.org\" id=\"py-link\">Python</a>\n",
       "</p>\n",
       "</div>\n",
       "<p class=\"outer-text first-item\" id=\"second\">\n",
       "<b>\n",
       "                Data Science is funny.\n",
       "            </b>\n",
       "</p>\n",
       "<p class=\"outer-text\">\n",
       "<b>\n",
       "                All I need is Love.\n",
       "            </b>\n",
       "</p>\n",
       "</body>\n",
       "</html>"
      ]
     },
     "execution_count": 12,
     "metadata": {},
     "output_type": "execute_result"
    }
   ],
   "source": [
    "html = list(soup.children)[2]  # html 태그에 들어가기 \n",
    "html"
   ]
  },
  {
   "cell_type": "code",
   "execution_count": 13,
   "metadata": {},
   "outputs": [
    {
     "data": {
      "text/plain": [
       "['\\n', <head>\n",
       " <title>Very Simple HTML Code by PinkWink</title>\n",
       " </head>, '\\n', <body>\n",
       " <div>\n",
       " <p class=\"inner-text first-item\" id=\"first\">\n",
       "                 Happy PinkWink.\n",
       "                 <a href=\"http://www.pinkwink.kr\" id=\"pw-link\">PinkWink</a>\n",
       " </p>\n",
       " <p class=\"inner-text second-item\">\n",
       "                 Happy Data Science.\n",
       "                 <a href=\"https://www.python.org\" id=\"py-link\">Python</a>\n",
       " </p>\n",
       " </div>\n",
       " <p class=\"outer-text first-item\" id=\"second\">\n",
       " <b>\n",
       "                 Data Science is funny.\n",
       "             </b>\n",
       " </p>\n",
       " <p class=\"outer-text\">\n",
       " <b>\n",
       "                 All I need is Love.\n",
       "             </b>\n",
       " </p>\n",
       " </body>, '\\n']"
      ]
     },
     "execution_count": 13,
     "metadata": {},
     "output_type": "execute_result"
    }
   ],
   "source": [
    "list(html.children)"
   ]
  },
  {
   "cell_type": "code",
   "execution_count": 14,
   "metadata": {},
   "outputs": [
    {
     "data": {
      "text/plain": [
       "<body>\n",
       "<div>\n",
       "<p class=\"inner-text first-item\" id=\"first\">\n",
       "                Happy PinkWink.\n",
       "                <a href=\"http://www.pinkwink.kr\" id=\"pw-link\">PinkWink</a>\n",
       "</p>\n",
       "<p class=\"inner-text second-item\">\n",
       "                Happy Data Science.\n",
       "                <a href=\"https://www.python.org\" id=\"py-link\">Python</a>\n",
       "</p>\n",
       "</div>\n",
       "<p class=\"outer-text first-item\" id=\"second\">\n",
       "<b>\n",
       "                Data Science is funny.\n",
       "            </b>\n",
       "</p>\n",
       "<p class=\"outer-text\">\n",
       "<b>\n",
       "                All I need is Love.\n",
       "            </b>\n",
       "</p>\n",
       "</body>"
      ]
     },
     "execution_count": 14,
     "metadata": {},
     "output_type": "execute_result"
    }
   ],
   "source": [
    "# body 태그 내용 들어가기 \n",
    "\n",
    "body = list(html.children)[3]\n",
    "body"
   ]
  },
  {
   "cell_type": "markdown",
   "metadata": {},
   "source": [
    "### **1.2 body 태그 한번에 찾아가기**"
   ]
  },
  {
   "cell_type": "code",
   "execution_count": 15,
   "metadata": {},
   "outputs": [
    {
     "data": {
      "text/plain": [
       "<body>\n",
       "<div>\n",
       "<p class=\"inner-text first-item\" id=\"first\">\n",
       "                Happy PinkWink.\n",
       "                <a href=\"http://www.pinkwink.kr\" id=\"pw-link\">PinkWink</a>\n",
       "</p>\n",
       "<p class=\"inner-text second-item\">\n",
       "                Happy Data Science.\n",
       "                <a href=\"https://www.python.org\" id=\"py-link\">Python</a>\n",
       "</p>\n",
       "</div>\n",
       "<p class=\"outer-text first-item\" id=\"second\">\n",
       "<b>\n",
       "                Data Science is funny.\n",
       "            </b>\n",
       "</p>\n",
       "<p class=\"outer-text\">\n",
       "<b>\n",
       "                All I need is Love.\n",
       "            </b>\n",
       "</p>\n",
       "</body>"
      ]
     },
     "execution_count": 15,
     "metadata": {},
     "output_type": "execute_result"
    }
   ],
   "source": [
    "soup.body "
   ]
  },
  {
   "cell_type": "code",
   "execution_count": 16,
   "metadata": {},
   "outputs": [
    {
     "data": {
      "text/plain": [
       "['\\n', <div>\n",
       " <p class=\"inner-text first-item\" id=\"first\">\n",
       "                 Happy PinkWink.\n",
       "                 <a href=\"http://www.pinkwink.kr\" id=\"pw-link\">PinkWink</a>\n",
       " </p>\n",
       " <p class=\"inner-text second-item\">\n",
       "                 Happy Data Science.\n",
       "                 <a href=\"https://www.python.org\" id=\"py-link\">Python</a>\n",
       " </p>\n",
       " </div>, '\\n', <p class=\"outer-text first-item\" id=\"second\">\n",
       " <b>\n",
       "                 Data Science is funny.\n",
       "             </b>\n",
       " </p>, '\\n', <p class=\"outer-text\">\n",
       " <b>\n",
       "                 All I need is Love.\n",
       "             </b>\n",
       " </p>, '\\n']"
      ]
     },
     "execution_count": 16,
     "metadata": {},
     "output_type": "execute_result"
    }
   ],
   "source": [
    "# body 태그의 자식들 \n",
    "\n",
    "list(body.children)"
   ]
  },
  {
   "cell_type": "markdown",
   "metadata": {},
   "source": [
    "### **1.3 태그 찾아가기**\n",
    "\n",
    "-  find : **태그** 하나만 찾기 (첫 번쨰) // *R에서 rvest 패키지의 heml_node와 유사* \n",
    "- find_all : 해당 **태그** 모두 찾기       // *R에서 rvest 패키지의 heml_nodes와 유사*"
   ]
  },
  {
   "cell_type": "code",
   "execution_count": 17,
   "metadata": {},
   "outputs": [
    {
     "data": {
      "text/plain": [
       "[<p class=\"inner-text first-item\" id=\"first\">\n",
       "                 Happy PinkWink.\n",
       "                 <a href=\"http://www.pinkwink.kr\" id=\"pw-link\">PinkWink</a>\n",
       " </p>, <p class=\"inner-text second-item\">\n",
       "                 Happy Data Science.\n",
       "                 <a href=\"https://www.python.org\" id=\"py-link\">Python</a>\n",
       " </p>, <p class=\"outer-text first-item\" id=\"second\">\n",
       " <b>\n",
       "                 Data Science is funny.\n",
       "             </b>\n",
       " </p>, <p class=\"outer-text\">\n",
       " <b>\n",
       "                 All I need is Love.\n",
       "             </b>\n",
       " </p>]"
      ]
     },
     "execution_count": 17,
     "metadata": {},
     "output_type": "execute_result"
    }
   ],
   "source": [
    "soup.find_all('p')"
   ]
  },
  {
   "cell_type": "markdown",
   "metadata": {},
   "source": [
    "### **1.3.1 class 찾아가기**\n",
    "\n",
    "- **class_**"
   ]
  },
  {
   "cell_type": "code",
   "execution_count": 22,
   "metadata": {},
   "outputs": [
    {
     "data": {
      "text/plain": [
       "[<p class=\"outer-text first-item\" id=\"second\">\n",
       " <b>\n",
       "                 Data Science is funny.\n",
       "             </b>\n",
       " </p>, <p class=\"outer-text\">\n",
       " <b>\n",
       "                 All I need is Love.\n",
       "             </b>\n",
       " </p>]"
      ]
     },
     "execution_count": 22,
     "metadata": {},
     "output_type": "execute_result"
    }
   ],
   "source": [
    "# p 태그의 class 이름이 outer-text인 것을 찾아가기\n",
    "\n",
    "soup.find_all('p', class_ = 'outer-text')"
   ]
  },
  {
   "cell_type": "code",
   "execution_count": 24,
   "metadata": {},
   "outputs": [
    {
     "data": {
      "text/plain": [
       "[<p class=\"outer-text first-item\" id=\"second\">\n",
       " <b>\n",
       "                 Data Science is funny.\n",
       "             </b>\n",
       " </p>, <p class=\"outer-text\">\n",
       " <b>\n",
       "                 All I need is Love.\n",
       "             </b>\n",
       " </p>]"
      ]
     },
     "execution_count": 24,
     "metadata": {},
     "output_type": "execute_result"
    }
   ],
   "source": [
    "# class 이름이 outer-text인 것 찾아가기\n",
    "\n",
    "soup.find_all(class_ = 'outer-text')"
   ]
  },
  {
   "cell_type": "markdown",
   "metadata": {},
   "source": [
    "### **1.3.2 id 찾아가기**\n",
    "\n",
    "- id"
   ]
  },
  {
   "cell_type": "code",
   "execution_count": 26,
   "metadata": {},
   "outputs": [
    {
     "data": {
      "text/plain": [
       "[<p class=\"inner-text first-item\" id=\"first\">\n",
       "                 Happy PinkWink.\n",
       "                 <a href=\"http://www.pinkwink.kr\" id=\"pw-link\">PinkWink</a>\n",
       " </p>]"
      ]
     },
     "execution_count": 26,
     "metadata": {},
     "output_type": "execute_result"
    }
   ],
   "source": [
    "soup.find_all(id='first')  # id가 'first'인 태그 찾기"
   ]
  },
  {
   "cell_type": "markdown",
   "metadata": {},
   "source": [
    "### **1.3.3 다음 태그로 넘어가기**\n",
    "\n",
    "- next_sibling : 다음 형제 태그\n",
    "- previous.sibling : 이전 형제 태그"
   ]
  },
  {
   "cell_type": "code",
   "execution_count": 60,
   "metadata": {},
   "outputs": [
    {
     "data": {
      "text/plain": [
       "[<p class=\"inner-text first-item\" id=\"first\">\n",
       "                 Happy PinkWink.\n",
       "                 <a href=\"http://www.pinkwink.kr\" id=\"pw-link\">PinkWink</a>\n",
       " </p>, <p class=\"inner-text second-item\">\n",
       "                 Happy Data Science.\n",
       "                 <a href=\"https://www.python.org\" id=\"py-link\">Python</a>\n",
       " </p>]"
      ]
     },
     "execution_count": 60,
     "metadata": {},
     "output_type": "execute_result"
    }
   ],
   "source": [
    "soup.find_all(class_ = 'inner-text')"
   ]
  },
  {
   "cell_type": "code",
   "execution_count": 37,
   "metadata": {},
   "outputs": [
    {
     "data": {
      "text/plain": [
       "<p class=\"inner-text second-item\">\n",
       "                Happy Data Science.\n",
       "                <a href=\"https://www.python.org\" id=\"py-link\">Python</a>\n",
       "</p>"
      ]
     },
     "execution_count": 37,
     "metadata": {},
     "output_type": "execute_result"
    }
   ],
   "source": [
    "soup.find(class_ = 'inner-text first-item').next_sibling.next_sibling  # 첫 번째 요소에서 다음다음으로 넘어가 second-item 태그에 접근"
   ]
  },
  {
   "cell_type": "code",
   "execution_count": 57,
   "metadata": {},
   "outputs": [
    {
     "data": {
      "text/plain": [
       "<p class=\"inner-text second-item\">\n",
       "                Happy Data Science.\n",
       "                <a href=\"https://www.python.org\" id=\"py-link\">Python</a>\n",
       "</p>"
      ]
     },
     "execution_count": 57,
     "metadata": {},
     "output_type": "execute_result"
    }
   ],
   "source": [
    "soup.find(class_ = 'inner-text second-item')"
   ]
  },
  {
   "cell_type": "code",
   "execution_count": 42,
   "metadata": {},
   "outputs": [
    {
     "data": {
      "text/plain": [
       "<p class=\"inner-text first-item\" id=\"first\">\n",
       "                Happy PinkWink.\n",
       "                <a href=\"http://www.pinkwink.kr\" id=\"pw-link\">PinkWink</a>\n",
       "</p>"
      ]
     },
     "execution_count": 42,
     "metadata": {},
     "output_type": "execute_result"
    }
   ],
   "source": [
    "# inner-text second-item의 이전 형제 태그 찾기 \n",
    "\n",
    "soup.find(class_ = 'inner-text second-item').previous_sibling.previous_sibling"
   ]
  },
  {
   "cell_type": "markdown",
   "metadata": {},
   "source": [
    "### **1.3.4 text 추출하기**"
   ]
  },
  {
   "cell_type": "code",
   "execution_count": 44,
   "metadata": {},
   "outputs": [
    {
     "name": "stdout",
     "output_type": "stream",
     "text": [
      "\n",
      "                Happy PinkWink.\n",
      "                PinkWink\n",
      "\n",
      "\n",
      "                Happy Data Science.\n",
      "                Python\n",
      "\n",
      "\n",
      "\n",
      "                Data Science is funny.\n",
      "            \n",
      "\n",
      "\n",
      "\n",
      "                All I need is Love.\n",
      "            \n",
      "\n"
     ]
    }
   ],
   "source": [
    "for each_tag in soup.find_all('p'):  # p 태그 전체에서 텍스트 가져오기 \n",
    "    print(each_tag.get_text())"
   ]
  },
  {
   "cell_type": "markdown",
   "metadata": {},
   "source": [
    "### **1.3.5 link 추출하기**"
   ]
  },
  {
   "cell_type": "code",
   "execution_count": 48,
   "metadata": {},
   "outputs": [
    {
     "data": {
      "text/plain": [
       "[<a href=\"http://www.pinkwink.kr\" id=\"pw-link\">PinkWink</a>,\n",
       " <a href=\"https://www.python.org\" id=\"py-link\">Python</a>]"
      ]
     },
     "execution_count": 48,
     "metadata": {},
     "output_type": "execute_result"
    }
   ],
   "source": [
    "links = soup.find_all('a')\n",
    "links"
   ]
  },
  {
   "cell_type": "code",
   "execution_count": 50,
   "metadata": {},
   "outputs": [
    {
     "data": {
      "text/plain": [
       "'http://www.pinkwink.kr'"
      ]
     },
     "execution_count": 50,
     "metadata": {},
     "output_type": "execute_result"
    }
   ],
   "source": [
    "links[0]['href']"
   ]
  },
  {
   "cell_type": "code",
   "execution_count": 51,
   "metadata": {},
   "outputs": [
    {
     "name": "stdout",
     "output_type": "stream",
     "text": [
      "PinkWink -> http://www.pinkwink.kr\n",
      "Python -> https://www.python.org\n"
     ]
    }
   ],
   "source": [
    "for link in links:\n",
    "    href = link['href']\n",
    "    text = link.string  # 객체의 속성을 가져오는 string or bs4의 메서드 link.get_text()\n",
    "    print(text + ' -> ' + href)"
   ]
  },
  {
   "cell_type": "markdown",
   "metadata": {},
   "source": [
    "## **2. 네이버 환율 데이터 직접 가져오기**"
   ]
  },
  {
   "cell_type": "markdown",
   "metadata": {},
   "source": [
    "### **2.1 url로 페이지 읽기**"
   ]
  },
  {
   "cell_type": "code",
   "execution_count": 67,
   "metadata": {},
   "outputs": [],
   "source": [
    "from urllib.request import urlopen\n",
    "\n",
    "url = \"https://finance.naver.com/marketindex/\"\n",
    "page = urlopen(url)\n",
    "soup = BeautifulSoup(page, 'html.parser')"
   ]
  },
  {
   "cell_type": "code",
   "execution_count": 69,
   "metadata": {},
   "outputs": [],
   "source": [
    "# print(soup.prettify())"
   ]
  },
  {
   "cell_type": "code",
   "execution_count": 72,
   "metadata": {},
   "outputs": [
    {
     "data": {
      "text/plain": [
       "[<span class=\"value\">1,218.90</span>,\n",
       " <span class=\"value\">1,151.54</span>,\n",
       " <span class=\"value\">1,370.41</span>,\n",
       " <span class=\"value\">171.01</span>,\n",
       " <span class=\"value\">106.0400</span>,\n",
       " <span class=\"value\">1.1183</span>,\n",
       " <span class=\"value\">1.2140</span>,\n",
       " <span class=\"value\">97.3000</span>,\n",
       " <span class=\"value\">54.69</span>,\n",
       " <span class=\"value\">1493.93</span>,\n",
       " <span class=\"value\">1464.6</span>,\n",
       " <span class=\"value\">57611.48</span>]"
      ]
     },
     "execution_count": 72,
     "metadata": {},
     "output_type": "execute_result"
    }
   ],
   "source": [
    "soup.find_all('span', class_ = 'value')  # span 태그에 있는 value Class "
   ]
  },
  {
   "cell_type": "code",
   "execution_count": 76,
   "metadata": {},
   "outputs": [
    {
     "name": "stdout",
     "output_type": "stream",
     "text": [
      "1,218.90\n",
      "1,151.54\n",
      "1,370.41\n",
      "171.01\n",
      "106.0400\n",
      "1.1183\n",
      "1.2140\n",
      "97.3000\n",
      "54.69\n",
      "1493.93\n",
      "1464.6\n",
      "57611.48\n"
     ]
    }
   ],
   "source": [
    "for exr in soup.find_all('span', class_ = 'value'):\n",
    "    print(exr.string)  # exr.geT_texT()"
   ]
  },
  {
   "cell_type": "markdown",
   "metadata": {},
   "source": [
    "## **3. 실전 : 시카고 샌드위치 맛집 소개 사이트에 접근하기**"
   ]
  },
  {
   "cell_type": "markdown",
   "metadata": {},
   "source": [
    "### **3.1 사이트에서 원하는 데이터 접근하기**"
   ]
  },
  {
   "cell_type": "code",
   "execution_count": 77,
   "metadata": {},
   "outputs": [],
   "source": [
    "from bs4 import BeautifulSoup \n",
    "from urllib.request import urlopen\n",
    "\n",
    "url_base = 'http://www.chicagomag.com'\n",
    "url_sub = '/Chicago-Magazine/November-2012/Best-Sandwiches-Chicago/'\n",
    "url = url_base + url_sub\n",
    "\n",
    "html = urlopen(url)\n",
    "soup = BeautifulSoup(html, 'html.parser')"
   ]
  },
  {
   "cell_type": "code",
   "execution_count": 80,
   "metadata": {},
   "outputs": [],
   "source": [
    "# print(soup.prettify())"
   ]
  },
  {
   "cell_type": "code",
   "execution_count": 87,
   "metadata": {},
   "outputs": [
    {
     "data": {
      "text/plain": [
       "<div class=\"sammy\" style=\"position: relative;\">\n",
       "<div class=\"sammyRank\">1</div>\n",
       "<div class=\"sammyListing\"><a href=\"/Chicago-Magazine/November-2012/Best-Sandwiches-in-Chicago-Old-Oak-Tap-BLT/\"><b>BLT</b><br>\n",
       "Old Oak Tap<br>\n",
       "<em>Read more</em> </br></br></a></div>\n",
       "</div>"
      ]
     },
     "execution_count": 87,
     "metadata": {},
     "output_type": "execute_result"
    }
   ],
   "source": [
    "soup.find_all('div', class_ = 'sammy')[0]"
   ]
  },
  {
   "cell_type": "code",
   "execution_count": 89,
   "metadata": {},
   "outputs": [
    {
     "data": {
      "text/plain": [
       "50"
      ]
     },
     "execution_count": 89,
     "metadata": {},
     "output_type": "execute_result"
    }
   ],
   "source": [
    "len(soup.find_all('div', class_ = 'sammy'))"
   ]
  },
  {
   "cell_type": "markdown",
   "metadata": {},
   "source": [
    "### **3.2 원하는 데이터 추출하고 정리하기**\n",
    "\n",
    "- find_all로 찾은 결과는 `bs4.element.Tag`라는 형태로 나타남.\n",
    "- 이런 형태의 경우 해당 변수에 다시 태그로 찾는 명령(`find` 또는 `find_all`)를 사용할 수 있다.\n",
    "- 즉, 메서드 체이닝이 가능하다. \n",
    "- 단, 각각의 태그에만 가능"
   ]
  },
  {
   "cell_type": "code",
   "execution_count": 90,
   "metadata": {},
   "outputs": [
    {
     "data": {
      "text/plain": [
       "bs4.element.Tag"
      ]
     },
     "execution_count": 90,
     "metadata": {},
     "output_type": "execute_result"
    }
   ],
   "source": [
    "tmp_one = soup.find_all('div', class_ = 'sammy')[0]\n",
    "type(tmp_one)"
   ]
  },
  {
   "cell_type": "code",
   "execution_count": 105,
   "metadata": {},
   "outputs": [
    {
     "data": {
      "text/plain": [
       "<b>BLT</b>"
      ]
     },
     "execution_count": 105,
     "metadata": {},
     "output_type": "execute_result"
    }
   ],
   "source": [
    "tmp_one.find('b')  # 이 경우에도 마찬가지로 태그 각각 하나씩만 접근 가능"
   ]
  },
  {
   "cell_type": "code",
   "execution_count": 106,
   "metadata": {},
   "outputs": [
    {
     "data": {
      "text/plain": [
       "'BLT'"
      ]
     },
     "execution_count": 106,
     "metadata": {},
     "output_type": "execute_result"
    }
   ],
   "source": [
    "tmp_one.find('b').string  # 마찬기지로 get_text() 사용가능 "
   ]
  },
  {
   "cell_type": "code",
   "execution_count": 102,
   "metadata": {},
   "outputs": [
    {
     "data": {
      "text/plain": [
       "<div class=\"sammyRank\">1</div>"
      ]
     },
     "execution_count": 102,
     "metadata": {},
     "output_type": "execute_result"
    }
   ],
   "source": [
    "tmp_one.find(class_ = 'sammyRank')"
   ]
  },
  {
   "cell_type": "code",
   "execution_count": 103,
   "metadata": {},
   "outputs": [
    {
     "data": {
      "text/plain": [
       "'BLT\\r\\nOld Oak Tap\\nRead more '"
      ]
     },
     "execution_count": 103,
     "metadata": {},
     "output_type": "execute_result"
    }
   ],
   "source": [
    "tmp_one.find(class_ = 'sammyListing').get_text()"
   ]
  },
  {
   "cell_type": "code",
   "execution_count": 104,
   "metadata": {},
   "outputs": [
    {
     "data": {
      "text/plain": [
       "'/Chicago-Magazine/November-2012/Best-Sandwiches-in-Chicago-Old-Oak-Tap-BLT/'"
      ]
     },
     "execution_count": 104,
     "metadata": {},
     "output_type": "execute_result"
    }
   ],
   "source": [
    "tmp_one.find('a')['href']"
   ]
  },
  {
   "cell_type": "code",
   "execution_count": 118,
   "metadata": {},
   "outputs": [
    {
     "data": {
      "text/plain": [
       "('BLT', 'Old Oak Tap')"
      ]
     },
     "execution_count": 118,
     "metadata": {},
     "output_type": "execute_result"
    }
   ],
   "source": [
    "import re\n",
    "\n",
    "tmp_string = tmp_one.find(class_ = 'sammyListing').get_text()\n",
    "\n",
    "menu, cafe, _ = re.split(('\\n|\\r\\n'), tmp_string)\n",
    "\n",
    "menu, cafe"
   ]
  },
  {
   "cell_type": "code",
   "execution_count": 164,
   "metadata": {},
   "outputs": [
    {
     "data": {
      "application/vnd.jupyter.widget-view+json": {
       "model_id": "9ffb6362549b404faf9696b460ab4ba4",
       "version_major": 2,
       "version_minor": 0
      },
      "text/plain": [
       "HBox(children=(IntProgress(value=0, max=50), HTML(value='')))"
      ]
     },
     "metadata": {},
     "output_type": "display_data"
    }
   ],
   "source": [
    "from tqdm import tqdm_notebook\n",
    "from urllib.parse import urljoin\n",
    "\n",
    "rank = []\n",
    "main_menu = []\n",
    "cafe_name = []\n",
    "url_add = []\n",
    "\n",
    "list_soup = soup.find_all('div', 'sammy')\n",
    "bar_total = tqdm_notebook(list_soup)\n",
    "\n",
    "for item in bar_total:\n",
    "    rank.append(item.find(class_='sammyRank').get_text())\n",
    "    \n",
    "    tmp_string = item.find(class_='sammyListing').get_text()\n",
    "\n",
    "    main_menu.append(re.split(('\\n|\\r\\n'), tmp_string)[0])\n",
    "    cafe_name.append(re.split(('\\n|\\r\\n'), tmp_string)[1])\n",
    "    \n",
    "    url_add.append(urljoin(url_base, item.find('a')['href']))\n",
    "    \n",
    "    time.sleep(0.05)"
   ]
  },
  {
   "cell_type": "code",
   "execution_count": 165,
   "metadata": {},
   "outputs": [
    {
     "data": {
      "text/html": [
       "<div>\n",
       "<style scoped>\n",
       "    .dataframe tbody tr th:only-of-type {\n",
       "        vertical-align: middle;\n",
       "    }\n",
       "\n",
       "    .dataframe tbody tr th {\n",
       "        vertical-align: top;\n",
       "    }\n",
       "\n",
       "    .dataframe thead th {\n",
       "        text-align: right;\n",
       "    }\n",
       "</style>\n",
       "<table border=\"1\" class=\"dataframe\">\n",
       "  <thead>\n",
       "    <tr style=\"text-align: right;\">\n",
       "      <th></th>\n",
       "      <th>Rank</th>\n",
       "      <th>Cafe</th>\n",
       "      <th>Menu</th>\n",
       "      <th>URL</th>\n",
       "    </tr>\n",
       "  </thead>\n",
       "  <tbody>\n",
       "    <tr>\n",
       "      <th>0</th>\n",
       "      <td>1</td>\n",
       "      <td>Old Oak Tap</td>\n",
       "      <td>BLT</td>\n",
       "      <td>http://www.chicagomag.com/Chicago-Magazine/Nov...</td>\n",
       "    </tr>\n",
       "    <tr>\n",
       "      <th>1</th>\n",
       "      <td>2</td>\n",
       "      <td>Au Cheval</td>\n",
       "      <td>Fried Bologna</td>\n",
       "      <td>http://www.chicagomag.com/Chicago-Magazine/Nov...</td>\n",
       "    </tr>\n",
       "    <tr>\n",
       "      <th>2</th>\n",
       "      <td>3</td>\n",
       "      <td>Xoco</td>\n",
       "      <td>Woodland Mushroom</td>\n",
       "      <td>http://www.chicagomag.com/Chicago-Magazine/Nov...</td>\n",
       "    </tr>\n",
       "    <tr>\n",
       "      <th>3</th>\n",
       "      <td>4</td>\n",
       "      <td>Al’s Deli</td>\n",
       "      <td>Roast Beef</td>\n",
       "      <td>http://www.chicagomag.com/Chicago-Magazine/Nov...</td>\n",
       "    </tr>\n",
       "    <tr>\n",
       "      <th>4</th>\n",
       "      <td>5</td>\n",
       "      <td>Publican Quality Meats</td>\n",
       "      <td>PB&amp;L</td>\n",
       "      <td>http://www.chicagomag.com/Chicago-Magazine/Nov...</td>\n",
       "    </tr>\n",
       "    <tr>\n",
       "      <th>5</th>\n",
       "      <td>6</td>\n",
       "      <td>Hendrickx Belgian Bread Crafter</td>\n",
       "      <td>Belgian Chicken Curry Salad</td>\n",
       "      <td>http://www.chicagomag.com/Chicago-Magazine/Nov...</td>\n",
       "    </tr>\n",
       "    <tr>\n",
       "      <th>6</th>\n",
       "      <td>7</td>\n",
       "      <td>Acadia</td>\n",
       "      <td>Lobster Roll</td>\n",
       "      <td>http://www.chicagomag.com/Chicago-Magazine/Nov...</td>\n",
       "    </tr>\n",
       "    <tr>\n",
       "      <th>7</th>\n",
       "      <td>8</td>\n",
       "      <td>Birchwood Kitchen</td>\n",
       "      <td>Smoked Salmon Salad</td>\n",
       "      <td>http://www.chicagomag.com/Chicago-Magazine/Nov...</td>\n",
       "    </tr>\n",
       "    <tr>\n",
       "      <th>8</th>\n",
       "      <td>9</td>\n",
       "      <td>Cemitas Puebla</td>\n",
       "      <td>Atomica Cemitas</td>\n",
       "      <td>http://www.chicagomag.com/Chicago-Magazine/Nov...</td>\n",
       "    </tr>\n",
       "    <tr>\n",
       "      <th>9</th>\n",
       "      <td>10</td>\n",
       "      <td>Nana</td>\n",
       "      <td>Grilled Laughing Bird Shrimp and Fried Po’ Boy</td>\n",
       "      <td>http://www.chicagomag.com/Chicago-Magazine/Nov...</td>\n",
       "    </tr>\n",
       "    <tr>\n",
       "      <th>10</th>\n",
       "      <td>11</td>\n",
       "      <td>Lula Cafe</td>\n",
       "      <td>Ham and Raclette Panino</td>\n",
       "      <td>http://www.chicagomag.com/Chicago-Magazine/Nov...</td>\n",
       "    </tr>\n",
       "    <tr>\n",
       "      <th>11</th>\n",
       "      <td>12</td>\n",
       "      <td>Ricobene’s</td>\n",
       "      <td>Breaded Steak</td>\n",
       "      <td>http://www.chicagomag.com/Chicago-Magazine/Nov...</td>\n",
       "    </tr>\n",
       "    <tr>\n",
       "      <th>12</th>\n",
       "      <td>13</td>\n",
       "      <td>Frog n Snail</td>\n",
       "      <td>The Hawkeye</td>\n",
       "      <td>http://www.chicagomag.com/Chicago-Magazine/Nov...</td>\n",
       "    </tr>\n",
       "    <tr>\n",
       "      <th>13</th>\n",
       "      <td>14</td>\n",
       "      <td>Crosby’s Kitchen</td>\n",
       "      <td>Chicken Dip</td>\n",
       "      <td>http://www.chicagomag.com/Chicago-Magazine/Nov...</td>\n",
       "    </tr>\n",
       "    <tr>\n",
       "      <th>14</th>\n",
       "      <td>15</td>\n",
       "      <td>Longman &amp; Eagle</td>\n",
       "      <td>Wild Boar Sloppy Joe</td>\n",
       "      <td>http://www.chicagomag.com/Chicago-Magazine/Nov...</td>\n",
       "    </tr>\n",
       "    <tr>\n",
       "      <th>15</th>\n",
       "      <td>16</td>\n",
       "      <td>Bari</td>\n",
       "      <td>Meatball Sub</td>\n",
       "      <td>http://www.chicagomag.com/Chicago-Magazine/Nov...</td>\n",
       "    </tr>\n",
       "    <tr>\n",
       "      <th>16</th>\n",
       "      <td>17</td>\n",
       "      <td>Manny’s</td>\n",
       "      <td>Corned Beef</td>\n",
       "      <td>http://www.chicagomag.com/Chicago-Magazine/Nov...</td>\n",
       "    </tr>\n",
       "    <tr>\n",
       "      <th>17</th>\n",
       "      <td>18</td>\n",
       "      <td>Eggy’s</td>\n",
       "      <td>Turkey Club</td>\n",
       "      <td>http://www.chicagomag.com/Chicago-Magazine/Nov...</td>\n",
       "    </tr>\n",
       "    <tr>\n",
       "      <th>18</th>\n",
       "      <td>19</td>\n",
       "      <td>Old Jerusalem</td>\n",
       "      <td>Falafel</td>\n",
       "      <td>http://www.chicagomag.com/Chicago-Magazine/Nov...</td>\n",
       "    </tr>\n",
       "    <tr>\n",
       "      <th>19</th>\n",
       "      <td>20</td>\n",
       "      <td>Mindy’s HotChocolate</td>\n",
       "      <td>Crab Cake</td>\n",
       "      <td>http://www.chicagomag.com/Chicago-Magazine/Nov...</td>\n",
       "    </tr>\n",
       "    <tr>\n",
       "      <th>20</th>\n",
       "      <td>21</td>\n",
       "      <td>Olga’s Delicatessen</td>\n",
       "      <td>Chicken Schnitzel</td>\n",
       "      <td>http://www.chicagomag.com/Chicago-Magazine/Nov...</td>\n",
       "    </tr>\n",
       "    <tr>\n",
       "      <th>21</th>\n",
       "      <td>22</td>\n",
       "      <td>Dawali Mediterranean Kitchen</td>\n",
       "      <td>Shawarma</td>\n",
       "      <td>http://www.chicagomag.com/Chicago-Magazine/Nov...</td>\n",
       "    </tr>\n",
       "    <tr>\n",
       "      <th>22</th>\n",
       "      <td>23</td>\n",
       "      <td>Big Jones</td>\n",
       "      <td>Toasted Pimiento Cheese</td>\n",
       "      <td>http://www.chicagomag.com/Chicago-Magazine/Nov...</td>\n",
       "    </tr>\n",
       "    <tr>\n",
       "      <th>23</th>\n",
       "      <td>24</td>\n",
       "      <td>La Pane</td>\n",
       "      <td>Vegetarian Panino</td>\n",
       "      <td>http://www.chicagomag.com/Chicago-Magazine/Nov...</td>\n",
       "    </tr>\n",
       "    <tr>\n",
       "      <th>24</th>\n",
       "      <td>25</td>\n",
       "      <td>Pastoral</td>\n",
       "      <td>Cali Chèvre</td>\n",
       "      <td>http://www.chicagomag.com/Chicago-Magazine/Nov...</td>\n",
       "    </tr>\n",
       "    <tr>\n",
       "      <th>25</th>\n",
       "      <td>26</td>\n",
       "      <td>Max’s Deli</td>\n",
       "      <td>Pastrami</td>\n",
       "      <td>http://www.chicagomag.com/Chicago-Magazine/Nov...</td>\n",
       "    </tr>\n",
       "    <tr>\n",
       "      <th>26</th>\n",
       "      <td>27</td>\n",
       "      <td>Lucky’s Sandwich Co.</td>\n",
       "      <td>The Fredo</td>\n",
       "      <td>http://www.chicagomag.com/Chicago-Magazine/Nov...</td>\n",
       "    </tr>\n",
       "    <tr>\n",
       "      <th>27</th>\n",
       "      <td>28</td>\n",
       "      <td>City Provisions</td>\n",
       "      <td>Smoked Ham</td>\n",
       "      <td>http://www.chicagomag.com/Chicago-Magazine/Nov...</td>\n",
       "    </tr>\n",
       "    <tr>\n",
       "      <th>28</th>\n",
       "      <td>29</td>\n",
       "      <td>Papa’s Cache Sabroso</td>\n",
       "      <td>Jibarito</td>\n",
       "      <td>http://www.chicagomag.com/Chicago-Magazine/Nov...</td>\n",
       "    </tr>\n",
       "    <tr>\n",
       "      <th>29</th>\n",
       "      <td>30</td>\n",
       "      <td>Bavette’s Bar &amp; Boeuf</td>\n",
       "      <td>Shaved Prime Rib</td>\n",
       "      <td>http://www.chicagomag.com/Chicago-Magazine/Nov...</td>\n",
       "    </tr>\n",
       "    <tr>\n",
       "      <th>30</th>\n",
       "      <td>31</td>\n",
       "      <td>Hannah’s Bretzel</td>\n",
       "      <td>Serrano Ham and Manchego Cheese</td>\n",
       "      <td>http://www.chicagomag.com/Chicago-Magazine/Nov...</td>\n",
       "    </tr>\n",
       "    <tr>\n",
       "      <th>31</th>\n",
       "      <td>32</td>\n",
       "      <td>La Fournette</td>\n",
       "      <td>Tuna Salad</td>\n",
       "      <td>http://www.chicagomag.com/Chicago-Magazine/Nov...</td>\n",
       "    </tr>\n",
       "    <tr>\n",
       "      <th>32</th>\n",
       "      <td>33</td>\n",
       "      <td>Paramount Room</td>\n",
       "      <td>Paramount Reuben</td>\n",
       "      <td>http://www.chicagomag.com/Chicago-Magazine/Nov...</td>\n",
       "    </tr>\n",
       "    <tr>\n",
       "      <th>33</th>\n",
       "      <td>34</td>\n",
       "      <td>Melt Sandwich Shoppe</td>\n",
       "      <td>The Istanbul</td>\n",
       "      <td>http://www.chicagomag.com/Chicago-Magazine/Nov...</td>\n",
       "    </tr>\n",
       "    <tr>\n",
       "      <th>34</th>\n",
       "      <td>35</td>\n",
       "      <td>Floriole Cafe &amp; Bakery</td>\n",
       "      <td>B.A.D.</td>\n",
       "      <td>http://www.chicagomag.com/Chicago-Magazine/Nov...</td>\n",
       "    </tr>\n",
       "    <tr>\n",
       "      <th>35</th>\n",
       "      <td>36</td>\n",
       "      <td>First Slice Pie Café</td>\n",
       "      <td>Duck Confit and Mozzarella</td>\n",
       "      <td>http://www.chicagomag.com/Chicago-Magazine/Nov...</td>\n",
       "    </tr>\n",
       "    <tr>\n",
       "      <th>36</th>\n",
       "      <td>37</td>\n",
       "      <td>Troquet</td>\n",
       "      <td>Croque Monsieur</td>\n",
       "      <td>http://www.chicagomag.com/Chicago-Magazine/Nov...</td>\n",
       "    </tr>\n",
       "    <tr>\n",
       "      <th>37</th>\n",
       "      <td>38</td>\n",
       "      <td>Grahamwich</td>\n",
       "      <td>Green Garbanzo</td>\n",
       "      <td>http://www.chicagomag.com/Chicago-Magazine/Nov...</td>\n",
       "    </tr>\n",
       "    <tr>\n",
       "      <th>38</th>\n",
       "      <td>39</td>\n",
       "      <td>Saigon Sisters</td>\n",
       "      <td>The Hen House</td>\n",
       "      <td>http://www.chicagomag.com/Chicago-Magazine/Nov...</td>\n",
       "    </tr>\n",
       "    <tr>\n",
       "      <th>39</th>\n",
       "      <td>40</td>\n",
       "      <td>Rosalia’s Deli</td>\n",
       "      <td>Tuscan Chicken</td>\n",
       "      <td>http://www.chicagomag.com/Chicago-Magazine/Nov...</td>\n",
       "    </tr>\n",
       "    <tr>\n",
       "      <th>40</th>\n",
       "      <td>41</td>\n",
       "      <td>Z&amp;H MarketCafe</td>\n",
       "      <td>The Marty</td>\n",
       "      <td>http://www.chicagomag.com/Chicago-Magazine/Nov...</td>\n",
       "    </tr>\n",
       "    <tr>\n",
       "      <th>41</th>\n",
       "      <td>42</td>\n",
       "      <td>Market House on the Square</td>\n",
       "      <td>Whitefish</td>\n",
       "      <td>http://www.chicagomag.com/Chicago-Magazine/Nov...</td>\n",
       "    </tr>\n",
       "    <tr>\n",
       "      <th>42</th>\n",
       "      <td>43</td>\n",
       "      <td>Elaine’s Coffee Call</td>\n",
       "      <td>Oat Bread, Pecan Butter, and Fruit Jam</td>\n",
       "      <td>http://www.chicagomag.com/Chicago-Magazine/Nov...</td>\n",
       "    </tr>\n",
       "    <tr>\n",
       "      <th>43</th>\n",
       "      <td>44</td>\n",
       "      <td>Marion Street Cheese Market</td>\n",
       "      <td>Cauliflower Melt</td>\n",
       "      <td>http://www.chicagomag.com/Chicago-Magazine/Nov...</td>\n",
       "    </tr>\n",
       "    <tr>\n",
       "      <th>44</th>\n",
       "      <td>45</td>\n",
       "      <td>Cafecito</td>\n",
       "      <td>Cubana</td>\n",
       "      <td>http://www.chicagomag.com/Chicago-Magazine/Nov...</td>\n",
       "    </tr>\n",
       "    <tr>\n",
       "      <th>45</th>\n",
       "      <td>46</td>\n",
       "      <td>Chickpea</td>\n",
       "      <td>Kufta</td>\n",
       "      <td>http://www.chicagomag.com/Chicago-Magazine/Nov...</td>\n",
       "    </tr>\n",
       "    <tr>\n",
       "      <th>46</th>\n",
       "      <td>47</td>\n",
       "      <td>The Goddess and Grocer</td>\n",
       "      <td>Debbie’s Egg Salad</td>\n",
       "      <td>http://www.chicagomag.com/Chicago-Magazine/Nov...</td>\n",
       "    </tr>\n",
       "    <tr>\n",
       "      <th>47</th>\n",
       "      <td>48</td>\n",
       "      <td>Zenwich</td>\n",
       "      <td>Beef Curry</td>\n",
       "      <td>http://www.chicagomag.com/Chicago-Magazine/Nov...</td>\n",
       "    </tr>\n",
       "    <tr>\n",
       "      <th>48</th>\n",
       "      <td>49</td>\n",
       "      <td>Toni Patisserie</td>\n",
       "      <td>Le Végétarien</td>\n",
       "      <td>http://www.chicagomag.com/Chicago-Magazine/Nov...</td>\n",
       "    </tr>\n",
       "    <tr>\n",
       "      <th>49</th>\n",
       "      <td>50</td>\n",
       "      <td>Phoebe’s Bakery</td>\n",
       "      <td>The Gatsby</td>\n",
       "      <td>http://www.chicagomag.com/Chicago-Magazine/Nov...</td>\n",
       "    </tr>\n",
       "  </tbody>\n",
       "</table>\n",
       "</div>"
      ],
      "text/plain": [
       "   Rank                             Cafe  \\\n",
       "0     1                      Old Oak Tap   \n",
       "1     2                        Au Cheval   \n",
       "2     3                             Xoco   \n",
       "3     4                        Al’s Deli   \n",
       "4     5           Publican Quality Meats   \n",
       "5     6  Hendrickx Belgian Bread Crafter   \n",
       "6     7                           Acadia   \n",
       "7     8                Birchwood Kitchen   \n",
       "8     9                   Cemitas Puebla   \n",
       "9    10                             Nana   \n",
       "10   11                        Lula Cafe   \n",
       "11   12                       Ricobene’s   \n",
       "12   13                     Frog n Snail   \n",
       "13   14                 Crosby’s Kitchen   \n",
       "14   15                  Longman & Eagle   \n",
       "15   16                             Bari   \n",
       "16   17                          Manny’s   \n",
       "17   18                           Eggy’s   \n",
       "18   19                    Old Jerusalem   \n",
       "19   20             Mindy’s HotChocolate   \n",
       "20   21              Olga’s Delicatessen   \n",
       "21   22     Dawali Mediterranean Kitchen   \n",
       "22   23                        Big Jones   \n",
       "23   24                          La Pane   \n",
       "24   25                         Pastoral   \n",
       "25   26                       Max’s Deli   \n",
       "26   27             Lucky’s Sandwich Co.   \n",
       "27   28                  City Provisions   \n",
       "28   29             Papa’s Cache Sabroso   \n",
       "29   30            Bavette’s Bar & Boeuf   \n",
       "30   31                 Hannah’s Bretzel   \n",
       "31   32                     La Fournette   \n",
       "32   33                   Paramount Room   \n",
       "33   34             Melt Sandwich Shoppe   \n",
       "34   35           Floriole Cafe & Bakery   \n",
       "35   36             First Slice Pie Café   \n",
       "36   37                          Troquet   \n",
       "37   38                       Grahamwich   \n",
       "38   39                   Saigon Sisters   \n",
       "39   40                   Rosalia’s Deli   \n",
       "40   41                   Z&H MarketCafe   \n",
       "41   42       Market House on the Square   \n",
       "42   43             Elaine’s Coffee Call   \n",
       "43   44      Marion Street Cheese Market   \n",
       "44   45                         Cafecito   \n",
       "45   46                         Chickpea   \n",
       "46   47           The Goddess and Grocer   \n",
       "47   48                          Zenwich   \n",
       "48   49                  Toni Patisserie   \n",
       "49   50                  Phoebe’s Bakery   \n",
       "\n",
       "                                              Menu  \\\n",
       "0                                              BLT   \n",
       "1                                    Fried Bologna   \n",
       "2                                Woodland Mushroom   \n",
       "3                                       Roast Beef   \n",
       "4                                             PB&L   \n",
       "5                      Belgian Chicken Curry Salad   \n",
       "6                                     Lobster Roll   \n",
       "7                              Smoked Salmon Salad   \n",
       "8                                  Atomica Cemitas   \n",
       "9   Grilled Laughing Bird Shrimp and Fried Po’ Boy   \n",
       "10                         Ham and Raclette Panino   \n",
       "11                                   Breaded Steak   \n",
       "12                                     The Hawkeye   \n",
       "13                                     Chicken Dip   \n",
       "14                            Wild Boar Sloppy Joe   \n",
       "15                                    Meatball Sub   \n",
       "16                                     Corned Beef   \n",
       "17                                     Turkey Club   \n",
       "18                                         Falafel   \n",
       "19                                       Crab Cake   \n",
       "20                               Chicken Schnitzel   \n",
       "21                                        Shawarma   \n",
       "22                         Toasted Pimiento Cheese   \n",
       "23                               Vegetarian Panino   \n",
       "24                                     Cali Chèvre   \n",
       "25                                        Pastrami   \n",
       "26                                       The Fredo   \n",
       "27                                      Smoked Ham   \n",
       "28                                        Jibarito   \n",
       "29                                Shaved Prime Rib   \n",
       "30                 Serrano Ham and Manchego Cheese   \n",
       "31                                      Tuna Salad   \n",
       "32                                Paramount Reuben   \n",
       "33                                    The Istanbul   \n",
       "34                                          B.A.D.   \n",
       "35                      Duck Confit and Mozzarella   \n",
       "36                                 Croque Monsieur   \n",
       "37                                  Green Garbanzo   \n",
       "38                                   The Hen House   \n",
       "39                                  Tuscan Chicken   \n",
       "40                                      The Marty    \n",
       "41                                       Whitefish   \n",
       "42          Oat Bread, Pecan Butter, and Fruit Jam   \n",
       "43                                Cauliflower Melt   \n",
       "44                                          Cubana   \n",
       "45                                           Kufta   \n",
       "46                              Debbie’s Egg Salad   \n",
       "47                                      Beef Curry   \n",
       "48                                   Le Végétarien   \n",
       "49                                      The Gatsby   \n",
       "\n",
       "                                                  URL  \n",
       "0   http://www.chicagomag.com/Chicago-Magazine/Nov...  \n",
       "1   http://www.chicagomag.com/Chicago-Magazine/Nov...  \n",
       "2   http://www.chicagomag.com/Chicago-Magazine/Nov...  \n",
       "3   http://www.chicagomag.com/Chicago-Magazine/Nov...  \n",
       "4   http://www.chicagomag.com/Chicago-Magazine/Nov...  \n",
       "5   http://www.chicagomag.com/Chicago-Magazine/Nov...  \n",
       "6   http://www.chicagomag.com/Chicago-Magazine/Nov...  \n",
       "7   http://www.chicagomag.com/Chicago-Magazine/Nov...  \n",
       "8   http://www.chicagomag.com/Chicago-Magazine/Nov...  \n",
       "9   http://www.chicagomag.com/Chicago-Magazine/Nov...  \n",
       "10  http://www.chicagomag.com/Chicago-Magazine/Nov...  \n",
       "11  http://www.chicagomag.com/Chicago-Magazine/Nov...  \n",
       "12  http://www.chicagomag.com/Chicago-Magazine/Nov...  \n",
       "13  http://www.chicagomag.com/Chicago-Magazine/Nov...  \n",
       "14  http://www.chicagomag.com/Chicago-Magazine/Nov...  \n",
       "15  http://www.chicagomag.com/Chicago-Magazine/Nov...  \n",
       "16  http://www.chicagomag.com/Chicago-Magazine/Nov...  \n",
       "17  http://www.chicagomag.com/Chicago-Magazine/Nov...  \n",
       "18  http://www.chicagomag.com/Chicago-Magazine/Nov...  \n",
       "19  http://www.chicagomag.com/Chicago-Magazine/Nov...  \n",
       "20  http://www.chicagomag.com/Chicago-Magazine/Nov...  \n",
       "21  http://www.chicagomag.com/Chicago-Magazine/Nov...  \n",
       "22  http://www.chicagomag.com/Chicago-Magazine/Nov...  \n",
       "23  http://www.chicagomag.com/Chicago-Magazine/Nov...  \n",
       "24  http://www.chicagomag.com/Chicago-Magazine/Nov...  \n",
       "25  http://www.chicagomag.com/Chicago-Magazine/Nov...  \n",
       "26  http://www.chicagomag.com/Chicago-Magazine/Nov...  \n",
       "27  http://www.chicagomag.com/Chicago-Magazine/Nov...  \n",
       "28  http://www.chicagomag.com/Chicago-Magazine/Nov...  \n",
       "29  http://www.chicagomag.com/Chicago-Magazine/Nov...  \n",
       "30  http://www.chicagomag.com/Chicago-Magazine/Nov...  \n",
       "31  http://www.chicagomag.com/Chicago-Magazine/Nov...  \n",
       "32  http://www.chicagomag.com/Chicago-Magazine/Nov...  \n",
       "33  http://www.chicagomag.com/Chicago-Magazine/Nov...  \n",
       "34  http://www.chicagomag.com/Chicago-Magazine/Nov...  \n",
       "35  http://www.chicagomag.com/Chicago-Magazine/Nov...  \n",
       "36  http://www.chicagomag.com/Chicago-Magazine/Nov...  \n",
       "37  http://www.chicagomag.com/Chicago-Magazine/Nov...  \n",
       "38  http://www.chicagomag.com/Chicago-Magazine/Nov...  \n",
       "39  http://www.chicagomag.com/Chicago-Magazine/Nov...  \n",
       "40  http://www.chicagomag.com/Chicago-Magazine/Nov...  \n",
       "41  http://www.chicagomag.com/Chicago-Magazine/Nov...  \n",
       "42  http://www.chicagomag.com/Chicago-Magazine/Nov...  \n",
       "43  http://www.chicagomag.com/Chicago-Magazine/Nov...  \n",
       "44  http://www.chicagomag.com/Chicago-Magazine/Nov...  \n",
       "45  http://www.chicagomag.com/Chicago-Magazine/Nov...  \n",
       "46  http://www.chicagomag.com/Chicago-Magazine/Nov...  \n",
       "47  http://www.chicagomag.com/Chicago-Magazine/Nov...  \n",
       "48  http://www.chicagomag.com/Chicago-Magazine/Nov...  \n",
       "49  http://www.chicagomag.com/Chicago-Magazine/Nov...  "
      ]
     },
     "execution_count": 165,
     "metadata": {},
     "output_type": "execute_result"
    }
   ],
   "source": [
    "import pandas as pd\n",
    "\n",
    "data = {'Rank' : rank, 'Menu' : main_menu, 'Cafe' : cafe_name, 'URL' : url_add}\n",
    "df = pd.DataFrame(data, columns = ['Rank','Cafe','Menu','URL'])  # 컬럼 순서 변경\n",
    "df"
   ]
  },
  {
   "cell_type": "markdown",
   "metadata": {},
   "source": [
    "### **3.3 심화 : 다수의 웹페이지에 자동으로 접근해서 원하는 정보 가져오기**"
   ]
  },
  {
   "cell_type": "code",
   "execution_count": 166,
   "metadata": {},
   "outputs": [
    {
     "data": {
      "text/plain": [
       "'http://www.chicagomag.com/Chicago-Magazine/November-2012/Best-Sandwiches-in-Chicago-Hendrickx-Belgian-Bread-Crafter-Belgian-Chicken-Curry-Salad/'"
      ]
     },
     "execution_count": 166,
     "metadata": {},
     "output_type": "execute_result"
    }
   ],
   "source": [
    "from bs4 import BeautifulSoup\n",
    "from urllib.request import urlopen\n",
    "import pandas as pd \n",
    "\n",
    "df['URL'][5]"
   ]
  },
  {
   "cell_type": "markdown",
   "metadata": {},
   "source": [
    "#### **3.3.1 하나의 페이지 가져와보기 : 연습**"
   ]
  },
  {
   "cell_type": "code",
   "execution_count": 167,
   "metadata": {},
   "outputs": [],
   "source": [
    "html = urlopen(df['URL'][0])\n",
    "soup_tmp = BeautifulSoup(html, 'html.parser')"
   ]
  },
  {
   "cell_type": "code",
   "execution_count": 168,
   "metadata": {},
   "outputs": [
    {
     "data": {
      "text/plain": [
       "<p class=\"addy\">\n",
       "<em>$10. 2109 W. Chicago Ave., 773-772-0406, <a href=\"http://www.theoldoaktap.com/\">theoldoaktap.com</a></em></p>"
      ]
     },
     "execution_count": 168,
     "metadata": {},
     "output_type": "execute_result"
    }
   ],
   "source": [
    "soup_tmp.find('p', class_ = 'addy')"
   ]
  },
  {
   "cell_type": "code",
   "execution_count": 132,
   "metadata": {},
   "outputs": [
    {
     "data": {
      "text/plain": [
       "'\\n$10. 2109 W. Chicago Ave., 773-772-0406, theoldoaktap.com'"
      ]
     },
     "execution_count": 132,
     "metadata": {},
     "output_type": "execute_result"
    }
   ],
   "source": [
    "price_tmp = soup_tmp.find('p', class_ = 'addy').get_text()\n",
    "price_tmp"
   ]
  },
  {
   "cell_type": "code",
   "execution_count": 134,
   "metadata": {},
   "outputs": [
    {
     "data": {
      "text/plain": [
       "['$10.', '2109', 'W.', 'Chicago', 'Ave.,', '773-772-0406,', 'theoldoaktap.com']"
      ]
     },
     "execution_count": 134,
     "metadata": {},
     "output_type": "execute_result"
    }
   ],
   "source": [
    "price_tmp.split()  # 빈 칸을 기준으로 나누기 "
   ]
  },
  {
   "cell_type": "code",
   "execution_count": 137,
   "metadata": {},
   "outputs": [
    {
     "data": {
      "text/plain": [
       "'$10'"
      ]
     },
     "execution_count": 137,
     "metadata": {},
     "output_type": "execute_result"
    }
   ],
   "source": [
    "price_tmp.split()[0][:-1]  # 가격, '.'은 제거"
   ]
  },
  {
   "cell_type": "code",
   "execution_count": 142,
   "metadata": {},
   "outputs": [
    {
     "data": {
      "text/plain": [
       "'2109 W. Chicago Ave.'"
      ]
     },
     "execution_count": 142,
     "metadata": {},
     "output_type": "execute_result"
    }
   ],
   "source": [
    "' '.join(price_tmp.split()[1:-2])[:-1]  # 1 ~ -1 인덱스를 붙이고, 맨 뒤의 ',' 삭제"
   ]
  },
  {
   "cell_type": "markdown",
   "metadata": {},
   "source": [
    "#### **3.3.2 3페이지만 돌려보기**"
   ]
  },
  {
   "cell_type": "code",
   "execution_count": 169,
   "metadata": {},
   "outputs": [
    {
     "data": {
      "application/vnd.jupyter.widget-view+json": {
       "model_id": "cdf2c03994e24e708cca55cb3995b9e3",
       "version_major": 2,
       "version_minor": 0
      },
      "text/plain": [
       "HBox(children=(IntProgress(value=0, max=3), HTML(value='')))"
      ]
     },
     "metadata": {},
     "output_type": "display_data"
    }
   ],
   "source": [
    "from tqdm import tqdm_notebook\n",
    "\n",
    "price = []\n",
    "address = []\n",
    "\n",
    "for n in tqdm_notebook(df.index[:3]):\n",
    "    html = urlopen(df['URL'][n]) # df[열][행]\n",
    "    soup_tmp = BeautifulSoup(html, 'lxml')\n",
    "    \n",
    "    gettings = soup_tmp.find('p', class_ = 'addy').get_text()\n",
    "    \n",
    "    price.append(gettings.split()[0][:-1])\n",
    "    address.append(' '.join(gettings.split()[1:-2])[:-1])\n",
    "    "
   ]
  },
  {
   "cell_type": "markdown",
   "metadata": {},
   "source": [
    "#### **3.3.3 50페이지 전부 돌리기 feat. 상태 진행바 적용**"
   ]
  },
  {
   "cell_type": "code",
   "execution_count": 170,
   "metadata": {},
   "outputs": [
    {
     "data": {
      "application/vnd.jupyter.widget-view+json": {
       "model_id": "80add9445c40442e9ce8f48bad32d673",
       "version_major": 2,
       "version_minor": 0
      },
      "text/plain": [
       "HBox(children=(IntProgress(value=0, max=50), HTML(value='')))"
      ]
     },
     "metadata": {},
     "output_type": "display_data"
    }
   ],
   "source": [
    "from tqdm import tqdm_notebook\n",
    "\n",
    "price = []\n",
    "address = []\n",
    "\n",
    "for n in tqdm_notebook(df.index):\n",
    "    html = urlopen(df['URL'][n]) \n",
    "    soup_tmp = BeautifulSoup(html, 'lxml')\n",
    "    \n",
    "    gettings = soup_tmp.find('p', class_ = 'addy').get_text()\n",
    "    \n",
    "    price.append(gettings.split()[0][:-1])  # 가격 정보, '.' 제거\n",
    "    address.append(' '.join(gettings.split()[1:-2])[:-1])  # 주소정보, ',' 제거\n",
    "    "
   ]
  },
  {
   "cell_type": "code",
   "execution_count": null,
   "metadata": {},
   "outputs": [],
   "source": []
  }
 ],
 "metadata": {
  "kernelspec": {
   "display_name": "Python 3",
   "language": "python",
   "name": "python3"
  },
  "language_info": {
   "codemirror_mode": {
    "name": "ipython",
    "version": 3
   },
   "file_extension": ".py",
   "mimetype": "text/x-python",
   "name": "python",
   "nbconvert_exporter": "python",
   "pygments_lexer": "ipython3",
   "version": "3.7.3"
  }
 },
 "nbformat": 4,
 "nbformat_minor": 2
}
